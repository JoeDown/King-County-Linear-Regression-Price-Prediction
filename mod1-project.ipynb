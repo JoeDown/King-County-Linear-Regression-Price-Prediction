{
 "cells": [
  {
   "cell_type": "code",
   "execution_count": 1,
   "metadata": {
    "collapsed": true
   },
   "outputs": [],
   "source": [
    "# Set our python libraries to dynamically reload so that we can edit\n",
    "# the external text file while calling the function in the notebook\n",
    "# without having to restart the kernel\n",
    "%load_ext autoreload\n",
    "%autoreload 2"
   ]
  },
  {
   "cell_type": "code",
   "execution_count": 2,
   "metadata": {
    "collapsed": true
   },
   "outputs": [],
   "source": [
    "# Import all of the functions from our custom functions library\n",
    "from function_library import *"
   ]
  },
  {
   "cell_type": "markdown",
   "metadata": {},
   "source": [
    "# Goal"
   ]
  },
  {
   "cell_type": "markdown",
   "metadata": {},
   "source": [
    "In this project, we aim to be able to predict the housing prices in King County using linear regression."
   ]
  },
  {
   "cell_type": "markdown",
   "metadata": {
    "collapsed": true
   },
   "source": [
    "# Data overview"
   ]
  },
  {
   "cell_type": "markdown",
   "metadata": {},
   "source": [
    "View data descriptions"
   ]
  },
  {
   "cell_type": "code",
   "execution_count": 4,
   "metadata": {},
   "outputs": [
    {
     "name": "stdout",
     "output_type": "stream",
     "text": [
      "# Column Names and descriptions for Kings County Data Set\r\n",
      "* **id** - unique identified for a house\r\n",
      "* **dateDate** - house was sold\r\n",
      "* **pricePrice** -  is prediction target\r\n",
      "* **bedroomsNumber** -  of Bedrooms/House\r\n",
      "* **bathroomsNumber** -  of bathrooms/bedrooms\r\n",
      "* **sqft_livingsquare** -  footage of the home\r\n",
      "* **sqft_lotsquare** -  footage of the lot\r\n",
      "* **floorsTotal** -  floors (levels) in house\r\n",
      "* **waterfront** - House which has a view to a waterfront\r\n",
      "* **view** - Has been viewed\r\n",
      "* **condition** - How good the condition is ( Overall )\r\n",
      "* **grade** - overall grade given to the housing unit, based on King County grading system\r\n",
      "* **sqft_above** - square footage of house apart from basement\r\n",
      "* **sqft_basement** - square footage of the basement\r\n",
      "* **yr_built** - Built Year\r\n",
      "* **yr_renovated** - Year when house was renovated\r\n",
      "* **zipcode** - zip\r\n",
      "* **lat** - Latitude coordinate\r\n",
      "* **long** - Longitude coordinate\r\n",
      "* **sqft_living15** - The square footage of interior housing living space for the nearest 15 neighbors\r\n",
      "* **sqft_lot15** - The square footage of the land lots of the nearest 15 neighbors\r\n"
     ]
    }
   ],
   "source": [
    "! cat column_names.md"
   ]
  },
  {
   "cell_type": "markdown",
   "metadata": {},
   "source": [
    "# Data cleaning"
   ]
  },
  {
   "cell_type": "markdown",
   "metadata": {},
   "source": [
    "# Deriving new features"
   ]
  },
  {
   "cell_type": "markdown",
   "metadata": {},
   "source": [
    "# Data transformation"
   ]
  },
  {
   "cell_type": "markdown",
   "metadata": {},
   "source": [
    "# Data normalization"
   ]
  },
  {
   "cell_type": "markdown",
   "metadata": {},
   "source": [
    "# Checking for outliers"
   ]
  },
  {
   "cell_type": "markdown",
   "metadata": {},
   "source": [
    "# Linear regression assumptions"
   ]
  },
  {
   "cell_type": "markdown",
   "metadata": {},
   "source": [
    "# Feature selection"
   ]
  },
  {
   "cell_type": "markdown",
   "metadata": {},
   "source": [
    "# Model building"
   ]
  },
  {
   "cell_type": "markdown",
   "metadata": {},
   "source": [
    "# Model evaluation"
   ]
  },
  {
   "cell_type": "markdown",
   "metadata": {},
   "source": [
    "# Interpretation of coefficients in regression"
   ]
  },
  {
   "cell_type": "markdown",
   "metadata": {},
   "source": [
    "# Influence of different modeling choices on prediction accuracy"
   ]
  },
  {
   "cell_type": "markdown",
   "metadata": {},
   "source": [
    "# Log transform of target variable?"
   ]
  },
  {
   "cell_type": "code",
   "execution_count": null,
   "metadata": {
    "collapsed": true
   },
   "outputs": [],
   "source": []
  }
 ],
 "metadata": {
  "kernelspec": {
   "display_name": "learn-env",
   "language": "python",
   "name": "learn-env"
  },
  "language_info": {
   "codemirror_mode": {
    "name": "ipython",
    "version": 3
   },
   "file_extension": ".py",
   "mimetype": "text/x-python",
   "name": "python",
   "nbconvert_exporter": "python",
   "pygments_lexer": "ipython3",
   "version": "3.6.6"
  }
 },
 "nbformat": 4,
 "nbformat_minor": 2
}
