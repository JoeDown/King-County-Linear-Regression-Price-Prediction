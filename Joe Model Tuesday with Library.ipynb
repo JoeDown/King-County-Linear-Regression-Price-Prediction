{
 "cells": [
  {
   "cell_type": "code",
   "execution_count": 58,
   "metadata": {},
   "outputs": [
    {
     "name": "stdout",
     "output_type": "stream",
     "text": [
      "The autoreload extension is already loaded. To reload it, use:\n",
      "  %reload_ext autoreload\n"
     ]
    }
   ],
   "source": [
    "%load_ext autoreload\n",
    "%autoreload 2"
   ]
  },
  {
   "cell_type": "code",
   "execution_count": 59,
   "metadata": {},
   "outputs": [],
   "source": [
    "#!pip install autopep8\n"
   ]
  },
  {
   "cell_type": "code",
   "execution_count": 60,
   "metadata": {},
   "outputs": [],
   "source": [
    "import statsmodels.api as sm\n",
    "from sklearn.model_selection import KFold \n"
   ]
  },
  {
   "cell_type": "code",
   "execution_count": 61,
   "metadata": {},
   "outputs": [],
   "source": [
    "from function_library import *\n",
    "\n"
   ]
  },
  {
   "cell_type": "code",
   "execution_count": 62,
   "metadata": {},
   "outputs": [],
   "source": [
    "df_kc = load_kc_data(filename='kc_house_data.csv', verbose=False)\n",
    "\n"
   ]
  },
  {
   "cell_type": "code",
   "execution_count": null,
   "metadata": {},
   "outputs": [],
   "source": []
  },
  {
   "cell_type": "code",
   "execution_count": null,
   "metadata": {},
   "outputs": [],
   "source": [
    "\n",
    "\n"
   ]
  },
  {
   "cell_type": "code",
   "execution_count": null,
   "metadata": {},
   "outputs": [],
   "source": []
  },
  {
   "cell_type": "code",
   "execution_count": 63,
   "metadata": {
    "scrolled": true
   },
   "outputs": [
    {
     "name": "stdout",
     "output_type": "stream",
     "text": [
      "[   34    44    54 ... 21555 21559 21569]\n",
      "[    3     6    17 ... 21586 21591 21595]\n",
      "[    0    19    29 ... 21566 21583 21585]\n",
      "[    5     8    14 ... 21561 21567 21592]\n",
      "[    7    15    23 ... 21550 21558 21572]\n",
      "[    2    10    22 ... 21587 21589 21590]\n",
      "[   12    21    28 ... 21524 21527 21576]\n",
      "[    1     4    18 ... 21574 21580 21593]\n",
      "[   16    24    25 ... 21557 21578 21588]\n",
      "[    9    11    13 ... 21582 21594 21596]\n"
     ]
    }
   ],
   "source": [
    "kf = KFold(n_splits=10, random_state=42, shuffle=True) # Define the split - into 10 folds \n",
    "kf.get_n_splits(df_kc) # returns the number of splitting iterations in the cross-validator\n",
    "#print(kf) \n",
    "# https://stackoverflow.com/questions/45115964/separate-pandas-dataframe-using-sklearns-kfold\n",
    "\n",
    "train_list=[]\n",
    "test_list=[]\n",
    "for train_index, test_index in kf.split(df_kc): \n",
    "    test_list.append(df_kc.iloc[train_index])\n",
    "    train_list.append(df_kc.iloc[train_index])\n",
    "    print(test_index)\n",
    "    \n",
    "#     locals()['df{0}_train'.format(i)] = df.iloc[train_index]\n",
    "#     locals()['df{0}_test'.format(i)] = df.iloc[test_index]\n",
    "    \n",
    "\n",
    "    \n"
   ]
  },
  {
   "cell_type": "code",
   "execution_count": null,
   "metadata": {},
   "outputs": [],
   "source": [
    "\n"
   ]
  },
  {
   "cell_type": "code",
   "execution_count": 64,
   "metadata": {},
   "outputs": [
    {
     "data": {
      "text/plain": [
       "pandas.core.frame.DataFrame"
      ]
     },
     "execution_count": 64,
     "metadata": {},
     "output_type": "execute_result"
    }
   ],
   "source": [
    "type(X)"
   ]
  },
  {
   "cell_type": "code",
   "execution_count": 65,
   "metadata": {},
   "outputs": [
    {
     "data": {
      "text/plain": [
       "(19437, 12)"
      ]
     },
     "execution_count": 65,
     "metadata": {},
     "output_type": "execute_result"
    }
   ],
   "source": [
    "X.shape"
   ]
  },
  {
   "cell_type": "code",
   "execution_count": 66,
   "metadata": {},
   "outputs": [
    {
     "ename": "NameError",
     "evalue": "name 'shape' is not defined",
     "output_type": "error",
     "traceback": [
      "\u001b[0;31m---------------------------------------------------------------------------\u001b[0m",
      "\u001b[0;31mNameError\u001b[0m                                 Traceback (most recent call last)",
      "\u001b[0;32m<ipython-input-66-8ae9a22b4037>\u001b[0m in \u001b[0;36m<module>\u001b[0;34m()\u001b[0m\n\u001b[0;32m----> 1\u001b[0;31m \u001b[0mshape\u001b[0m\u001b[0;34m\u001b[0m\u001b[0m\n\u001b[0m",
      "\u001b[0;31mNameError\u001b[0m: name 'shape' is not defined"
     ]
    }
   ],
   "source": [
    "shape"
   ]
  },
  {
   "cell_type": "code",
   "execution_count": 67,
   "metadata": {},
   "outputs": [
    {
     "data": {
      "text/plain": [
       "(19437,)"
      ]
     },
     "execution_count": 67,
     "metadata": {},
     "output_type": "execute_result"
    }
   ],
   "source": [
    "y.shape"
   ]
  },
  {
   "cell_type": "code",
   "execution_count": 68,
   "metadata": {},
   "outputs": [
    {
     "data": {
      "text/plain": [
       "pandas.core.series.Series"
      ]
     },
     "execution_count": 68,
     "metadata": {},
     "output_type": "execute_result"
    }
   ],
   "source": [
    "type(y)"
   ]
  },
  {
   "cell_type": "code",
   "execution_count": 69,
   "metadata": {},
   "outputs": [
    {
     "data": {
      "text/plain": [
       "statsmodels.regression.linear_model.RegressionResultsWrapper"
      ]
     },
     "execution_count": 69,
     "metadata": {},
     "output_type": "execute_result"
    }
   ],
   "source": [
    "type(model)"
   ]
  },
  {
   "cell_type": "code",
   "execution_count": 70,
   "metadata": {},
   "outputs": [
    {
     "data": {
      "text/plain": [
       "bedrooms                  int64\n",
       "bathrooms               float64\n",
       "sqft_living               int64\n",
       "sqft_lot                  int64\n",
       "waterfront              float64\n",
       "grade                     int64\n",
       "sqft_above                int64\n",
       "yr_built                  int64\n",
       "sqft_living15             int64\n",
       "sqft_lot15                int64\n",
       "time_since_renovated    float64\n",
       "zipcode_rank              int64\n",
       "dtype: object"
      ]
     },
     "execution_count": 70,
     "metadata": {},
     "output_type": "execute_result"
    }
   ],
   "source": [
    "X.dtypes"
   ]
  },
  {
   "cell_type": "code",
   "execution_count": 82,
   "metadata": {},
   "outputs": [
    {
     "name": "stderr",
     "output_type": "stream",
     "text": [
      "/Users/josephdown/mod1-project/function_library.py:50: SettingWithCopyWarning: \n",
      "A value is trying to be set on a copy of a slice from a DataFrame.\n",
      "Try using .loc[row_indexer,col_indexer] = value instead\n",
      "\n",
      "See the caveats in the documentation: http://pandas.pydata.org/pandas-docs/stable/indexing.html#indexing-view-versus-copy\n",
      "  df[columns] = functions(df[columns])\n",
      "/Users/josephdown/mod1-project/function_library.py:72: SettingWithCopyWarning: \n",
      "A value is trying to be set on a copy of a slice from a DataFrame.\n",
      "Try using .loc[row_indexer,col_indexer] = value instead\n",
      "\n",
      "See the caveats in the documentation: http://pandas.pydata.org/pandas-docs/stable/indexing.html#indexing-view-versus-copy\n",
      "  df[column] = df[column].map(lambda x: x.year)\n",
      "/Users/josephdown/mod1-project/function_library.py:548: SettingWithCopyWarning: \n",
      "A value is trying to be set on a copy of a slice from a DataFrame.\n",
      "Try using .loc[row_indexer,col_indexer] = value instead\n",
      "\n",
      "See the caveats in the documentation: http://pandas.pydata.org/pandas-docs/stable/indexing.html#indexing-view-versus-copy\n",
      "  updated_df[column]=df[column].fillna(df[column].median())\n",
      "/anaconda3/envs/learn-env/lib/python3.6/site-packages/pandas/core/indexing.py:543: SettingWithCopyWarning: \n",
      "A value is trying to be set on a copy of a slice from a DataFrame.\n",
      "Try using .loc[row_indexer,col_indexer] = value instead\n",
      "\n",
      "See the caveats in the documentation: http://pandas.pydata.org/pandas-docs/stable/indexing.html#indexing-view-versus-copy\n",
      "  self.obj[item] = s\n",
      "/Users/josephdown/mod1-project/function_library.py:514: SettingWithCopyWarning: \n",
      "A value is trying to be set on a copy of a slice from a DataFrame.\n",
      "Try using .loc[row_indexer,col_indexer] = value instead\n",
      "\n",
      "See the caveats in the documentation: http://pandas.pydata.org/pandas-docs/stable/indexing.html#indexing-view-versus-copy\n",
      "  df['time_since_renovated']= df[date_of_purchase]-df[year_renovated]\n",
      "/Users/josephdown/mod1-project/function_library.py:495: SettingWithCopyWarning: \n",
      "A value is trying to be set on a copy of a slice from a DataFrame.\n",
      "Try using .loc[row_indexer,col_indexer] = value instead\n",
      "\n",
      "See the caveats in the documentation: http://pandas.pydata.org/pandas-docs/stable/indexing.html#indexing-view-versus-copy\n",
      "  updated_df['zipcode_rank'] = [0]*len(df.index)\n",
      "/Users/josephdown/mod1-project/function_library.py:505: SettingWithCopyWarning: \n",
      "A value is trying to be set on a copy of a slice from a DataFrame.\n",
      "Try using .loc[row_indexer,col_indexer] = value instead\n",
      "\n",
      "See the caveats in the documentation: http://pandas.pydata.org/pandas-docs/stable/indexing.html#indexing-view-versus-copy\n",
      "  updated_df['zipcode_rank']=rank_holding_list\n"
     ]
    },
    {
     "name": "stdout",
     "output_type": "stream",
     "text": [
      "The R squared of the model generated from the training data is: \n",
      "0.9073435198602059\n",
      "The square root of the mean squared error for the training data is: \n",
      "199514.5478363773\n",
      " \n",
      "The R squared of the model generated from the training data is: \n",
      "0.9084092005408801\n",
      "The square root of the mean squared error for the training data is: \n",
      "197612.2995607449\n",
      " \n",
      "The R squared of the model generated from the training data is: \n",
      "0.9085911686568908\n",
      "The square root of the mean squared error for the training data is: \n",
      "197539.51140346003\n",
      " \n",
      "The R squared of the model generated from the training data is: \n",
      "0.9095720998805068\n",
      "The square root of the mean squared error for the training data is: \n",
      "195581.07441388787\n",
      " \n",
      "The R squared of the model generated from the training data is: \n",
      "0.9068365896223525\n",
      "The square root of the mean squared error for the training data is: \n",
      "199518.48082310727\n",
      " \n",
      "The R squared of the model generated from the training data is: \n",
      "0.9083210300809648\n",
      "The square root of the mean squared error for the training data is: \n",
      "197283.46542285502\n",
      " \n",
      "The R squared of the model generated from the training data is: \n",
      "0.906881529485478\n",
      "The square root of the mean squared error for the training data is: \n",
      "199182.88350745811\n",
      " \n",
      "The R squared of the model generated from the training data is: \n",
      "0.9067754453764775\n",
      "The square root of the mean squared error for the training data is: \n",
      "199395.9781309515\n",
      " \n",
      "The R squared of the model generated from the training data is: \n",
      "0.9075813002764608\n",
      "The square root of the mean squared error for the training data is: \n",
      "199382.22269728317\n",
      " \n",
      "The R squared of the model generated from the training data is: \n",
      "0.906821314890098\n",
      "The square root of the mean squared error for the training data is: \n",
      "199784.00555635314\n",
      " \n"
     ]
    }
   ],
   "source": [
    "model_summary_list=[0]*10\n",
    "for i in range(10):\n",
    "    df = train_list[i]\n",
    "    df = replace_with_year(df, 'date')\n",
    "    #df = drop_columns(df, [\"id\"])\n",
    "    df = fill_na_with_median(df, 'waterfront')\n",
    "    df = fill_na_with_median(df, 'view')\n",
    "    df = fill_na_with_median(df, 'yr_renovated')\n",
    "    df = replace_values_with_another_column(df, [0], \"yr_renovated\", \"yr_built\", replace_na=True)\n",
    "    df = add_time_since_renovated_feature(df, 'date', 'yr_renovated')\n",
    "    df = add_zipcode_ranking_feature(df, 'zipcode', 'price')\n",
    "    df.drop('sqft_basement', axis=1)\n",
    "\n",
    "    X = train_list[i].drop(['id','date','sqft_basement','price','view','floors','condition','yr_renovated','zipcode','lat','long'],axis=1)\n",
    "    X_test = test_list[i].drop(['id','date','sqft_basement','price','view','floors','condition','yr_renovated','zipcode','lat','long'],axis=1)\n",
    "    y = train_list[i].price\n",
    "    \n",
    "    model = sm.OLS(y, X).fit()\n",
    "    predictions_train = model.predict(X)\n",
    "   # predictions_test = model.predict(X_test)\n",
    "    model_summary_list[i]=model.summary()\n",
    "    \n",
    "    \n",
    "    print('The R squared of the model generated from the training data is: ')\n",
    "    print(model.rsquared)\n",
    "    print('The square root of the mean squared error for the training data is: ')\n",
    "    print(np.sqrt(np.mean((predictions_train-y)**2)))\n",
    "    print(' ')"
   ]
  },
  {
   "cell_type": "code",
   "execution_count": 85,
   "metadata": {
    "scrolled": true
   },
   "outputs": [
    {
     "name": "stderr",
     "output_type": "stream",
     "text": [
      "/Users/josephdown/mod1-project/function_library.py:50: SettingWithCopyWarning: \n",
      "A value is trying to be set on a copy of a slice from a DataFrame.\n",
      "Try using .loc[row_indexer,col_indexer] = value instead\n",
      "\n",
      "See the caveats in the documentation: http://pandas.pydata.org/pandas-docs/stable/indexing.html#indexing-view-versus-copy\n",
      "  df[columns] = functions(df[columns])\n",
      "/Users/josephdown/mod1-project/function_library.py:72: SettingWithCopyWarning: \n",
      "A value is trying to be set on a copy of a slice from a DataFrame.\n",
      "Try using .loc[row_indexer,col_indexer] = value instead\n",
      "\n",
      "See the caveats in the documentation: http://pandas.pydata.org/pandas-docs/stable/indexing.html#indexing-view-versus-copy\n",
      "  df[column] = df[column].map(lambda x: x.year)\n",
      "/Users/josephdown/mod1-project/function_library.py:548: SettingWithCopyWarning: \n",
      "A value is trying to be set on a copy of a slice from a DataFrame.\n",
      "Try using .loc[row_indexer,col_indexer] = value instead\n",
      "\n",
      "See the caveats in the documentation: http://pandas.pydata.org/pandas-docs/stable/indexing.html#indexing-view-versus-copy\n",
      "  updated_df[column]=df[column].fillna(df[column].median())\n",
      "/anaconda3/envs/learn-env/lib/python3.6/site-packages/pandas/core/indexing.py:543: SettingWithCopyWarning: \n",
      "A value is trying to be set on a copy of a slice from a DataFrame.\n",
      "Try using .loc[row_indexer,col_indexer] = value instead\n",
      "\n",
      "See the caveats in the documentation: http://pandas.pydata.org/pandas-docs/stable/indexing.html#indexing-view-versus-copy\n",
      "  self.obj[item] = s\n",
      "/Users/josephdown/mod1-project/function_library.py:514: SettingWithCopyWarning: \n",
      "A value is trying to be set on a copy of a slice from a DataFrame.\n",
      "Try using .loc[row_indexer,col_indexer] = value instead\n",
      "\n",
      "See the caveats in the documentation: http://pandas.pydata.org/pandas-docs/stable/indexing.html#indexing-view-versus-copy\n",
      "  df['time_since_renovated']= df[date_of_purchase]-df[year_renovated]\n",
      "/Users/josephdown/mod1-project/function_library.py:495: SettingWithCopyWarning: \n",
      "A value is trying to be set on a copy of a slice from a DataFrame.\n",
      "Try using .loc[row_indexer,col_indexer] = value instead\n",
      "\n",
      "See the caveats in the documentation: http://pandas.pydata.org/pandas-docs/stable/indexing.html#indexing-view-versus-copy\n",
      "  updated_df['zipcode_rank'] = [0]*len(df.index)\n",
      "/Users/josephdown/mod1-project/function_library.py:505: SettingWithCopyWarning: \n",
      "A value is trying to be set on a copy of a slice from a DataFrame.\n",
      "Try using .loc[row_indexer,col_indexer] = value instead\n",
      "\n",
      "See the caveats in the documentation: http://pandas.pydata.org/pandas-docs/stable/indexing.html#indexing-view-versus-copy\n",
      "  updated_df['zipcode_rank']=rank_holding_list\n"
     ]
    },
    {
     "name": "stdout",
     "output_type": "stream",
     "text": [
      "The R squared of the model generated from the training data is: \n",
      "0.9073435198602059\n",
      "The square root of the mean squared error for the training data is: \n",
      "199514.5478363773\n",
      "The square root of the mean squared error predicted from the testing data is: \n",
      "199514.5478363773\n",
      " \n",
      "The R squared of the model generated from the training data is: \n",
      "0.9084092005408801\n",
      "The square root of the mean squared error for the training data is: \n",
      "197612.2995607449\n",
      "The square root of the mean squared error predicted from the testing data is: \n",
      "197612.2995607449\n",
      " \n",
      "The R squared of the model generated from the training data is: \n",
      "0.9085911686568908\n",
      "The square root of the mean squared error for the training data is: \n",
      "197539.51140346003\n",
      "The square root of the mean squared error predicted from the testing data is: \n",
      "197539.51140346003\n",
      " \n",
      "The R squared of the model generated from the training data is: \n",
      "0.9095720998805068\n",
      "The square root of the mean squared error for the training data is: \n",
      "195581.07441388787\n",
      "The square root of the mean squared error predicted from the testing data is: \n",
      "195581.07441388787\n",
      " \n",
      "The R squared of the model generated from the training data is: \n",
      "0.9068365896223525\n",
      "The square root of the mean squared error for the training data is: \n",
      "199518.48082310727\n",
      "The square root of the mean squared error predicted from the testing data is: \n",
      "199518.48082310727\n",
      " \n",
      "The R squared of the model generated from the training data is: \n",
      "0.9083210300809648\n",
      "The square root of the mean squared error for the training data is: \n",
      "197283.46542285502\n",
      "The square root of the mean squared error predicted from the testing data is: \n",
      "197283.46542285502\n",
      " \n",
      "The R squared of the model generated from the training data is: \n",
      "0.906881529485478\n",
      "The square root of the mean squared error for the training data is: \n",
      "199182.88350745811\n",
      "The square root of the mean squared error predicted from the testing data is: \n",
      "199182.88350745811\n",
      " \n",
      "The R squared of the model generated from the training data is: \n",
      "0.9067754453764775\n",
      "The square root of the mean squared error for the training data is: \n",
      "199395.9781309515\n",
      "The square root of the mean squared error predicted from the testing data is: \n",
      "199395.9781309515\n",
      " \n",
      "The R squared of the model generated from the training data is: \n",
      "0.9075813002764608\n",
      "The square root of the mean squared error for the training data is: \n",
      "199382.22269728317\n",
      "The square root of the mean squared error predicted from the testing data is: \n",
      "199382.22269728317\n",
      " \n",
      "The R squared of the model generated from the training data is: \n",
      "0.906821314890098\n",
      "The square root of the mean squared error for the training data is: \n",
      "199784.00555635314\n",
      "The square root of the mean squared error predicted from the testing data is: \n",
      "199784.00555635314\n",
      " \n"
     ]
    }
   ],
   "source": [
    "model_summary_list=[0]*10\n",
    "for i in range(10):\n",
    "    df = train_list[i]\n",
    "    df = replace_with_year(df, 'date')\n",
    "    #df = drop_columns(df, [\"id\"])\n",
    "    df = fill_na_with_median(df, 'waterfront')\n",
    "    df = fill_na_with_median(df, 'view')\n",
    "    df = fill_na_with_median(df, 'yr_renovated')\n",
    "    df = replace_values_with_another_column(df, [0], \"yr_renovated\", \"yr_built\", replace_na=True)\n",
    "    df = add_time_since_renovated_feature(df, 'date', 'yr_renovated')\n",
    "    df = add_zipcode_ranking_feature(df, 'zipcode', 'price')\n",
    "    df.drop('sqft_basement', axis=1)\n",
    "    #df = replace_values_with_value(df, '?', 'sqft_basement', '0.0')\n",
    "    #df = convert_columns_with_function(df, \"sqft_basement\", pd.to_numeric)\n",
    "    \n",
    "    df_test = test_list[i]\n",
    "    df_test = replace_with_year(df, 'date')\n",
    "    #df = drop_columns(df, [\"id\"])\n",
    "    df_test = fill_na_with_median(df, 'waterfront')\n",
    "    df_test = fill_na_with_median(df, 'view')\n",
    "    df_test = fill_na_with_median(df, 'yr_renovated')\n",
    "    df_test = replace_values_with_another_column(df, [0], \"yr_renovated\", \"yr_built\", replace_na=True)\n",
    "    df_test = add_time_since_renovated_feature(df, 'date', 'yr_renovated')\n",
    "    df_test = add_zipcode_ranking_feature(df, 'zipcode', 'price')\n",
    "    df_test.drop('sqft_basement', axis=1)\n",
    "    #df = replace_values_with_value(df, '?', 'sqft_basement', '0.0')\n",
    "    #df = convert_columns_with_function(df, \"sqft_basement\", pd.to_numeric)\n",
    "\n",
    "    X = df.drop(['id','date','sqft_basement','price','view','floors','condition','yr_renovated','zipcode','lat','long'],axis=1)\n",
    "    X_test = df_test.drop(['id','date','sqft_basement','price','view','floors','condition','yr_renovated','zipcode','lat','long'],axis=1)\n",
    "    y = df.price\n",
    "    \n",
    "    model = sm.OLS(y, X).fit()\n",
    "    predictions_train = model.predict(X)\n",
    "    predictions_test = model.predict(X_test)\n",
    "    model_summary_list[i]=model.summary()\n",
    "    \n",
    "    print('The R squared of the model generated from the training data is: ')\n",
    "    print(model.rsquared)\n",
    "    print('The square root of the mean squared error for the training data is: ')\n",
    "    print(np.sqrt(np.mean((predictions_train-y)**2)))\n",
    "    print('The square root of the mean squared error predicted from the testing data is: ')\n",
    "    print(np.sqrt(np.mean((predictions_train-y)**2)))\n",
    "    print(' ')"
   ]
  },
  {
   "cell_type": "code",
   "execution_count": null,
   "metadata": {},
   "outputs": [],
   "source": [
    "df.columns\n",
    "\n",
    "\n"
   ]
  },
  {
   "cell_type": "code",
   "execution_count": null,
   "metadata": {},
   "outputs": [],
   "source": [
    "from function_library import *"
   ]
  },
  {
   "cell_type": "code",
   "execution_count": null,
   "metadata": {},
   "outputs": [],
   "source": [
    "model_summary_list=[0]*10\n",
    "for i in range(10):\n",
    "    df = train_list[i]\n",
    "    df = replace_with_year(df, 'date')\n",
    "    #df = drop_columns(df, [\"id\"])\n",
    "    df = fill_na_with_median(df, 'waterfront')\n",
    "    df = fill_na_with_median(df, 'view')\n",
    "    df = fill_na_with_median(df, 'yr_renovated')\n",
    "    df = replace_values_with_another_column(df, [0], \"yr_renovated\", \"yr_built\", replace_na=True)\n",
    "    df = convert_float_to_datetime(df, 'yr_renovated')\n",
    "    df = date_to_date_time(df, 'date')\n",
    "    df = time_since_rennovated_added_in_days(df, 'date', 'yr_renovated')\n",
    "    #df = add_time_since_renovated_feature(df, 'date', 'yr_renovated')\n",
    "    df = add_zipcode_ranking_feature(df, 'zipcode', 'price')\n",
    "    df.drop('sqft_basement', axis=1)\n",
    "    #df = replace_values_with_value(df, '?', 'sqft_basement', '0.0')\n",
    "    #df = convert_columns_with_function(df, \"sqft_basement\", pd.to_numeric)\n",
    "\n",
    "    X = train_list[i].drop(['id','date','price','view','floors','condition','yr_renovated','zipcode','lat','long'],axis=1)\n",
    "    X_test = test_list[i].drop(['id','date','price','view','floors','condition','yr_renovated','zipcode','lat','long'],axis=1)\n",
    "    y = train_list[i].price\n",
    "    #need to add a constant value?  See example below\n",
    "    model = sm.OLS(y, X).fit()\n",
    "    predictions_train = model.predict(X)\n",
    "    predictions_test = model.predict(X_test)\n",
    "    model_summary_list[i]=model.summary()\n",
    "    print(model.rsquared)"
   ]
  },
  {
   "cell_type": "code",
   "execution_count": null,
   "metadata": {},
   "outputs": [],
   "source": [
    "df_kc.head()"
   ]
  },
  {
   "cell_type": "code",
   "execution_count": 80,
   "metadata": {},
   "outputs": [
    {
     "data": {
      "text/plain": [
       "(19438, 12)"
      ]
     },
     "execution_count": 80,
     "metadata": {},
     "output_type": "execute_result"
    }
   ],
   "source": [
    "X.shape\n",
    "\n",
    "\n"
   ]
  },
  {
   "cell_type": "code",
   "execution_count": 81,
   "metadata": {},
   "outputs": [
    {
     "data": {
      "text/plain": [
       "(19438, 10)"
      ]
     },
     "execution_count": 81,
     "metadata": {},
     "output_type": "execute_result"
    }
   ],
   "source": [
    "X_test.shape"
   ]
  },
  {
   "cell_type": "code",
   "execution_count": null,
   "metadata": {},
   "outputs": [],
   "source": []
  }
 ],
 "metadata": {
  "kernelspec": {
   "display_name": "learn-env",
   "language": "python",
   "name": "learn-env"
  }
 },
 "nbformat": 4,
 "nbformat_minor": 2
}
