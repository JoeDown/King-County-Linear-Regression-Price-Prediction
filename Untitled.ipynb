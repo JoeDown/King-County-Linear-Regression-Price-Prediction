{
 "cells": [
  {
   "cell_type": "code",
   "execution_count": 4,
   "metadata": {},
   "outputs": [
    {
     "ename": "SyntaxError",
     "evalue": "invalid syntax (<ipython-input-4-5a7c14a08c9c>, line 15)",
     "output_type": "error",
     "traceback": [
      "\u001b[0;36m  File \u001b[0;32m\"<ipython-input-4-5a7c14a08c9c>\"\u001b[0;36m, line \u001b[0;32m15\u001b[0m\n\u001b[0;31m    print(\"TRAIN:\", train_index) b\u001b[0m\n\u001b[0m                                 ^\u001b[0m\n\u001b[0;31mSyntaxError\u001b[0m\u001b[0;31m:\u001b[0m invalid syntax\n"
     ]
    }
   ],
   "source": [
    "import numpy as np\n",
    "import pandas as pd\n",
    "from sklearn.model_selection import KFold \n",
    "\n",
    "# create dummy dataframe with 500 rows\n",
    "features = np.random.randint(1, 100, 500)\n",
    "labels = np.random.randint(1, 100, 500)\n",
    "df = pd.DataFrame(data = {\"X\": features, \"Y\": labels})\n",
    "\n",
    "kf = KFold(n_splits=10, random_state=42, shuffle=True) # Define the split - into 10 folds \n",
    "kf.get_n_splits(df) # returns the number of splitting iterations in the cross-validator\n",
    "print(kf) \n",
    "\n",
    "for train_index, test_index in kf.split(df):\n",
    "    print(\"TRAIN:\", train_index) b\n",
    "    print(\"TEST:\", test_index)\n",
    "    X_train, X_test = df.loc[train_index, \"X\"], df.loc[test_index, \"X\"]\n",
    "    y_train, y_test = df.loc[train_index, \"Y\"], df.loc[test_index, \"Y\"]"
   ]
  },
  {
   "cell_type": "code",
   "execution_count": 7,
   "metadata": {},
   "outputs": [
    {
     "data": {
      "text/plain": [
       "20     31\n",
       "21     59\n",
       "48     25\n",
       "50     10\n",
       "54     79\n",
       "58     42\n",
       "71     47\n",
       "87     66\n",
       "99      4\n",
       "102    62\n",
       "106    94\n",
       "121    31\n",
       "130    59\n",
       "149    77\n",
       "151    51\n",
       "160    68\n",
       "169    46\n",
       "174     4\n",
       "187    12\n",
       "188    84\n",
       "189    98\n",
       "191    27\n",
       "214    83\n",
       "235    84\n",
       "243    80\n",
       "252    31\n",
       "257    63\n",
       "270     4\n",
       "276    33\n",
       "293    64\n",
       "308    36\n",
       "313    86\n",
       "330    42\n",
       "343    21\n",
       "344    10\n",
       "348    10\n",
       "359    28\n",
       "363    84\n",
       "372    69\n",
       "385    83\n",
       "413    54\n",
       "435    23\n",
       "443    13\n",
       "445     2\n",
       "456    50\n",
       "458    15\n",
       "459    15\n",
       "466    55\n",
       "496    56\n",
       "499    26\n",
       "Name: X, dtype: int64"
      ]
     },
     "execution_count": 7,
     "metadata": {},
     "output_type": "execute_result"
    }
   ],
   "source": [
    "X_test"
   ]
  },
  {
   "cell_type": "code",
   "execution_count": 3,
   "metadata": {},
   "outputs": [
    {
     "name": "stdout",
     "output_type": "stream",
     "text": [
      "Requirement already satisfied: autopep8 in /anaconda3/lib/python3.6/site-packages (1.4.4)\r\n",
      "Requirement already satisfied: pycodestyle>=2.4.0 in /anaconda3/lib/python3.6/site-packages (from autopep8) (2.5.0)\r\n"
     ]
    }
   ],
   "source": [
    "!pip install autopep8"
   ]
  },
  {
   "cell_type": "code",
   "execution_count": null,
   "metadata": {},
   "outputs": [],
   "source": []
  }
 ],
 "metadata": {
  "kernelspec": {
   "display_name": "learn-env",
   "language": "python",
   "name": "learn-env"
  },
  "language_info": {
   "codemirror_mode": {
    "name": "ipython",
    "version": 3
   },
   "file_extension": ".py",
   "mimetype": "text/x-python",
   "name": "python",
   "nbconvert_exporter": "python",
   "pygments_lexer": "ipython3",
   "version": "3.6.6"
  }
 },
 "nbformat": 4,
 "nbformat_minor": 2
}
