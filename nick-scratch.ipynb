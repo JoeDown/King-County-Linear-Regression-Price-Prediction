{
 "cells": [
  {
   "cell_type": "code",
   "execution_count": 16,
   "metadata": {
    "collapsed": true
   },
   "outputs": [],
   "source": [
    "%load_ext autoreload\n",
    "%autoreload 2"
   ]
  },
  {
   "cell_type": "code",
   "execution_count": 17,
   "metadata": {
    "collapsed": true
   },
   "outputs": [],
   "source": [
    "from function_library import *"
   ]
  },
  {
   "cell_type": "code",
   "execution_count": 3,
   "metadata": {},
   "outputs": [
    {
     "name": "stdout",
     "output_type": "stream",
     "text": [
      "hello joe\n"
     ]
    }
   ],
   "source": [
    "hello()"
   ]
  },
  {
   "cell_type": "code",
   "execution_count": 4,
   "metadata": {},
   "outputs": [
    {
     "name": "stdout",
     "output_type": "stream",
     "text": [
      "Joe-Exploratory.ipynb      foo.ipynb\r\n",
      "Joe-Scratch-Work.ipynb     function_library.py\r\n",
      "LICENSE                    kc_house_data.csv\r\n",
      "README.md                  kc_house_data_original.csv\r\n",
      "\u001b[1m\u001b[36m__pycache__\u001b[m\u001b[m                mod1-project.ipynb\r\n",
      "column_names.md            nick-scratch.ipynb\r\n"
     ]
    }
   ],
   "source": [
    "!ls"
   ]
  },
  {
   "cell_type": "code",
   "execution_count": 5,
   "metadata": {},
   "outputs": [
    {
     "name": "stdout",
     "output_type": "stream",
     "text": [
      "Joe-Exploratory.ipynb      foo.ipynb\r\n",
      "Joe-Scratch-Work.ipynb     function_library.py\r\n",
      "LICENSE                    kc_house_data.csv\r\n",
      "README.md                  kc_house_data_original.csv\r\n",
      "\u001b[1m\u001b[36m__pycache__\u001b[m\u001b[m                mod1-project.ipynb\r\n",
      "column_names.md            nick-scratch.ipynb\r\n"
     ]
    }
   ],
   "source": [
    "!ls"
   ]
  },
  {
   "cell_type": "code",
   "execution_count": 6,
   "metadata": {
    "collapsed": true
   },
   "outputs": [],
   "source": [
    "import pandas as pd"
   ]
  },
  {
   "cell_type": "code",
   "execution_count": 7,
   "metadata": {
    "collapsed": true
   },
   "outputs": [],
   "source": [
    "df = pd.read_csv(\"kc_house_data.csv\")"
   ]
  },
  {
   "cell_type": "code",
   "execution_count": 8,
   "metadata": {},
   "outputs": [
    {
     "data": {
      "text/html": [
       "<div>\n",
       "<style scoped>\n",
       "    .dataframe tbody tr th:only-of-type {\n",
       "        vertical-align: middle;\n",
       "    }\n",
       "\n",
       "    .dataframe tbody tr th {\n",
       "        vertical-align: top;\n",
       "    }\n",
       "\n",
       "    .dataframe thead th {\n",
       "        text-align: right;\n",
       "    }\n",
       "</style>\n",
       "<table border=\"1\" class=\"dataframe\">\n",
       "  <thead>\n",
       "    <tr style=\"text-align: right;\">\n",
       "      <th></th>\n",
       "      <th>id</th>\n",
       "      <th>date</th>\n",
       "      <th>price</th>\n",
       "      <th>bedrooms</th>\n",
       "      <th>bathrooms</th>\n",
       "      <th>sqft_living</th>\n",
       "      <th>sqft_lot</th>\n",
       "      <th>floors</th>\n",
       "      <th>waterfront</th>\n",
       "      <th>view</th>\n",
       "      <th>...</th>\n",
       "      <th>grade</th>\n",
       "      <th>sqft_above</th>\n",
       "      <th>sqft_basement</th>\n",
       "      <th>yr_built</th>\n",
       "      <th>yr_renovated</th>\n",
       "      <th>zipcode</th>\n",
       "      <th>lat</th>\n",
       "      <th>long</th>\n",
       "      <th>sqft_living15</th>\n",
       "      <th>sqft_lot15</th>\n",
       "    </tr>\n",
       "  </thead>\n",
       "  <tbody>\n",
       "    <tr>\n",
       "      <th>0</th>\n",
       "      <td>7129300520</td>\n",
       "      <td>10/13/2014</td>\n",
       "      <td>221900.0</td>\n",
       "      <td>3</td>\n",
       "      <td>1.00</td>\n",
       "      <td>1180</td>\n",
       "      <td>5650</td>\n",
       "      <td>1.0</td>\n",
       "      <td>NaN</td>\n",
       "      <td>0.0</td>\n",
       "      <td>...</td>\n",
       "      <td>7</td>\n",
       "      <td>1180</td>\n",
       "      <td>0.0</td>\n",
       "      <td>1955</td>\n",
       "      <td>0.0</td>\n",
       "      <td>98178</td>\n",
       "      <td>47.5112</td>\n",
       "      <td>-122.257</td>\n",
       "      <td>1340</td>\n",
       "      <td>5650</td>\n",
       "    </tr>\n",
       "    <tr>\n",
       "      <th>1</th>\n",
       "      <td>6414100192</td>\n",
       "      <td>12/9/2014</td>\n",
       "      <td>538000.0</td>\n",
       "      <td>3</td>\n",
       "      <td>2.25</td>\n",
       "      <td>2570</td>\n",
       "      <td>7242</td>\n",
       "      <td>2.0</td>\n",
       "      <td>0.0</td>\n",
       "      <td>0.0</td>\n",
       "      <td>...</td>\n",
       "      <td>7</td>\n",
       "      <td>2170</td>\n",
       "      <td>400.0</td>\n",
       "      <td>1951</td>\n",
       "      <td>1991.0</td>\n",
       "      <td>98125</td>\n",
       "      <td>47.7210</td>\n",
       "      <td>-122.319</td>\n",
       "      <td>1690</td>\n",
       "      <td>7639</td>\n",
       "    </tr>\n",
       "    <tr>\n",
       "      <th>2</th>\n",
       "      <td>5631500400</td>\n",
       "      <td>2/25/2015</td>\n",
       "      <td>180000.0</td>\n",
       "      <td>2</td>\n",
       "      <td>1.00</td>\n",
       "      <td>770</td>\n",
       "      <td>10000</td>\n",
       "      <td>1.0</td>\n",
       "      <td>0.0</td>\n",
       "      <td>0.0</td>\n",
       "      <td>...</td>\n",
       "      <td>6</td>\n",
       "      <td>770</td>\n",
       "      <td>0.0</td>\n",
       "      <td>1933</td>\n",
       "      <td>NaN</td>\n",
       "      <td>98028</td>\n",
       "      <td>47.7379</td>\n",
       "      <td>-122.233</td>\n",
       "      <td>2720</td>\n",
       "      <td>8062</td>\n",
       "    </tr>\n",
       "    <tr>\n",
       "      <th>3</th>\n",
       "      <td>2487200875</td>\n",
       "      <td>12/9/2014</td>\n",
       "      <td>604000.0</td>\n",
       "      <td>4</td>\n",
       "      <td>3.00</td>\n",
       "      <td>1960</td>\n",
       "      <td>5000</td>\n",
       "      <td>1.0</td>\n",
       "      <td>0.0</td>\n",
       "      <td>0.0</td>\n",
       "      <td>...</td>\n",
       "      <td>7</td>\n",
       "      <td>1050</td>\n",
       "      <td>910.0</td>\n",
       "      <td>1965</td>\n",
       "      <td>0.0</td>\n",
       "      <td>98136</td>\n",
       "      <td>47.5208</td>\n",
       "      <td>-122.393</td>\n",
       "      <td>1360</td>\n",
       "      <td>5000</td>\n",
       "    </tr>\n",
       "    <tr>\n",
       "      <th>4</th>\n",
       "      <td>1954400510</td>\n",
       "      <td>2/18/2015</td>\n",
       "      <td>510000.0</td>\n",
       "      <td>3</td>\n",
       "      <td>2.00</td>\n",
       "      <td>1680</td>\n",
       "      <td>8080</td>\n",
       "      <td>1.0</td>\n",
       "      <td>0.0</td>\n",
       "      <td>0.0</td>\n",
       "      <td>...</td>\n",
       "      <td>8</td>\n",
       "      <td>1680</td>\n",
       "      <td>0.0</td>\n",
       "      <td>1987</td>\n",
       "      <td>0.0</td>\n",
       "      <td>98074</td>\n",
       "      <td>47.6168</td>\n",
       "      <td>-122.045</td>\n",
       "      <td>1800</td>\n",
       "      <td>7503</td>\n",
       "    </tr>\n",
       "  </tbody>\n",
       "</table>\n",
       "<p>5 rows × 21 columns</p>\n",
       "</div>"
      ],
      "text/plain": [
       "           id        date     price  bedrooms  bathrooms  sqft_living  \\\n",
       "0  7129300520  10/13/2014  221900.0         3       1.00         1180   \n",
       "1  6414100192   12/9/2014  538000.0         3       2.25         2570   \n",
       "2  5631500400   2/25/2015  180000.0         2       1.00          770   \n",
       "3  2487200875   12/9/2014  604000.0         4       3.00         1960   \n",
       "4  1954400510   2/18/2015  510000.0         3       2.00         1680   \n",
       "\n",
       "   sqft_lot  floors  waterfront  view     ...      grade  sqft_above  \\\n",
       "0      5650     1.0         NaN   0.0     ...          7        1180   \n",
       "1      7242     2.0         0.0   0.0     ...          7        2170   \n",
       "2     10000     1.0         0.0   0.0     ...          6         770   \n",
       "3      5000     1.0         0.0   0.0     ...          7        1050   \n",
       "4      8080     1.0         0.0   0.0     ...          8        1680   \n",
       "\n",
       "   sqft_basement yr_built  yr_renovated  zipcode      lat     long  \\\n",
       "0            0.0     1955           0.0    98178  47.5112 -122.257   \n",
       "1          400.0     1951        1991.0    98125  47.7210 -122.319   \n",
       "2            0.0     1933           NaN    98028  47.7379 -122.233   \n",
       "3          910.0     1965           0.0    98136  47.5208 -122.393   \n",
       "4            0.0     1987           0.0    98074  47.6168 -122.045   \n",
       "\n",
       "   sqft_living15  sqft_lot15  \n",
       "0           1340        5650  \n",
       "1           1690        7639  \n",
       "2           2720        8062  \n",
       "3           1360        5000  \n",
       "4           1800        7503  \n",
       "\n",
       "[5 rows x 21 columns]"
      ]
     },
     "execution_count": 8,
     "metadata": {},
     "output_type": "execute_result"
    }
   ],
   "source": [
    "df.head()"
   ]
  },
  {
   "cell_type": "code",
   "execution_count": 9,
   "metadata": {},
   "outputs": [
    {
     "data": {
      "text/plain": [
       "Index(['id', 'date', 'price', 'bedrooms', 'bathrooms', 'sqft_living',\n",
       "       'sqft_lot', 'floors', 'waterfront', 'view', 'condition', 'grade',\n",
       "       'sqft_above', 'sqft_basement', 'yr_built', 'yr_renovated', 'zipcode',\n",
       "       'lat', 'long', 'sqft_living15', 'sqft_lot15'],\n",
       "      dtype='object')"
      ]
     },
     "execution_count": 9,
     "metadata": {},
     "output_type": "execute_result"
    }
   ],
   "source": [
    "df.columns"
   ]
  },
  {
   "cell_type": "code",
   "execution_count": 10,
   "metadata": {},
   "outputs": [
    {
     "name": "stdout",
     "output_type": "stream",
     "text": [
      "<class 'pandas.core.frame.DataFrame'>\n",
      "RangeIndex: 21597 entries, 0 to 21596\n",
      "Data columns (total 21 columns):\n",
      "id               21597 non-null int64\n",
      "date             21597 non-null object\n",
      "price            21597 non-null float64\n",
      "bedrooms         21597 non-null int64\n",
      "bathrooms        21597 non-null float64\n",
      "sqft_living      21597 non-null int64\n",
      "sqft_lot         21597 non-null int64\n",
      "floors           21597 non-null float64\n",
      "waterfront       19221 non-null float64\n",
      "view             21534 non-null float64\n",
      "condition        21597 non-null int64\n",
      "grade            21597 non-null int64\n",
      "sqft_above       21597 non-null int64\n",
      "sqft_basement    21597 non-null object\n",
      "yr_built         21597 non-null int64\n",
      "yr_renovated     17755 non-null float64\n",
      "zipcode          21597 non-null int64\n",
      "lat              21597 non-null float64\n",
      "long             21597 non-null float64\n",
      "sqft_living15    21597 non-null int64\n",
      "sqft_lot15       21597 non-null int64\n",
      "dtypes: float64(8), int64(11), object(2)\n",
      "memory usage: 3.5+ MB\n"
     ]
    }
   ],
   "source": [
    "df.info()"
   ]
  },
  {
   "cell_type": "code",
   "execution_count": 11,
   "metadata": {},
   "outputs": [
    {
     "name": "stdout",
     "output_type": "stream",
     "text": [
      "# Column Names and descriptions for Kings County Data Set\r\n",
      "* **id** - unique identified for a house\r\n",
      "* **dateDate** - house was sold\r\n",
      "* **pricePrice** -  is prediction target\r\n",
      "* **bedroomsNumber** -  of Bedrooms/House\r\n",
      "* **bathroomsNumber** -  of bathrooms/bedrooms\r\n",
      "* **sqft_livingsquare** -  footage of the home\r\n",
      "* **sqft_lotsquare** -  footage of the lot\r\n",
      "* **floorsTotal** -  floors (levels) in house\r\n",
      "* **waterfront** - House which has a view to a waterfront\r\n",
      "* **view** - Has been viewed\r\n",
      "* **condition** - How good the condition is ( Overall )\r\n",
      "* **grade** - overall grade given to the housing unit, based on King County grading system\r\n",
      "* **sqft_above** - square footage of house apart from basement\r\n",
      "* **sqft_basement** - square footage of the basement\r\n",
      "* **yr_built** - Built Year\r\n",
      "* **yr_renovated** - Year when house was renovated\r\n",
      "* **zipcode** - zip\r\n",
      "* **lat** - Latitude coordinate\r\n",
      "* **long** - Longitude coordinate\r\n",
      "* **sqft_living15** - The square footage of interior housing living space for the nearest 15 neighbors\r\n",
      "* **sqft_lot15** - The square footage of the land lots of the nearest 15 neighbors\r\n"
     ]
    }
   ],
   "source": [
    "!cat column_names.md"
   ]
  },
  {
   "cell_type": "code",
   "execution_count": 12,
   "metadata": {},
   "outputs": [
    {
     "data": {
      "text/plain": [
       "21420"
      ]
     },
     "execution_count": 12,
     "metadata": {},
     "output_type": "execute_result"
    }
   ],
   "source": [
    "len(df[\"id\"].unique())"
   ]
  },
  {
   "cell_type": "code",
   "execution_count": null,
   "metadata": {
    "collapsed": true
   },
   "outputs": [],
   "source": []
  },
  {
   "cell_type": "code",
   "execution_count": 13,
   "metadata": {},
   "outputs": [
    {
     "data": {
      "text/plain": [
       "177"
      ]
     },
     "execution_count": 13,
     "metadata": {},
     "output_type": "execute_result"
    }
   ],
   "source": [
    "sum(df.duplicated([\"id\"]))"
   ]
  },
  {
   "cell_type": "markdown",
   "metadata": {},
   "source": [
    "# 177 duplicated id values, despite the fact that the documentation says that it is unique"
   ]
  },
  {
   "cell_type": "code",
   "execution_count": 14,
   "metadata": {},
   "outputs": [
    {
     "data": {
      "text/plain": [
       "0"
      ]
     },
     "execution_count": 14,
     "metadata": {},
     "output_type": "execute_result"
    }
   ],
   "source": [
    "sum(df.duplicated())"
   ]
  },
  {
   "cell_type": "markdown",
   "metadata": {},
   "source": [
    "# There are no entire rows that are duplicated"
   ]
  },
  {
   "cell_type": "code",
   "execution_count": 15,
   "metadata": {},
   "outputs": [
    {
     "name": "stderr",
     "output_type": "stream",
     "text": [
      "/Users/npschafer/anaconda/envs/learn-env/lib/python3.6/site-packages/ipykernel_launcher.py:1: UserWarning: Boolean Series key will be reindexed to match DataFrame index.\n",
      "  \"\"\"Entry point for launching an IPython kernel.\n"
     ]
    },
    {
     "data": {
      "text/html": [
       "<div>\n",
       "<style scoped>\n",
       "    .dataframe tbody tr th:only-of-type {\n",
       "        vertical-align: middle;\n",
       "    }\n",
       "\n",
       "    .dataframe tbody tr th {\n",
       "        vertical-align: top;\n",
       "    }\n",
       "\n",
       "    .dataframe thead th {\n",
       "        text-align: right;\n",
       "    }\n",
       "</style>\n",
       "<table border=\"1\" class=\"dataframe\">\n",
       "  <thead>\n",
       "    <tr style=\"text-align: right;\">\n",
       "      <th></th>\n",
       "      <th>id</th>\n",
       "      <th>date</th>\n",
       "      <th>price</th>\n",
       "      <th>bedrooms</th>\n",
       "      <th>bathrooms</th>\n",
       "      <th>sqft_living</th>\n",
       "      <th>sqft_lot</th>\n",
       "      <th>floors</th>\n",
       "      <th>waterfront</th>\n",
       "      <th>view</th>\n",
       "      <th>...</th>\n",
       "      <th>grade</th>\n",
       "      <th>sqft_above</th>\n",
       "      <th>sqft_basement</th>\n",
       "      <th>yr_built</th>\n",
       "      <th>yr_renovated</th>\n",
       "      <th>zipcode</th>\n",
       "      <th>lat</th>\n",
       "      <th>long</th>\n",
       "      <th>sqft_living15</th>\n",
       "      <th>sqft_lot15</th>\n",
       "    </tr>\n",
       "  </thead>\n",
       "  <tbody>\n",
       "    <tr>\n",
       "      <th>2495</th>\n",
       "      <td>1000102</td>\n",
       "      <td>4/22/2015</td>\n",
       "      <td>300000.0</td>\n",
       "      <td>6</td>\n",
       "      <td>3.00</td>\n",
       "      <td>2400</td>\n",
       "      <td>9373</td>\n",
       "      <td>2.0</td>\n",
       "      <td>0.0</td>\n",
       "      <td>0.0</td>\n",
       "      <td>...</td>\n",
       "      <td>7</td>\n",
       "      <td>2400</td>\n",
       "      <td>0.0</td>\n",
       "      <td>1991</td>\n",
       "      <td>0.0</td>\n",
       "      <td>98002</td>\n",
       "      <td>47.3262</td>\n",
       "      <td>-122.214</td>\n",
       "      <td>2060</td>\n",
       "      <td>7316</td>\n",
       "    </tr>\n",
       "    <tr>\n",
       "      <th>16801</th>\n",
       "      <td>7200179</td>\n",
       "      <td>4/24/2015</td>\n",
       "      <td>175000.0</td>\n",
       "      <td>2</td>\n",
       "      <td>1.00</td>\n",
       "      <td>840</td>\n",
       "      <td>12750</td>\n",
       "      <td>1.0</td>\n",
       "      <td>0.0</td>\n",
       "      <td>0.0</td>\n",
       "      <td>...</td>\n",
       "      <td>6</td>\n",
       "      <td>840</td>\n",
       "      <td>0.0</td>\n",
       "      <td>1925</td>\n",
       "      <td>NaN</td>\n",
       "      <td>98055</td>\n",
       "      <td>47.4840</td>\n",
       "      <td>-122.211</td>\n",
       "      <td>1480</td>\n",
       "      <td>6969</td>\n",
       "    </tr>\n",
       "    <tr>\n",
       "      <th>11422</th>\n",
       "      <td>109200390</td>\n",
       "      <td>10/20/2014</td>\n",
       "      <td>250000.0</td>\n",
       "      <td>3</td>\n",
       "      <td>1.75</td>\n",
       "      <td>1480</td>\n",
       "      <td>3900</td>\n",
       "      <td>1.0</td>\n",
       "      <td>0.0</td>\n",
       "      <td>0.0</td>\n",
       "      <td>...</td>\n",
       "      <td>7</td>\n",
       "      <td>1480</td>\n",
       "      <td>0.0</td>\n",
       "      <td>1980</td>\n",
       "      <td>0.0</td>\n",
       "      <td>98023</td>\n",
       "      <td>47.2977</td>\n",
       "      <td>-122.367</td>\n",
       "      <td>1830</td>\n",
       "      <td>6956</td>\n",
       "    </tr>\n",
       "    <tr>\n",
       "      <th>12406</th>\n",
       "      <td>123039336</td>\n",
       "      <td>12/8/2014</td>\n",
       "      <td>244900.0</td>\n",
       "      <td>1</td>\n",
       "      <td>1.00</td>\n",
       "      <td>620</td>\n",
       "      <td>8261</td>\n",
       "      <td>1.0</td>\n",
       "      <td>0.0</td>\n",
       "      <td>0.0</td>\n",
       "      <td>...</td>\n",
       "      <td>5</td>\n",
       "      <td>620</td>\n",
       "      <td>0.0</td>\n",
       "      <td>1939</td>\n",
       "      <td>NaN</td>\n",
       "      <td>98106</td>\n",
       "      <td>47.5138</td>\n",
       "      <td>-122.364</td>\n",
       "      <td>1180</td>\n",
       "      <td>8244</td>\n",
       "    </tr>\n",
       "    <tr>\n",
       "      <th>7786</th>\n",
       "      <td>251300110</td>\n",
       "      <td>1/14/2015</td>\n",
       "      <td>358000.0</td>\n",
       "      <td>3</td>\n",
       "      <td>2.25</td>\n",
       "      <td>2510</td>\n",
       "      <td>12013</td>\n",
       "      <td>2.0</td>\n",
       "      <td>0.0</td>\n",
       "      <td>0.0</td>\n",
       "      <td>...</td>\n",
       "      <td>8</td>\n",
       "      <td>2510</td>\n",
       "      <td>0.0</td>\n",
       "      <td>1988</td>\n",
       "      <td>0.0</td>\n",
       "      <td>98003</td>\n",
       "      <td>47.3473</td>\n",
       "      <td>-122.314</td>\n",
       "      <td>1870</td>\n",
       "      <td>8017</td>\n",
       "    </tr>\n",
       "    <tr>\n",
       "      <th>9226</th>\n",
       "      <td>302000375</td>\n",
       "      <td>5/6/2015</td>\n",
       "      <td>250000.0</td>\n",
       "      <td>3</td>\n",
       "      <td>2.00</td>\n",
       "      <td>1050</td>\n",
       "      <td>18304</td>\n",
       "      <td>1.0</td>\n",
       "      <td>0.0</td>\n",
       "      <td>0.0</td>\n",
       "      <td>...</td>\n",
       "      <td>7</td>\n",
       "      <td>1050</td>\n",
       "      <td>0.0</td>\n",
       "      <td>1953</td>\n",
       "      <td>0.0</td>\n",
       "      <td>98001</td>\n",
       "      <td>47.3206</td>\n",
       "      <td>-122.269</td>\n",
       "      <td>1690</td>\n",
       "      <td>15675</td>\n",
       "    </tr>\n",
       "    <tr>\n",
       "      <th>14842</th>\n",
       "      <td>324000530</td>\n",
       "      <td>3/23/2015</td>\n",
       "      <td>459000.0</td>\n",
       "      <td>3</td>\n",
       "      <td>1.00</td>\n",
       "      <td>1320</td>\n",
       "      <td>5000</td>\n",
       "      <td>1.5</td>\n",
       "      <td>0.0</td>\n",
       "      <td>0.0</td>\n",
       "      <td>...</td>\n",
       "      <td>7</td>\n",
       "      <td>1320</td>\n",
       "      <td>0.0</td>\n",
       "      <td>1912</td>\n",
       "      <td>0.0</td>\n",
       "      <td>98116</td>\n",
       "      <td>47.5711</td>\n",
       "      <td>-122.386</td>\n",
       "      <td>1320</td>\n",
       "      <td>4179</td>\n",
       "    </tr>\n",
       "    <tr>\n",
       "      <th>7172</th>\n",
       "      <td>526059224</td>\n",
       "      <td>2/6/2015</td>\n",
       "      <td>470000.0</td>\n",
       "      <td>4</td>\n",
       "      <td>1.75</td>\n",
       "      <td>1650</td>\n",
       "      <td>7276</td>\n",
       "      <td>1.0</td>\n",
       "      <td>0.0</td>\n",
       "      <td>0.0</td>\n",
       "      <td>...</td>\n",
       "      <td>7</td>\n",
       "      <td>1010</td>\n",
       "      <td>640.0</td>\n",
       "      <td>1977</td>\n",
       "      <td>0.0</td>\n",
       "      <td>98011</td>\n",
       "      <td>47.7721</td>\n",
       "      <td>-122.206</td>\n",
       "      <td>1840</td>\n",
       "      <td>8550</td>\n",
       "    </tr>\n",
       "    <tr>\n",
       "      <th>17368</th>\n",
       "      <td>641900050</td>\n",
       "      <td>2/6/2015</td>\n",
       "      <td>499950.0</td>\n",
       "      <td>4</td>\n",
       "      <td>2.25</td>\n",
       "      <td>2160</td>\n",
       "      <td>8817</td>\n",
       "      <td>1.0</td>\n",
       "      <td>0.0</td>\n",
       "      <td>0.0</td>\n",
       "      <td>...</td>\n",
       "      <td>7</td>\n",
       "      <td>1460</td>\n",
       "      <td>700.0</td>\n",
       "      <td>1965</td>\n",
       "      <td>0.0</td>\n",
       "      <td>98133</td>\n",
       "      <td>47.7595</td>\n",
       "      <td>-122.356</td>\n",
       "      <td>1880</td>\n",
       "      <td>8817</td>\n",
       "    </tr>\n",
       "    <tr>\n",
       "      <th>19537</th>\n",
       "      <td>643300040</td>\n",
       "      <td>3/13/2015</td>\n",
       "      <td>719521.0</td>\n",
       "      <td>4</td>\n",
       "      <td>1.75</td>\n",
       "      <td>1920</td>\n",
       "      <td>9500</td>\n",
       "      <td>1.0</td>\n",
       "      <td>0.0</td>\n",
       "      <td>0.0</td>\n",
       "      <td>...</td>\n",
       "      <td>7</td>\n",
       "      <td>1470</td>\n",
       "      <td>450.0</td>\n",
       "      <td>1966</td>\n",
       "      <td>0.0</td>\n",
       "      <td>98006</td>\n",
       "      <td>47.5683</td>\n",
       "      <td>-122.177</td>\n",
       "      <td>1820</td>\n",
       "      <td>10091</td>\n",
       "    </tr>\n",
       "    <tr>\n",
       "      <th>15286</th>\n",
       "      <td>705730280</td>\n",
       "      <td>4/21/2015</td>\n",
       "      <td>335000.0</td>\n",
       "      <td>3</td>\n",
       "      <td>2.50</td>\n",
       "      <td>1740</td>\n",
       "      <td>5267</td>\n",
       "      <td>2.0</td>\n",
       "      <td>0.0</td>\n",
       "      <td>0.0</td>\n",
       "      <td>...</td>\n",
       "      <td>7</td>\n",
       "      <td>1740</td>\n",
       "      <td>0.0</td>\n",
       "      <td>1999</td>\n",
       "      <td>0.0</td>\n",
       "      <td>98038</td>\n",
       "      <td>47.3777</td>\n",
       "      <td>-122.023</td>\n",
       "      <td>2180</td>\n",
       "      <td>5000</td>\n",
       "    </tr>\n",
       "    <tr>\n",
       "      <th>9267</th>\n",
       "      <td>722039087</td>\n",
       "      <td>5/4/2015</td>\n",
       "      <td>329000.0</td>\n",
       "      <td>2</td>\n",
       "      <td>1.00</td>\n",
       "      <td>990</td>\n",
       "      <td>57499</td>\n",
       "      <td>1.0</td>\n",
       "      <td>0.0</td>\n",
       "      <td>0.0</td>\n",
       "      <td>...</td>\n",
       "      <td>6</td>\n",
       "      <td>990</td>\n",
       "      <td>0.0</td>\n",
       "      <td>1949</td>\n",
       "      <td>0.0</td>\n",
       "      <td>98070</td>\n",
       "      <td>47.4145</td>\n",
       "      <td>-122.463</td>\n",
       "      <td>2090</td>\n",
       "      <td>27442</td>\n",
       "    </tr>\n",
       "    <tr>\n",
       "      <th>3782</th>\n",
       "      <td>723049156</td>\n",
       "      <td>11/12/2014</td>\n",
       "      <td>284700.0</td>\n",
       "      <td>3</td>\n",
       "      <td>1.00</td>\n",
       "      <td>1700</td>\n",
       "      <td>8645</td>\n",
       "      <td>1.0</td>\n",
       "      <td>0.0</td>\n",
       "      <td>0.0</td>\n",
       "      <td>...</td>\n",
       "      <td>6</td>\n",
       "      <td>1700</td>\n",
       "      <td>0.0</td>\n",
       "      <td>1955</td>\n",
       "      <td>0.0</td>\n",
       "      <td>98146</td>\n",
       "      <td>47.4899</td>\n",
       "      <td>-122.337</td>\n",
       "      <td>1500</td>\n",
       "      <td>7980</td>\n",
       "    </tr>\n",
       "    <tr>\n",
       "      <th>824</th>\n",
       "      <td>726049190</td>\n",
       "      <td>2/18/2015</td>\n",
       "      <td>431000.0</td>\n",
       "      <td>3</td>\n",
       "      <td>1.00</td>\n",
       "      <td>1810</td>\n",
       "      <td>7200</td>\n",
       "      <td>1.0</td>\n",
       "      <td>NaN</td>\n",
       "      <td>0.0</td>\n",
       "      <td>...</td>\n",
       "      <td>7</td>\n",
       "      <td>1130</td>\n",
       "      <td>680.0</td>\n",
       "      <td>1954</td>\n",
       "      <td>0.0</td>\n",
       "      <td>98133</td>\n",
       "      <td>47.7493</td>\n",
       "      <td>-122.351</td>\n",
       "      <td>1810</td>\n",
       "      <td>8100</td>\n",
       "    </tr>\n",
       "    <tr>\n",
       "      <th>17589</th>\n",
       "      <td>795000620</td>\n",
       "      <td>12/15/2014</td>\n",
       "      <td>124000.0</td>\n",
       "      <td>3</td>\n",
       "      <td>1.00</td>\n",
       "      <td>1080</td>\n",
       "      <td>6250</td>\n",
       "      <td>1.0</td>\n",
       "      <td>0.0</td>\n",
       "      <td>0.0</td>\n",
       "      <td>...</td>\n",
       "      <td>5</td>\n",
       "      <td>1080</td>\n",
       "      <td>0.0</td>\n",
       "      <td>1950</td>\n",
       "      <td>0.0</td>\n",
       "      <td>98168</td>\n",
       "      <td>47.5045</td>\n",
       "      <td>-122.330</td>\n",
       "      <td>1070</td>\n",
       "      <td>6250</td>\n",
       "    </tr>\n",
       "    <tr>\n",
       "      <th>17590</th>\n",
       "      <td>795000620</td>\n",
       "      <td>3/11/2015</td>\n",
       "      <td>157000.0</td>\n",
       "      <td>3</td>\n",
       "      <td>1.00</td>\n",
       "      <td>1080</td>\n",
       "      <td>6250</td>\n",
       "      <td>1.0</td>\n",
       "      <td>NaN</td>\n",
       "      <td>0.0</td>\n",
       "      <td>...</td>\n",
       "      <td>5</td>\n",
       "      <td>1080</td>\n",
       "      <td>0.0</td>\n",
       "      <td>1950</td>\n",
       "      <td>NaN</td>\n",
       "      <td>98168</td>\n",
       "      <td>47.5045</td>\n",
       "      <td>-122.330</td>\n",
       "      <td>1070</td>\n",
       "      <td>6250</td>\n",
       "    </tr>\n",
       "    <tr>\n",
       "      <th>13680</th>\n",
       "      <td>937000330</td>\n",
       "      <td>3/19/2015</td>\n",
       "      <td>246500.0</td>\n",
       "      <td>3</td>\n",
       "      <td>1.50</td>\n",
       "      <td>1170</td>\n",
       "      <td>11530</td>\n",
       "      <td>1.0</td>\n",
       "      <td>0.0</td>\n",
       "      <td>0.0</td>\n",
       "      <td>...</td>\n",
       "      <td>7</td>\n",
       "      <td>1170</td>\n",
       "      <td>0.0</td>\n",
       "      <td>1960</td>\n",
       "      <td>0.0</td>\n",
       "      <td>98198</td>\n",
       "      <td>47.4211</td>\n",
       "      <td>-122.290</td>\n",
       "      <td>1550</td>\n",
       "      <td>8605</td>\n",
       "    </tr>\n",
       "    <tr>\n",
       "      <th>12054</th>\n",
       "      <td>1036400200</td>\n",
       "      <td>4/29/2015</td>\n",
       "      <td>697000.0</td>\n",
       "      <td>4</td>\n",
       "      <td>1.75</td>\n",
       "      <td>1670</td>\n",
       "      <td>13125</td>\n",
       "      <td>1.0</td>\n",
       "      <td>0.0</td>\n",
       "      <td>0.0</td>\n",
       "      <td>...</td>\n",
       "      <td>8</td>\n",
       "      <td>1670</td>\n",
       "      <td>0.0</td>\n",
       "      <td>1973</td>\n",
       "      <td>0.0</td>\n",
       "      <td>98052</td>\n",
       "      <td>47.6315</td>\n",
       "      <td>-122.101</td>\n",
       "      <td>2360</td>\n",
       "      <td>12500</td>\n",
       "    </tr>\n",
       "    <tr>\n",
       "      <th>11183</th>\n",
       "      <td>1139600270</td>\n",
       "      <td>3/24/2015</td>\n",
       "      <td>310000.0</td>\n",
       "      <td>3</td>\n",
       "      <td>2.75</td>\n",
       "      <td>2090</td>\n",
       "      <td>9620</td>\n",
       "      <td>1.0</td>\n",
       "      <td>0.0</td>\n",
       "      <td>0.0</td>\n",
       "      <td>...</td>\n",
       "      <td>8</td>\n",
       "      <td>1340</td>\n",
       "      <td>750.0</td>\n",
       "      <td>1987</td>\n",
       "      <td>0.0</td>\n",
       "      <td>98023</td>\n",
       "      <td>47.2741</td>\n",
       "      <td>-122.337</td>\n",
       "      <td>2150</td>\n",
       "      <td>9660</td>\n",
       "    </tr>\n",
       "    <tr>\n",
       "      <th>12423</th>\n",
       "      <td>1217000340</td>\n",
       "      <td>2/19/2015</td>\n",
       "      <td>340000.0</td>\n",
       "      <td>3</td>\n",
       "      <td>1.00</td>\n",
       "      <td>1840</td>\n",
       "      <td>8100</td>\n",
       "      <td>1.0</td>\n",
       "      <td>0.0</td>\n",
       "      <td>0.0</td>\n",
       "      <td>...</td>\n",
       "      <td>7</td>\n",
       "      <td>920</td>\n",
       "      <td>920.0</td>\n",
       "      <td>1953</td>\n",
       "      <td>0.0</td>\n",
       "      <td>98166</td>\n",
       "      <td>47.4550</td>\n",
       "      <td>-122.350</td>\n",
       "      <td>1250</td>\n",
       "      <td>8100</td>\n",
       "    </tr>\n",
       "    <tr>\n",
       "      <th>9866</th>\n",
       "      <td>1219000473</td>\n",
       "      <td>3/23/2015</td>\n",
       "      <td>371000.0</td>\n",
       "      <td>3</td>\n",
       "      <td>1.75</td>\n",
       "      <td>1570</td>\n",
       "      <td>15330</td>\n",
       "      <td>1.0</td>\n",
       "      <td>0.0</td>\n",
       "      <td>0.0</td>\n",
       "      <td>...</td>\n",
       "      <td>7</td>\n",
       "      <td>1080</td>\n",
       "      <td>490.0</td>\n",
       "      <td>1956</td>\n",
       "      <td>0.0</td>\n",
       "      <td>98166</td>\n",
       "      <td>47.4608</td>\n",
       "      <td>-122.340</td>\n",
       "      <td>1250</td>\n",
       "      <td>13330</td>\n",
       "    </tr>\n",
       "    <tr>\n",
       "      <th>1201</th>\n",
       "      <td>1231000510</td>\n",
       "      <td>5/4/2015</td>\n",
       "      <td>510000.0</td>\n",
       "      <td>3</td>\n",
       "      <td>1.75</td>\n",
       "      <td>1490</td>\n",
       "      <td>3800</td>\n",
       "      <td>1.0</td>\n",
       "      <td>0.0</td>\n",
       "      <td>0.0</td>\n",
       "      <td>...</td>\n",
       "      <td>6</td>\n",
       "      <td>700</td>\n",
       "      <td>790.0</td>\n",
       "      <td>1913</td>\n",
       "      <td>0.0</td>\n",
       "      <td>98118</td>\n",
       "      <td>47.5554</td>\n",
       "      <td>-122.270</td>\n",
       "      <td>2180</td>\n",
       "      <td>4000</td>\n",
       "    </tr>\n",
       "    <tr>\n",
       "      <th>2530</th>\n",
       "      <td>1232000810</td>\n",
       "      <td>3/26/2015</td>\n",
       "      <td>537000.0</td>\n",
       "      <td>3</td>\n",
       "      <td>2.50</td>\n",
       "      <td>1400</td>\n",
       "      <td>4800</td>\n",
       "      <td>1.0</td>\n",
       "      <td>0.0</td>\n",
       "      <td>0.0</td>\n",
       "      <td>...</td>\n",
       "      <td>7</td>\n",
       "      <td>1200</td>\n",
       "      <td>200.0</td>\n",
       "      <td>1921</td>\n",
       "      <td>0.0</td>\n",
       "      <td>98117</td>\n",
       "      <td>47.6865</td>\n",
       "      <td>-122.379</td>\n",
       "      <td>1440</td>\n",
       "      <td>3840</td>\n",
       "    </tr>\n",
       "    <tr>\n",
       "      <th>8497</th>\n",
       "      <td>1237500540</td>\n",
       "      <td>12/22/2014</td>\n",
       "      <td>270000.0</td>\n",
       "      <td>3</td>\n",
       "      <td>1.75</td>\n",
       "      <td>1370</td>\n",
       "      <td>10866</td>\n",
       "      <td>1.0</td>\n",
       "      <td>0.0</td>\n",
       "      <td>0.0</td>\n",
       "      <td>...</td>\n",
       "      <td>6</td>\n",
       "      <td>1370</td>\n",
       "      <td>0.0</td>\n",
       "      <td>1945</td>\n",
       "      <td>NaN</td>\n",
       "      <td>98052</td>\n",
       "      <td>47.6774</td>\n",
       "      <td>-122.164</td>\n",
       "      <td>1580</td>\n",
       "      <td>14250</td>\n",
       "    </tr>\n",
       "    <tr>\n",
       "      <th>14208</th>\n",
       "      <td>1250201165</td>\n",
       "      <td>3/17/2015</td>\n",
       "      <td>474500.0</td>\n",
       "      <td>5</td>\n",
       "      <td>2.50</td>\n",
       "      <td>2000</td>\n",
       "      <td>3600</td>\n",
       "      <td>1.0</td>\n",
       "      <td>0.0</td>\n",
       "      <td>0.0</td>\n",
       "      <td>...</td>\n",
       "      <td>6</td>\n",
       "      <td>1150</td>\n",
       "      <td>850.0</td>\n",
       "      <td>1987</td>\n",
       "      <td>0.0</td>\n",
       "      <td>98144</td>\n",
       "      <td>47.5971</td>\n",
       "      <td>-122.295</td>\n",
       "      <td>1410</td>\n",
       "      <td>3600</td>\n",
       "    </tr>\n",
       "    <tr>\n",
       "      <th>3753</th>\n",
       "      <td>1254200015</td>\n",
       "      <td>4/8/2015</td>\n",
       "      <td>625000.0</td>\n",
       "      <td>3</td>\n",
       "      <td>2.50</td>\n",
       "      <td>2260</td>\n",
       "      <td>5500</td>\n",
       "      <td>1.5</td>\n",
       "      <td>0.0</td>\n",
       "      <td>0.0</td>\n",
       "      <td>...</td>\n",
       "      <td>7</td>\n",
       "      <td>1280</td>\n",
       "      <td>980.0</td>\n",
       "      <td>1910</td>\n",
       "      <td>0.0</td>\n",
       "      <td>98117</td>\n",
       "      <td>47.6810</td>\n",
       "      <td>-122.388</td>\n",
       "      <td>1790</td>\n",
       "      <td>5355</td>\n",
       "    </tr>\n",
       "    <tr>\n",
       "      <th>17567</th>\n",
       "      <td>1423049019</td>\n",
       "      <td>3/31/2015</td>\n",
       "      <td>220000.0</td>\n",
       "      <td>2</td>\n",
       "      <td>1.00</td>\n",
       "      <td>580</td>\n",
       "      <td>7500</td>\n",
       "      <td>1.0</td>\n",
       "      <td>0.0</td>\n",
       "      <td>0.0</td>\n",
       "      <td>...</td>\n",
       "      <td>5</td>\n",
       "      <td>580</td>\n",
       "      <td>0.0</td>\n",
       "      <td>1943</td>\n",
       "      <td>0.0</td>\n",
       "      <td>98178</td>\n",
       "      <td>47.4852</td>\n",
       "      <td>-122.251</td>\n",
       "      <td>1700</td>\n",
       "      <td>11250</td>\n",
       "    </tr>\n",
       "    <tr>\n",
       "      <th>14561</th>\n",
       "      <td>1432400120</td>\n",
       "      <td>5/8/2015</td>\n",
       "      <td>255000.0</td>\n",
       "      <td>3</td>\n",
       "      <td>1.00</td>\n",
       "      <td>1010</td>\n",
       "      <td>7690</td>\n",
       "      <td>1.0</td>\n",
       "      <td>0.0</td>\n",
       "      <td>0.0</td>\n",
       "      <td>...</td>\n",
       "      <td>6</td>\n",
       "      <td>1010</td>\n",
       "      <td>0.0</td>\n",
       "      <td>1958</td>\n",
       "      <td>0.0</td>\n",
       "      <td>98058</td>\n",
       "      <td>47.4501</td>\n",
       "      <td>-122.176</td>\n",
       "      <td>1010</td>\n",
       "      <td>7619</td>\n",
       "    </tr>\n",
       "    <tr>\n",
       "      <th>7239</th>\n",
       "      <td>1446403850</td>\n",
       "      <td>1/14/2015</td>\n",
       "      <td>212000.0</td>\n",
       "      <td>2</td>\n",
       "      <td>1.00</td>\n",
       "      <td>790</td>\n",
       "      <td>7153</td>\n",
       "      <td>1.0</td>\n",
       "      <td>0.0</td>\n",
       "      <td>0.0</td>\n",
       "      <td>...</td>\n",
       "      <td>6</td>\n",
       "      <td>790</td>\n",
       "      <td>0.0</td>\n",
       "      <td>1944</td>\n",
       "      <td>0.0</td>\n",
       "      <td>98168</td>\n",
       "      <td>47.4869</td>\n",
       "      <td>-122.324</td>\n",
       "      <td>810</td>\n",
       "      <td>7128</td>\n",
       "    </tr>\n",
       "    <tr>\n",
       "      <th>10262</th>\n",
       "      <td>1450100390</td>\n",
       "      <td>3/16/2015</td>\n",
       "      <td>208000.0</td>\n",
       "      <td>3</td>\n",
       "      <td>1.00</td>\n",
       "      <td>920</td>\n",
       "      <td>7314</td>\n",
       "      <td>1.0</td>\n",
       "      <td>0.0</td>\n",
       "      <td>0.0</td>\n",
       "      <td>...</td>\n",
       "      <td>6</td>\n",
       "      <td>920</td>\n",
       "      <td>0.0</td>\n",
       "      <td>1960</td>\n",
       "      <td>NaN</td>\n",
       "      <td>98002</td>\n",
       "      <td>47.2892</td>\n",
       "      <td>-122.220</td>\n",
       "      <td>1010</td>\n",
       "      <td>7420</td>\n",
       "    </tr>\n",
       "    <tr>\n",
       "      <th>...</th>\n",
       "      <td>...</td>\n",
       "      <td>...</td>\n",
       "      <td>...</td>\n",
       "      <td>...</td>\n",
       "      <td>...</td>\n",
       "      <td>...</td>\n",
       "      <td>...</td>\n",
       "      <td>...</td>\n",
       "      <td>...</td>\n",
       "      <td>...</td>\n",
       "      <td>...</td>\n",
       "      <td>...</td>\n",
       "      <td>...</td>\n",
       "      <td>...</td>\n",
       "      <td>...</td>\n",
       "      <td>...</td>\n",
       "      <td>...</td>\n",
       "      <td>...</td>\n",
       "      <td>...</td>\n",
       "      <td>...</td>\n",
       "      <td>...</td>\n",
       "    </tr>\n",
       "    <tr>\n",
       "      <th>15352</th>\n",
       "      <td>7972000010</td>\n",
       "      <td>10/21/2014</td>\n",
       "      <td>195000.0</td>\n",
       "      <td>3</td>\n",
       "      <td>1.75</td>\n",
       "      <td>1140</td>\n",
       "      <td>9628</td>\n",
       "      <td>1.0</td>\n",
       "      <td>0.0</td>\n",
       "      <td>0.0</td>\n",
       "      <td>...</td>\n",
       "      <td>7</td>\n",
       "      <td>1140</td>\n",
       "      <td>0.0</td>\n",
       "      <td>1969</td>\n",
       "      <td>NaN</td>\n",
       "      <td>98023</td>\n",
       "      <td>47.2933</td>\n",
       "      <td>-122.372</td>\n",
       "      <td>1510</td>\n",
       "      <td>9633</td>\n",
       "    </tr>\n",
       "    <tr>\n",
       "      <th>8907</th>\n",
       "      <td>7977201065</td>\n",
       "      <td>3/5/2015</td>\n",
       "      <td>740000.0</td>\n",
       "      <td>3</td>\n",
       "      <td>1.75</td>\n",
       "      <td>1380</td>\n",
       "      <td>4590</td>\n",
       "      <td>1.0</td>\n",
       "      <td>0.0</td>\n",
       "      <td>0.0</td>\n",
       "      <td>...</td>\n",
       "      <td>7</td>\n",
       "      <td>930</td>\n",
       "      <td>450.0</td>\n",
       "      <td>1950</td>\n",
       "      <td>0.0</td>\n",
       "      <td>98115</td>\n",
       "      <td>47.6841</td>\n",
       "      <td>-122.293</td>\n",
       "      <td>1320</td>\n",
       "      <td>4692</td>\n",
       "    </tr>\n",
       "    <tr>\n",
       "      <th>2630</th>\n",
       "      <td>7983000200</td>\n",
       "      <td>2/25/2015</td>\n",
       "      <td>250000.0</td>\n",
       "      <td>3</td>\n",
       "      <td>1.00</td>\n",
       "      <td>1300</td>\n",
       "      <td>8284</td>\n",
       "      <td>1.0</td>\n",
       "      <td>0.0</td>\n",
       "      <td>0.0</td>\n",
       "      <td>...</td>\n",
       "      <td>7</td>\n",
       "      <td>1300</td>\n",
       "      <td>0.0</td>\n",
       "      <td>1968</td>\n",
       "      <td>0.0</td>\n",
       "      <td>98003</td>\n",
       "      <td>47.3327</td>\n",
       "      <td>-122.306</td>\n",
       "      <td>1360</td>\n",
       "      <td>7848</td>\n",
       "    </tr>\n",
       "    <tr>\n",
       "      <th>1128</th>\n",
       "      <td>8062900070</td>\n",
       "      <td>2/13/2015</td>\n",
       "      <td>369000.0</td>\n",
       "      <td>5</td>\n",
       "      <td>1.50</td>\n",
       "      <td>2550</td>\n",
       "      <td>6300</td>\n",
       "      <td>1.0</td>\n",
       "      <td>0.0</td>\n",
       "      <td>0.0</td>\n",
       "      <td>...</td>\n",
       "      <td>7</td>\n",
       "      <td>1560</td>\n",
       "      <td>990.0</td>\n",
       "      <td>1959</td>\n",
       "      <td>NaN</td>\n",
       "      <td>98056</td>\n",
       "      <td>47.5014</td>\n",
       "      <td>-122.172</td>\n",
       "      <td>1380</td>\n",
       "      <td>6300</td>\n",
       "    </tr>\n",
       "    <tr>\n",
       "      <th>9498</th>\n",
       "      <td>8103000110</td>\n",
       "      <td>2/5/2015</td>\n",
       "      <td>490000.0</td>\n",
       "      <td>2</td>\n",
       "      <td>1.50</td>\n",
       "      <td>1480</td>\n",
       "      <td>15641</td>\n",
       "      <td>1.0</td>\n",
       "      <td>0.0</td>\n",
       "      <td>0.0</td>\n",
       "      <td>...</td>\n",
       "      <td>7</td>\n",
       "      <td>1480</td>\n",
       "      <td>0.0</td>\n",
       "      <td>1940</td>\n",
       "      <td>0.0</td>\n",
       "      <td>98146</td>\n",
       "      <td>47.5008</td>\n",
       "      <td>-122.366</td>\n",
       "      <td>1520</td>\n",
       "      <td>7525</td>\n",
       "    </tr>\n",
       "    <tr>\n",
       "      <th>18691</th>\n",
       "      <td>8121100395</td>\n",
       "      <td>3/11/2015</td>\n",
       "      <td>645000.0</td>\n",
       "      <td>4</td>\n",
       "      <td>1.50</td>\n",
       "      <td>1600</td>\n",
       "      <td>6180</td>\n",
       "      <td>1.5</td>\n",
       "      <td>0.0</td>\n",
       "      <td>0.0</td>\n",
       "      <td>...</td>\n",
       "      <td>6</td>\n",
       "      <td>1600</td>\n",
       "      <td>0.0</td>\n",
       "      <td>1946</td>\n",
       "      <td>0.0</td>\n",
       "      <td>98118</td>\n",
       "      <td>47.5681</td>\n",
       "      <td>-122.285</td>\n",
       "      <td>1410</td>\n",
       "      <td>6180</td>\n",
       "    </tr>\n",
       "    <tr>\n",
       "      <th>9269</th>\n",
       "      <td>8129700644</td>\n",
       "      <td>4/24/2015</td>\n",
       "      <td>780000.0</td>\n",
       "      <td>3</td>\n",
       "      <td>4.00</td>\n",
       "      <td>2080</td>\n",
       "      <td>2250</td>\n",
       "      <td>3.0</td>\n",
       "      <td>0.0</td>\n",
       "      <td>4.0</td>\n",
       "      <td>...</td>\n",
       "      <td>8</td>\n",
       "      <td>2080</td>\n",
       "      <td>0.0</td>\n",
       "      <td>1997</td>\n",
       "      <td>NaN</td>\n",
       "      <td>98103</td>\n",
       "      <td>47.6598</td>\n",
       "      <td>-122.355</td>\n",
       "      <td>2080</td>\n",
       "      <td>2250</td>\n",
       "    </tr>\n",
       "    <tr>\n",
       "      <th>11191</th>\n",
       "      <td>8161020060</td>\n",
       "      <td>4/14/2015</td>\n",
       "      <td>471000.0</td>\n",
       "      <td>4</td>\n",
       "      <td>2.50</td>\n",
       "      <td>2040</td>\n",
       "      <td>21781</td>\n",
       "      <td>2.0</td>\n",
       "      <td>0.0</td>\n",
       "      <td>0.0</td>\n",
       "      <td>...</td>\n",
       "      <td>8</td>\n",
       "      <td>2040</td>\n",
       "      <td>0.0</td>\n",
       "      <td>1994</td>\n",
       "      <td>0.0</td>\n",
       "      <td>98014</td>\n",
       "      <td>47.6458</td>\n",
       "      <td>-121.904</td>\n",
       "      <td>2410</td>\n",
       "      <td>21781</td>\n",
       "    </tr>\n",
       "    <tr>\n",
       "      <th>20654</th>\n",
       "      <td>8564860270</td>\n",
       "      <td>3/30/2015</td>\n",
       "      <td>502000.0</td>\n",
       "      <td>4</td>\n",
       "      <td>2.50</td>\n",
       "      <td>2680</td>\n",
       "      <td>5539</td>\n",
       "      <td>2.0</td>\n",
       "      <td>NaN</td>\n",
       "      <td>0.0</td>\n",
       "      <td>...</td>\n",
       "      <td>8</td>\n",
       "      <td>2680</td>\n",
       "      <td>0.0</td>\n",
       "      <td>2013</td>\n",
       "      <td>0.0</td>\n",
       "      <td>98045</td>\n",
       "      <td>47.4759</td>\n",
       "      <td>-121.734</td>\n",
       "      <td>2680</td>\n",
       "      <td>5992</td>\n",
       "    </tr>\n",
       "    <tr>\n",
       "      <th>6528</th>\n",
       "      <td>8645530010</td>\n",
       "      <td>3/25/2015</td>\n",
       "      <td>295000.0</td>\n",
       "      <td>3</td>\n",
       "      <td>2.00</td>\n",
       "      <td>1400</td>\n",
       "      <td>7384</td>\n",
       "      <td>1.0</td>\n",
       "      <td>0.0</td>\n",
       "      <td>0.0</td>\n",
       "      <td>...</td>\n",
       "      <td>7</td>\n",
       "      <td>1150</td>\n",
       "      <td>250.0</td>\n",
       "      <td>1979</td>\n",
       "      <td>0.0</td>\n",
       "      <td>98058</td>\n",
       "      <td>47.4655</td>\n",
       "      <td>-122.174</td>\n",
       "      <td>1820</td>\n",
       "      <td>7992</td>\n",
       "    </tr>\n",
       "    <tr>\n",
       "      <th>20038</th>\n",
       "      <td>8648900110</td>\n",
       "      <td>8/26/2014</td>\n",
       "      <td>555000.0</td>\n",
       "      <td>3</td>\n",
       "      <td>2.50</td>\n",
       "      <td>1940</td>\n",
       "      <td>3211</td>\n",
       "      <td>2.0</td>\n",
       "      <td>0.0</td>\n",
       "      <td>0.0</td>\n",
       "      <td>...</td>\n",
       "      <td>8</td>\n",
       "      <td>1940</td>\n",
       "      <td>0.0</td>\n",
       "      <td>2009</td>\n",
       "      <td>0.0</td>\n",
       "      <td>98027</td>\n",
       "      <td>47.5644</td>\n",
       "      <td>-122.093</td>\n",
       "      <td>1880</td>\n",
       "      <td>3078</td>\n",
       "    </tr>\n",
       "    <tr>\n",
       "      <th>17053</th>\n",
       "      <td>8651402750</td>\n",
       "      <td>4/30/2015</td>\n",
       "      <td>219950.0</td>\n",
       "      <td>3</td>\n",
       "      <td>1.50</td>\n",
       "      <td>1210</td>\n",
       "      <td>5200</td>\n",
       "      <td>1.0</td>\n",
       "      <td>0.0</td>\n",
       "      <td>0.0</td>\n",
       "      <td>...</td>\n",
       "      <td>6</td>\n",
       "      <td>1210</td>\n",
       "      <td>0.0</td>\n",
       "      <td>1969</td>\n",
       "      <td>0.0</td>\n",
       "      <td>98042</td>\n",
       "      <td>47.3615</td>\n",
       "      <td>-122.087</td>\n",
       "      <td>1120</td>\n",
       "      <td>5200</td>\n",
       "    </tr>\n",
       "    <tr>\n",
       "      <th>6784</th>\n",
       "      <td>8651510380</td>\n",
       "      <td>12/16/2014</td>\n",
       "      <td>539000.0</td>\n",
       "      <td>3</td>\n",
       "      <td>2.00</td>\n",
       "      <td>2070</td>\n",
       "      <td>9195</td>\n",
       "      <td>1.0</td>\n",
       "      <td>0.0</td>\n",
       "      <td>0.0</td>\n",
       "      <td>...</td>\n",
       "      <td>8</td>\n",
       "      <td>1220</td>\n",
       "      <td>850.0</td>\n",
       "      <td>1982</td>\n",
       "      <td>0.0</td>\n",
       "      <td>98074</td>\n",
       "      <td>47.6491</td>\n",
       "      <td>-122.061</td>\n",
       "      <td>2080</td>\n",
       "      <td>9551</td>\n",
       "    </tr>\n",
       "    <tr>\n",
       "      <th>837</th>\n",
       "      <td>8682262400</td>\n",
       "      <td>5/13/2015</td>\n",
       "      <td>419950.0</td>\n",
       "      <td>2</td>\n",
       "      <td>1.75</td>\n",
       "      <td>1350</td>\n",
       "      <td>4003</td>\n",
       "      <td>1.0</td>\n",
       "      <td>0.0</td>\n",
       "      <td>0.0</td>\n",
       "      <td>...</td>\n",
       "      <td>8</td>\n",
       "      <td>1350</td>\n",
       "      <td>0.0</td>\n",
       "      <td>2004</td>\n",
       "      <td>0.0</td>\n",
       "      <td>98053</td>\n",
       "      <td>47.7176</td>\n",
       "      <td>-122.033</td>\n",
       "      <td>1350</td>\n",
       "      <td>4479</td>\n",
       "    </tr>\n",
       "    <tr>\n",
       "      <th>11575</th>\n",
       "      <td>8807810890</td>\n",
       "      <td>11/5/2014</td>\n",
       "      <td>385000.0</td>\n",
       "      <td>3</td>\n",
       "      <td>1.00</td>\n",
       "      <td>1250</td>\n",
       "      <td>21303</td>\n",
       "      <td>1.0</td>\n",
       "      <td>0.0</td>\n",
       "      <td>0.0</td>\n",
       "      <td>...</td>\n",
       "      <td>6</td>\n",
       "      <td>1250</td>\n",
       "      <td>0.0</td>\n",
       "      <td>1970</td>\n",
       "      <td>NaN</td>\n",
       "      <td>98053</td>\n",
       "      <td>47.6625</td>\n",
       "      <td>-122.059</td>\n",
       "      <td>1250</td>\n",
       "      <td>17920</td>\n",
       "    </tr>\n",
       "    <tr>\n",
       "      <th>718</th>\n",
       "      <td>8820903380</td>\n",
       "      <td>1/2/2015</td>\n",
       "      <td>730000.0</td>\n",
       "      <td>6</td>\n",
       "      <td>2.25</td>\n",
       "      <td>2660</td>\n",
       "      <td>13579</td>\n",
       "      <td>2.0</td>\n",
       "      <td>0.0</td>\n",
       "      <td>0.0</td>\n",
       "      <td>...</td>\n",
       "      <td>7</td>\n",
       "      <td>2660</td>\n",
       "      <td>0.0</td>\n",
       "      <td>1937</td>\n",
       "      <td>1990.0</td>\n",
       "      <td>98125</td>\n",
       "      <td>47.7142</td>\n",
       "      <td>-122.286</td>\n",
       "      <td>1120</td>\n",
       "      <td>8242</td>\n",
       "    </tr>\n",
       "    <tr>\n",
       "      <th>6429</th>\n",
       "      <td>8832900780</td>\n",
       "      <td>4/8/2015</td>\n",
       "      <td>647500.0</td>\n",
       "      <td>5</td>\n",
       "      <td>2.00</td>\n",
       "      <td>1760</td>\n",
       "      <td>21562</td>\n",
       "      <td>1.0</td>\n",
       "      <td>0.0</td>\n",
       "      <td>1.0</td>\n",
       "      <td>...</td>\n",
       "      <td>8</td>\n",
       "      <td>1560</td>\n",
       "      <td>200.0</td>\n",
       "      <td>1959</td>\n",
       "      <td>0.0</td>\n",
       "      <td>98028</td>\n",
       "      <td>47.7597</td>\n",
       "      <td>-122.263</td>\n",
       "      <td>2150</td>\n",
       "      <td>12676</td>\n",
       "    </tr>\n",
       "    <tr>\n",
       "      <th>12908</th>\n",
       "      <td>8910500150</td>\n",
       "      <td>1/20/2015</td>\n",
       "      <td>539000.0</td>\n",
       "      <td>3</td>\n",
       "      <td>1.50</td>\n",
       "      <td>1460</td>\n",
       "      <td>5040</td>\n",
       "      <td>1.0</td>\n",
       "      <td>0.0</td>\n",
       "      <td>0.0</td>\n",
       "      <td>...</td>\n",
       "      <td>7</td>\n",
       "      <td>1100</td>\n",
       "      <td>360.0</td>\n",
       "      <td>1971</td>\n",
       "      <td>0.0</td>\n",
       "      <td>98133</td>\n",
       "      <td>47.7112</td>\n",
       "      <td>-122.357</td>\n",
       "      <td>2330</td>\n",
       "      <td>7560</td>\n",
       "    </tr>\n",
       "    <tr>\n",
       "      <th>10216</th>\n",
       "      <td>8945100320</td>\n",
       "      <td>10/8/2014</td>\n",
       "      <td>224097.0</td>\n",
       "      <td>3</td>\n",
       "      <td>1.50</td>\n",
       "      <td>1420</td>\n",
       "      <td>8580</td>\n",
       "      <td>1.0</td>\n",
       "      <td>0.0</td>\n",
       "      <td>0.0</td>\n",
       "      <td>...</td>\n",
       "      <td>6</td>\n",
       "      <td>1420</td>\n",
       "      <td>0.0</td>\n",
       "      <td>1962</td>\n",
       "      <td>0.0</td>\n",
       "      <td>98023</td>\n",
       "      <td>47.3076</td>\n",
       "      <td>-122.362</td>\n",
       "      <td>1200</td>\n",
       "      <td>8580</td>\n",
       "    </tr>\n",
       "    <tr>\n",
       "      <th>2975</th>\n",
       "      <td>9136103130</td>\n",
       "      <td>5/12/2015</td>\n",
       "      <td>685000.0</td>\n",
       "      <td>2</td>\n",
       "      <td>1.50</td>\n",
       "      <td>1090</td>\n",
       "      <td>4013</td>\n",
       "      <td>1.5</td>\n",
       "      <td>0.0</td>\n",
       "      <td>0.0</td>\n",
       "      <td>...</td>\n",
       "      <td>7</td>\n",
       "      <td>1090</td>\n",
       "      <td>0.0</td>\n",
       "      <td>1900</td>\n",
       "      <td>NaN</td>\n",
       "      <td>98103</td>\n",
       "      <td>47.6652</td>\n",
       "      <td>-122.338</td>\n",
       "      <td>1390</td>\n",
       "      <td>4013</td>\n",
       "    </tr>\n",
       "    <tr>\n",
       "      <th>13011</th>\n",
       "      <td>9211500620</td>\n",
       "      <td>4/28/2015</td>\n",
       "      <td>305000.0</td>\n",
       "      <td>3</td>\n",
       "      <td>2.25</td>\n",
       "      <td>1740</td>\n",
       "      <td>6650</td>\n",
       "      <td>1.0</td>\n",
       "      <td>0.0</td>\n",
       "      <td>0.0</td>\n",
       "      <td>...</td>\n",
       "      <td>7</td>\n",
       "      <td>1240</td>\n",
       "      <td>500.0</td>\n",
       "      <td>1978</td>\n",
       "      <td>0.0</td>\n",
       "      <td>98023</td>\n",
       "      <td>47.2979</td>\n",
       "      <td>-122.379</td>\n",
       "      <td>1740</td>\n",
       "      <td>7000</td>\n",
       "    </tr>\n",
       "    <tr>\n",
       "      <th>6366</th>\n",
       "      <td>9222400605</td>\n",
       "      <td>4/11/2015</td>\n",
       "      <td>850000.0</td>\n",
       "      <td>5</td>\n",
       "      <td>4.00</td>\n",
       "      <td>2980</td>\n",
       "      <td>4500</td>\n",
       "      <td>1.5</td>\n",
       "      <td>0.0</td>\n",
       "      <td>0.0</td>\n",
       "      <td>...</td>\n",
       "      <td>7</td>\n",
       "      <td>2070</td>\n",
       "      <td>910.0</td>\n",
       "      <td>1921</td>\n",
       "      <td>0.0</td>\n",
       "      <td>98115</td>\n",
       "      <td>47.6736</td>\n",
       "      <td>-122.323</td>\n",
       "      <td>1560</td>\n",
       "      <td>4225</td>\n",
       "    </tr>\n",
       "    <tr>\n",
       "      <th>12820</th>\n",
       "      <td>9238500040</td>\n",
       "      <td>2/10/2015</td>\n",
       "      <td>599000.0</td>\n",
       "      <td>3</td>\n",
       "      <td>2.50</td>\n",
       "      <td>2970</td>\n",
       "      <td>23100</td>\n",
       "      <td>1.0</td>\n",
       "      <td>0.0</td>\n",
       "      <td>0.0</td>\n",
       "      <td>...</td>\n",
       "      <td>7</td>\n",
       "      <td>1510</td>\n",
       "      <td>1460.0</td>\n",
       "      <td>1967</td>\n",
       "      <td>0.0</td>\n",
       "      <td>98072</td>\n",
       "      <td>47.7735</td>\n",
       "      <td>-122.133</td>\n",
       "      <td>2390</td>\n",
       "      <td>20300</td>\n",
       "    </tr>\n",
       "    <tr>\n",
       "      <th>16658</th>\n",
       "      <td>9250900104</td>\n",
       "      <td>4/10/2015</td>\n",
       "      <td>496000.0</td>\n",
       "      <td>5</td>\n",
       "      <td>1.75</td>\n",
       "      <td>2110</td>\n",
       "      <td>8500</td>\n",
       "      <td>1.0</td>\n",
       "      <td>0.0</td>\n",
       "      <td>0.0</td>\n",
       "      <td>...</td>\n",
       "      <td>7</td>\n",
       "      <td>1100</td>\n",
       "      <td>1010.0</td>\n",
       "      <td>1962</td>\n",
       "      <td>NaN</td>\n",
       "      <td>98133</td>\n",
       "      <td>47.7737</td>\n",
       "      <td>-122.350</td>\n",
       "      <td>2020</td>\n",
       "      <td>8500</td>\n",
       "    </tr>\n",
       "    <tr>\n",
       "      <th>4339</th>\n",
       "      <td>9353300600</td>\n",
       "      <td>3/26/2015</td>\n",
       "      <td>370000.0</td>\n",
       "      <td>3</td>\n",
       "      <td>1.50</td>\n",
       "      <td>1360</td>\n",
       "      <td>10726</td>\n",
       "      <td>1.0</td>\n",
       "      <td>0.0</td>\n",
       "      <td>0.0</td>\n",
       "      <td>...</td>\n",
       "      <td>7</td>\n",
       "      <td>1360</td>\n",
       "      <td>0.0</td>\n",
       "      <td>1966</td>\n",
       "      <td>0.0</td>\n",
       "      <td>98059</td>\n",
       "      <td>47.4948</td>\n",
       "      <td>-122.134</td>\n",
       "      <td>1650</td>\n",
       "      <td>10726</td>\n",
       "    </tr>\n",
       "    <tr>\n",
       "      <th>2492</th>\n",
       "      <td>9407110710</td>\n",
       "      <td>2/26/2015</td>\n",
       "      <td>322000.0</td>\n",
       "      <td>3</td>\n",
       "      <td>1.75</td>\n",
       "      <td>1510</td>\n",
       "      <td>8400</td>\n",
       "      <td>1.0</td>\n",
       "      <td>0.0</td>\n",
       "      <td>0.0</td>\n",
       "      <td>...</td>\n",
       "      <td>7</td>\n",
       "      <td>980</td>\n",
       "      <td>530.0</td>\n",
       "      <td>1979</td>\n",
       "      <td>0.0</td>\n",
       "      <td>98045</td>\n",
       "      <td>47.4476</td>\n",
       "      <td>-121.771</td>\n",
       "      <td>1500</td>\n",
       "      <td>10125</td>\n",
       "    </tr>\n",
       "    <tr>\n",
       "      <th>4918</th>\n",
       "      <td>9809000020</td>\n",
       "      <td>3/13/2015</td>\n",
       "      <td>1940000.0</td>\n",
       "      <td>5</td>\n",
       "      <td>2.25</td>\n",
       "      <td>3120</td>\n",
       "      <td>16672</td>\n",
       "      <td>2.0</td>\n",
       "      <td>0.0</td>\n",
       "      <td>0.0</td>\n",
       "      <td>...</td>\n",
       "      <td>9</td>\n",
       "      <td>3120</td>\n",
       "      <td>0.0</td>\n",
       "      <td>1969</td>\n",
       "      <td>0.0</td>\n",
       "      <td>98004</td>\n",
       "      <td>47.6458</td>\n",
       "      <td>-122.219</td>\n",
       "      <td>3740</td>\n",
       "      <td>17853</td>\n",
       "    </tr>\n",
       "    <tr>\n",
       "      <th>6340</th>\n",
       "      <td>9828200460</td>\n",
       "      <td>1/6/2015</td>\n",
       "      <td>430000.0</td>\n",
       "      <td>2</td>\n",
       "      <td>1.00</td>\n",
       "      <td>700</td>\n",
       "      <td>4800</td>\n",
       "      <td>1.0</td>\n",
       "      <td>0.0</td>\n",
       "      <td>0.0</td>\n",
       "      <td>...</td>\n",
       "      <td>7</td>\n",
       "      <td>700</td>\n",
       "      <td>0.0</td>\n",
       "      <td>1922</td>\n",
       "      <td>0.0</td>\n",
       "      <td>98122</td>\n",
       "      <td>47.6147</td>\n",
       "      <td>-122.300</td>\n",
       "      <td>1440</td>\n",
       "      <td>4800</td>\n",
       "    </tr>\n",
       "    <tr>\n",
       "      <th>15186</th>\n",
       "      <td>9834200305</td>\n",
       "      <td>2/10/2015</td>\n",
       "      <td>615000.0</td>\n",
       "      <td>3</td>\n",
       "      <td>1.00</td>\n",
       "      <td>1790</td>\n",
       "      <td>3876</td>\n",
       "      <td>1.5</td>\n",
       "      <td>0.0</td>\n",
       "      <td>0.0</td>\n",
       "      <td>...</td>\n",
       "      <td>7</td>\n",
       "      <td>1090</td>\n",
       "      <td>700.0</td>\n",
       "      <td>1904</td>\n",
       "      <td>0.0</td>\n",
       "      <td>98144</td>\n",
       "      <td>47.5750</td>\n",
       "      <td>-122.288</td>\n",
       "      <td>1360</td>\n",
       "      <td>4080</td>\n",
       "    </tr>\n",
       "    <tr>\n",
       "      <th>1085</th>\n",
       "      <td>9834200885</td>\n",
       "      <td>4/20/2015</td>\n",
       "      <td>550000.0</td>\n",
       "      <td>4</td>\n",
       "      <td>2.50</td>\n",
       "      <td>2080</td>\n",
       "      <td>4080</td>\n",
       "      <td>1.0</td>\n",
       "      <td>0.0</td>\n",
       "      <td>0.0</td>\n",
       "      <td>...</td>\n",
       "      <td>7</td>\n",
       "      <td>1040</td>\n",
       "      <td>1040.0</td>\n",
       "      <td>1962</td>\n",
       "      <td>0.0</td>\n",
       "      <td>98144</td>\n",
       "      <td>47.5720</td>\n",
       "      <td>-122.290</td>\n",
       "      <td>1340</td>\n",
       "      <td>4080</td>\n",
       "    </tr>\n",
       "  </tbody>\n",
       "</table>\n",
       "<p>177 rows × 21 columns</p>\n",
       "</div>"
      ],
      "text/plain": [
       "               id        date      price  bedrooms  bathrooms  sqft_living  \\\n",
       "2495      1000102   4/22/2015   300000.0         6       3.00         2400   \n",
       "16801     7200179   4/24/2015   175000.0         2       1.00          840   \n",
       "11422   109200390  10/20/2014   250000.0         3       1.75         1480   \n",
       "12406   123039336   12/8/2014   244900.0         1       1.00          620   \n",
       "7786    251300110   1/14/2015   358000.0         3       2.25         2510   \n",
       "9226    302000375    5/6/2015   250000.0         3       2.00         1050   \n",
       "14842   324000530   3/23/2015   459000.0         3       1.00         1320   \n",
       "7172    526059224    2/6/2015   470000.0         4       1.75         1650   \n",
       "17368   641900050    2/6/2015   499950.0         4       2.25         2160   \n",
       "19537   643300040   3/13/2015   719521.0         4       1.75         1920   \n",
       "15286   705730280   4/21/2015   335000.0         3       2.50         1740   \n",
       "9267    722039087    5/4/2015   329000.0         2       1.00          990   \n",
       "3782    723049156  11/12/2014   284700.0         3       1.00         1700   \n",
       "824     726049190   2/18/2015   431000.0         3       1.00         1810   \n",
       "17589   795000620  12/15/2014   124000.0         3       1.00         1080   \n",
       "17590   795000620   3/11/2015   157000.0         3       1.00         1080   \n",
       "13680   937000330   3/19/2015   246500.0         3       1.50         1170   \n",
       "12054  1036400200   4/29/2015   697000.0         4       1.75         1670   \n",
       "11183  1139600270   3/24/2015   310000.0         3       2.75         2090   \n",
       "12423  1217000340   2/19/2015   340000.0         3       1.00         1840   \n",
       "9866   1219000473   3/23/2015   371000.0         3       1.75         1570   \n",
       "1201   1231000510    5/4/2015   510000.0         3       1.75         1490   \n",
       "2530   1232000810   3/26/2015   537000.0         3       2.50         1400   \n",
       "8497   1237500540  12/22/2014   270000.0         3       1.75         1370   \n",
       "14208  1250201165   3/17/2015   474500.0         5       2.50         2000   \n",
       "3753   1254200015    4/8/2015   625000.0         3       2.50         2260   \n",
       "17567  1423049019   3/31/2015   220000.0         2       1.00          580   \n",
       "14561  1432400120    5/8/2015   255000.0         3       1.00         1010   \n",
       "7239   1446403850   1/14/2015   212000.0         2       1.00          790   \n",
       "10262  1450100390   3/16/2015   208000.0         3       1.00          920   \n",
       "...           ...         ...        ...       ...        ...          ...   \n",
       "15352  7972000010  10/21/2014   195000.0         3       1.75         1140   \n",
       "8907   7977201065    3/5/2015   740000.0         3       1.75         1380   \n",
       "2630   7983000200   2/25/2015   250000.0         3       1.00         1300   \n",
       "1128   8062900070   2/13/2015   369000.0         5       1.50         2550   \n",
       "9498   8103000110    2/5/2015   490000.0         2       1.50         1480   \n",
       "18691  8121100395   3/11/2015   645000.0         4       1.50         1600   \n",
       "9269   8129700644   4/24/2015   780000.0         3       4.00         2080   \n",
       "11191  8161020060   4/14/2015   471000.0         4       2.50         2040   \n",
       "20654  8564860270   3/30/2015   502000.0         4       2.50         2680   \n",
       "6528   8645530010   3/25/2015   295000.0         3       2.00         1400   \n",
       "20038  8648900110   8/26/2014   555000.0         3       2.50         1940   \n",
       "17053  8651402750   4/30/2015   219950.0         3       1.50         1210   \n",
       "6784   8651510380  12/16/2014   539000.0         3       2.00         2070   \n",
       "837    8682262400   5/13/2015   419950.0         2       1.75         1350   \n",
       "11575  8807810890   11/5/2014   385000.0         3       1.00         1250   \n",
       "718    8820903380    1/2/2015   730000.0         6       2.25         2660   \n",
       "6429   8832900780    4/8/2015   647500.0         5       2.00         1760   \n",
       "12908  8910500150   1/20/2015   539000.0         3       1.50         1460   \n",
       "10216  8945100320   10/8/2014   224097.0         3       1.50         1420   \n",
       "2975   9136103130   5/12/2015   685000.0         2       1.50         1090   \n",
       "13011  9211500620   4/28/2015   305000.0         3       2.25         1740   \n",
       "6366   9222400605   4/11/2015   850000.0         5       4.00         2980   \n",
       "12820  9238500040   2/10/2015   599000.0         3       2.50         2970   \n",
       "16658  9250900104   4/10/2015   496000.0         5       1.75         2110   \n",
       "4339   9353300600   3/26/2015   370000.0         3       1.50         1360   \n",
       "2492   9407110710   2/26/2015   322000.0         3       1.75         1510   \n",
       "4918   9809000020   3/13/2015  1940000.0         5       2.25         3120   \n",
       "6340   9828200460    1/6/2015   430000.0         2       1.00          700   \n",
       "15186  9834200305   2/10/2015   615000.0         3       1.00         1790   \n",
       "1085   9834200885   4/20/2015   550000.0         4       2.50         2080   \n",
       "\n",
       "       sqft_lot  floors  waterfront  view     ...      grade  sqft_above  \\\n",
       "2495       9373     2.0         0.0   0.0     ...          7        2400   \n",
       "16801     12750     1.0         0.0   0.0     ...          6         840   \n",
       "11422      3900     1.0         0.0   0.0     ...          7        1480   \n",
       "12406      8261     1.0         0.0   0.0     ...          5         620   \n",
       "7786      12013     2.0         0.0   0.0     ...          8        2510   \n",
       "9226      18304     1.0         0.0   0.0     ...          7        1050   \n",
       "14842      5000     1.5         0.0   0.0     ...          7        1320   \n",
       "7172       7276     1.0         0.0   0.0     ...          7        1010   \n",
       "17368      8817     1.0         0.0   0.0     ...          7        1460   \n",
       "19537      9500     1.0         0.0   0.0     ...          7        1470   \n",
       "15286      5267     2.0         0.0   0.0     ...          7        1740   \n",
       "9267      57499     1.0         0.0   0.0     ...          6         990   \n",
       "3782       8645     1.0         0.0   0.0     ...          6        1700   \n",
       "824        7200     1.0         NaN   0.0     ...          7        1130   \n",
       "17589      6250     1.0         0.0   0.0     ...          5        1080   \n",
       "17590      6250     1.0         NaN   0.0     ...          5        1080   \n",
       "13680     11530     1.0         0.0   0.0     ...          7        1170   \n",
       "12054     13125     1.0         0.0   0.0     ...          8        1670   \n",
       "11183      9620     1.0         0.0   0.0     ...          8        1340   \n",
       "12423      8100     1.0         0.0   0.0     ...          7         920   \n",
       "9866      15330     1.0         0.0   0.0     ...          7        1080   \n",
       "1201       3800     1.0         0.0   0.0     ...          6         700   \n",
       "2530       4800     1.0         0.0   0.0     ...          7        1200   \n",
       "8497      10866     1.0         0.0   0.0     ...          6        1370   \n",
       "14208      3600     1.0         0.0   0.0     ...          6        1150   \n",
       "3753       5500     1.5         0.0   0.0     ...          7        1280   \n",
       "17567      7500     1.0         0.0   0.0     ...          5         580   \n",
       "14561      7690     1.0         0.0   0.0     ...          6        1010   \n",
       "7239       7153     1.0         0.0   0.0     ...          6         790   \n",
       "10262      7314     1.0         0.0   0.0     ...          6         920   \n",
       "...         ...     ...         ...   ...     ...        ...         ...   \n",
       "15352      9628     1.0         0.0   0.0     ...          7        1140   \n",
       "8907       4590     1.0         0.0   0.0     ...          7         930   \n",
       "2630       8284     1.0         0.0   0.0     ...          7        1300   \n",
       "1128       6300     1.0         0.0   0.0     ...          7        1560   \n",
       "9498      15641     1.0         0.0   0.0     ...          7        1480   \n",
       "18691      6180     1.5         0.0   0.0     ...          6        1600   \n",
       "9269       2250     3.0         0.0   4.0     ...          8        2080   \n",
       "11191     21781     2.0         0.0   0.0     ...          8        2040   \n",
       "20654      5539     2.0         NaN   0.0     ...          8        2680   \n",
       "6528       7384     1.0         0.0   0.0     ...          7        1150   \n",
       "20038      3211     2.0         0.0   0.0     ...          8        1940   \n",
       "17053      5200     1.0         0.0   0.0     ...          6        1210   \n",
       "6784       9195     1.0         0.0   0.0     ...          8        1220   \n",
       "837        4003     1.0         0.0   0.0     ...          8        1350   \n",
       "11575     21303     1.0         0.0   0.0     ...          6        1250   \n",
       "718       13579     2.0         0.0   0.0     ...          7        2660   \n",
       "6429      21562     1.0         0.0   1.0     ...          8        1560   \n",
       "12908      5040     1.0         0.0   0.0     ...          7        1100   \n",
       "10216      8580     1.0         0.0   0.0     ...          6        1420   \n",
       "2975       4013     1.5         0.0   0.0     ...          7        1090   \n",
       "13011      6650     1.0         0.0   0.0     ...          7        1240   \n",
       "6366       4500     1.5         0.0   0.0     ...          7        2070   \n",
       "12820     23100     1.0         0.0   0.0     ...          7        1510   \n",
       "16658      8500     1.0         0.0   0.0     ...          7        1100   \n",
       "4339      10726     1.0         0.0   0.0     ...          7        1360   \n",
       "2492       8400     1.0         0.0   0.0     ...          7         980   \n",
       "4918      16672     2.0         0.0   0.0     ...          9        3120   \n",
       "6340       4800     1.0         0.0   0.0     ...          7         700   \n",
       "15186      3876     1.5         0.0   0.0     ...          7        1090   \n",
       "1085       4080     1.0         0.0   0.0     ...          7        1040   \n",
       "\n",
       "       sqft_basement yr_built  yr_renovated  zipcode      lat     long  \\\n",
       "2495             0.0     1991           0.0    98002  47.3262 -122.214   \n",
       "16801            0.0     1925           NaN    98055  47.4840 -122.211   \n",
       "11422            0.0     1980           0.0    98023  47.2977 -122.367   \n",
       "12406            0.0     1939           NaN    98106  47.5138 -122.364   \n",
       "7786             0.0     1988           0.0    98003  47.3473 -122.314   \n",
       "9226             0.0     1953           0.0    98001  47.3206 -122.269   \n",
       "14842            0.0     1912           0.0    98116  47.5711 -122.386   \n",
       "7172           640.0     1977           0.0    98011  47.7721 -122.206   \n",
       "17368          700.0     1965           0.0    98133  47.7595 -122.356   \n",
       "19537          450.0     1966           0.0    98006  47.5683 -122.177   \n",
       "15286            0.0     1999           0.0    98038  47.3777 -122.023   \n",
       "9267             0.0     1949           0.0    98070  47.4145 -122.463   \n",
       "3782             0.0     1955           0.0    98146  47.4899 -122.337   \n",
       "824            680.0     1954           0.0    98133  47.7493 -122.351   \n",
       "17589            0.0     1950           0.0    98168  47.5045 -122.330   \n",
       "17590            0.0     1950           NaN    98168  47.5045 -122.330   \n",
       "13680            0.0     1960           0.0    98198  47.4211 -122.290   \n",
       "12054            0.0     1973           0.0    98052  47.6315 -122.101   \n",
       "11183          750.0     1987           0.0    98023  47.2741 -122.337   \n",
       "12423          920.0     1953           0.0    98166  47.4550 -122.350   \n",
       "9866           490.0     1956           0.0    98166  47.4608 -122.340   \n",
       "1201           790.0     1913           0.0    98118  47.5554 -122.270   \n",
       "2530           200.0     1921           0.0    98117  47.6865 -122.379   \n",
       "8497             0.0     1945           NaN    98052  47.6774 -122.164   \n",
       "14208          850.0     1987           0.0    98144  47.5971 -122.295   \n",
       "3753           980.0     1910           0.0    98117  47.6810 -122.388   \n",
       "17567            0.0     1943           0.0    98178  47.4852 -122.251   \n",
       "14561            0.0     1958           0.0    98058  47.4501 -122.176   \n",
       "7239             0.0     1944           0.0    98168  47.4869 -122.324   \n",
       "10262            0.0     1960           NaN    98002  47.2892 -122.220   \n",
       "...              ...      ...           ...      ...      ...      ...   \n",
       "15352            0.0     1969           NaN    98023  47.2933 -122.372   \n",
       "8907           450.0     1950           0.0    98115  47.6841 -122.293   \n",
       "2630             0.0     1968           0.0    98003  47.3327 -122.306   \n",
       "1128           990.0     1959           NaN    98056  47.5014 -122.172   \n",
       "9498             0.0     1940           0.0    98146  47.5008 -122.366   \n",
       "18691            0.0     1946           0.0    98118  47.5681 -122.285   \n",
       "9269             0.0     1997           NaN    98103  47.6598 -122.355   \n",
       "11191            0.0     1994           0.0    98014  47.6458 -121.904   \n",
       "20654            0.0     2013           0.0    98045  47.4759 -121.734   \n",
       "6528           250.0     1979           0.0    98058  47.4655 -122.174   \n",
       "20038            0.0     2009           0.0    98027  47.5644 -122.093   \n",
       "17053            0.0     1969           0.0    98042  47.3615 -122.087   \n",
       "6784           850.0     1982           0.0    98074  47.6491 -122.061   \n",
       "837              0.0     2004           0.0    98053  47.7176 -122.033   \n",
       "11575            0.0     1970           NaN    98053  47.6625 -122.059   \n",
       "718              0.0     1937        1990.0    98125  47.7142 -122.286   \n",
       "6429           200.0     1959           0.0    98028  47.7597 -122.263   \n",
       "12908          360.0     1971           0.0    98133  47.7112 -122.357   \n",
       "10216            0.0     1962           0.0    98023  47.3076 -122.362   \n",
       "2975             0.0     1900           NaN    98103  47.6652 -122.338   \n",
       "13011          500.0     1978           0.0    98023  47.2979 -122.379   \n",
       "6366           910.0     1921           0.0    98115  47.6736 -122.323   \n",
       "12820         1460.0     1967           0.0    98072  47.7735 -122.133   \n",
       "16658         1010.0     1962           NaN    98133  47.7737 -122.350   \n",
       "4339             0.0     1966           0.0    98059  47.4948 -122.134   \n",
       "2492           530.0     1979           0.0    98045  47.4476 -121.771   \n",
       "4918             0.0     1969           0.0    98004  47.6458 -122.219   \n",
       "6340             0.0     1922           0.0    98122  47.6147 -122.300   \n",
       "15186          700.0     1904           0.0    98144  47.5750 -122.288   \n",
       "1085          1040.0     1962           0.0    98144  47.5720 -122.290   \n",
       "\n",
       "       sqft_living15  sqft_lot15  \n",
       "2495            2060        7316  \n",
       "16801           1480        6969  \n",
       "11422           1830        6956  \n",
       "12406           1180        8244  \n",
       "7786            1870        8017  \n",
       "9226            1690       15675  \n",
       "14842           1320        4179  \n",
       "7172            1840        8550  \n",
       "17368           1880        8817  \n",
       "19537           1820       10091  \n",
       "15286           2180        5000  \n",
       "9267            2090       27442  \n",
       "3782            1500        7980  \n",
       "824             1810        8100  \n",
       "17589           1070        6250  \n",
       "17590           1070        6250  \n",
       "13680           1550        8605  \n",
       "12054           2360       12500  \n",
       "11183           2150        9660  \n",
       "12423           1250        8100  \n",
       "9866            1250       13330  \n",
       "1201            2180        4000  \n",
       "2530            1440        3840  \n",
       "8497            1580       14250  \n",
       "14208           1410        3600  \n",
       "3753            1790        5355  \n",
       "17567           1700       11250  \n",
       "14561           1010        7619  \n",
       "7239             810        7128  \n",
       "10262           1010        7420  \n",
       "...              ...         ...  \n",
       "15352           1510        9633  \n",
       "8907            1320        4692  \n",
       "2630            1360        7848  \n",
       "1128            1380        6300  \n",
       "9498            1520        7525  \n",
       "18691           1410        6180  \n",
       "9269            2080        2250  \n",
       "11191           2410       21781  \n",
       "20654           2680        5992  \n",
       "6528            1820        7992  \n",
       "20038           1880        3078  \n",
       "17053           1120        5200  \n",
       "6784            2080        9551  \n",
       "837             1350        4479  \n",
       "11575           1250       17920  \n",
       "718             1120        8242  \n",
       "6429            2150       12676  \n",
       "12908           2330        7560  \n",
       "10216           1200        8580  \n",
       "2975            1390        4013  \n",
       "13011           1740        7000  \n",
       "6366            1560        4225  \n",
       "12820           2390       20300  \n",
       "16658           2020        8500  \n",
       "4339            1650       10726  \n",
       "2492            1500       10125  \n",
       "4918            3740       17853  \n",
       "6340            1440        4800  \n",
       "15186           1360        4080  \n",
       "1085            1340        4080  \n",
       "\n",
       "[177 rows x 21 columns]"
      ]
     },
     "execution_count": 15,
     "metadata": {},
     "output_type": "execute_result"
    }
   ],
   "source": [
    "df.sort_values([\"id\"])[df.duplicated([\"id\"])]"
   ]
  },
  {
   "cell_type": "code",
   "execution_count": 16,
   "metadata": {},
   "outputs": [
    {
     "name": "stderr",
     "output_type": "stream",
     "text": [
      "/Users/npschafer/anaconda/envs/learn-env/lib/python3.6/site-packages/ipykernel_launcher.py:1: UserWarning: Boolean Series key will be reindexed to match DataFrame index.\n",
      "  \"\"\"Entry point for launching an IPython kernel.\n"
     ]
    },
    {
     "data": {
      "text/html": [
       "<div>\n",
       "<style scoped>\n",
       "    .dataframe tbody tr th:only-of-type {\n",
       "        vertical-align: middle;\n",
       "    }\n",
       "\n",
       "    .dataframe tbody tr th {\n",
       "        vertical-align: top;\n",
       "    }\n",
       "\n",
       "    .dataframe thead th {\n",
       "        text-align: right;\n",
       "    }\n",
       "</style>\n",
       "<table border=\"1\" class=\"dataframe\">\n",
       "  <thead>\n",
       "    <tr style=\"text-align: right;\">\n",
       "      <th></th>\n",
       "      <th>id</th>\n",
       "      <th>date</th>\n",
       "      <th>price</th>\n",
       "      <th>bedrooms</th>\n",
       "      <th>bathrooms</th>\n",
       "      <th>sqft_living</th>\n",
       "      <th>sqft_lot</th>\n",
       "      <th>floors</th>\n",
       "      <th>waterfront</th>\n",
       "      <th>view</th>\n",
       "      <th>...</th>\n",
       "      <th>grade</th>\n",
       "      <th>sqft_above</th>\n",
       "      <th>sqft_basement</th>\n",
       "      <th>yr_built</th>\n",
       "      <th>yr_renovated</th>\n",
       "      <th>zipcode</th>\n",
       "      <th>lat</th>\n",
       "      <th>long</th>\n",
       "      <th>sqft_living15</th>\n",
       "      <th>sqft_lot15</th>\n",
       "    </tr>\n",
       "  </thead>\n",
       "  <tbody>\n",
       "    <tr>\n",
       "      <th>93</th>\n",
       "      <td>6021501535</td>\n",
       "      <td>7/25/2014</td>\n",
       "      <td>430000.0</td>\n",
       "      <td>3</td>\n",
       "      <td>1.50</td>\n",
       "      <td>1580</td>\n",
       "      <td>5000</td>\n",
       "      <td>1.0</td>\n",
       "      <td>0.0</td>\n",
       "      <td>0.0</td>\n",
       "      <td>...</td>\n",
       "      <td>8</td>\n",
       "      <td>1290</td>\n",
       "      <td>290.0</td>\n",
       "      <td>1939</td>\n",
       "      <td>0.0</td>\n",
       "      <td>98117</td>\n",
       "      <td>47.6870</td>\n",
       "      <td>-122.386</td>\n",
       "      <td>1570</td>\n",
       "      <td>4500</td>\n",
       "    </tr>\n",
       "    <tr>\n",
       "      <th>314</th>\n",
       "      <td>4139480200</td>\n",
       "      <td>12/9/2014</td>\n",
       "      <td>1400000.0</td>\n",
       "      <td>4</td>\n",
       "      <td>3.25</td>\n",
       "      <td>4290</td>\n",
       "      <td>12103</td>\n",
       "      <td>1.0</td>\n",
       "      <td>0.0</td>\n",
       "      <td>3.0</td>\n",
       "      <td>...</td>\n",
       "      <td>11</td>\n",
       "      <td>2690</td>\n",
       "      <td>1600.0</td>\n",
       "      <td>1997</td>\n",
       "      <td>0.0</td>\n",
       "      <td>98006</td>\n",
       "      <td>47.5503</td>\n",
       "      <td>-122.102</td>\n",
       "      <td>3860</td>\n",
       "      <td>11244</td>\n",
       "    </tr>\n",
       "    <tr>\n",
       "      <th>325</th>\n",
       "      <td>7520000520</td>\n",
       "      <td>3/11/2015</td>\n",
       "      <td>240500.0</td>\n",
       "      <td>2</td>\n",
       "      <td>1.00</td>\n",
       "      <td>1240</td>\n",
       "      <td>12092</td>\n",
       "      <td>1.0</td>\n",
       "      <td>0.0</td>\n",
       "      <td>0.0</td>\n",
       "      <td>...</td>\n",
       "      <td>6</td>\n",
       "      <td>960</td>\n",
       "      <td>280.0</td>\n",
       "      <td>1922</td>\n",
       "      <td>1984.0</td>\n",
       "      <td>98146</td>\n",
       "      <td>47.4957</td>\n",
       "      <td>-122.352</td>\n",
       "      <td>1820</td>\n",
       "      <td>7460</td>\n",
       "    </tr>\n",
       "    <tr>\n",
       "      <th>345</th>\n",
       "      <td>3969300030</td>\n",
       "      <td>7/23/2014</td>\n",
       "      <td>165000.0</td>\n",
       "      <td>4</td>\n",
       "      <td>1.00</td>\n",
       "      <td>1000</td>\n",
       "      <td>7134</td>\n",
       "      <td>1.0</td>\n",
       "      <td>0.0</td>\n",
       "      <td>0.0</td>\n",
       "      <td>...</td>\n",
       "      <td>6</td>\n",
       "      <td>1000</td>\n",
       "      <td>0.0</td>\n",
       "      <td>1943</td>\n",
       "      <td>0.0</td>\n",
       "      <td>98178</td>\n",
       "      <td>47.4897</td>\n",
       "      <td>-122.240</td>\n",
       "      <td>1020</td>\n",
       "      <td>7138</td>\n",
       "    </tr>\n",
       "    <tr>\n",
       "      <th>371</th>\n",
       "      <td>2231500030</td>\n",
       "      <td>10/1/2014</td>\n",
       "      <td>315000.0</td>\n",
       "      <td>4</td>\n",
       "      <td>2.25</td>\n",
       "      <td>2180</td>\n",
       "      <td>10754</td>\n",
       "      <td>1.0</td>\n",
       "      <td>NaN</td>\n",
       "      <td>0.0</td>\n",
       "      <td>...</td>\n",
       "      <td>7</td>\n",
       "      <td>1100</td>\n",
       "      <td>1080.0</td>\n",
       "      <td>1954</td>\n",
       "      <td>0.0</td>\n",
       "      <td>98133</td>\n",
       "      <td>47.7711</td>\n",
       "      <td>-122.341</td>\n",
       "      <td>1810</td>\n",
       "      <td>6929</td>\n",
       "    </tr>\n",
       "  </tbody>\n",
       "</table>\n",
       "<p>5 rows × 21 columns</p>\n",
       "</div>"
      ],
      "text/plain": [
       "             id       date      price  bedrooms  bathrooms  sqft_living  \\\n",
       "93   6021501535  7/25/2014   430000.0         3       1.50         1580   \n",
       "314  4139480200  12/9/2014  1400000.0         4       3.25         4290   \n",
       "325  7520000520  3/11/2015   240500.0         2       1.00         1240   \n",
       "345  3969300030  7/23/2014   165000.0         4       1.00         1000   \n",
       "371  2231500030  10/1/2014   315000.0         4       2.25         2180   \n",
       "\n",
       "     sqft_lot  floors  waterfront  view     ...      grade  sqft_above  \\\n",
       "93       5000     1.0         0.0   0.0     ...          8        1290   \n",
       "314     12103     1.0         0.0   3.0     ...         11        2690   \n",
       "325     12092     1.0         0.0   0.0     ...          6         960   \n",
       "345      7134     1.0         0.0   0.0     ...          6        1000   \n",
       "371     10754     1.0         NaN   0.0     ...          7        1100   \n",
       "\n",
       "     sqft_basement yr_built  yr_renovated  zipcode      lat     long  \\\n",
       "93           290.0     1939           0.0    98117  47.6870 -122.386   \n",
       "314         1600.0     1997           0.0    98006  47.5503 -122.102   \n",
       "325          280.0     1922        1984.0    98146  47.4957 -122.352   \n",
       "345            0.0     1943           0.0    98178  47.4897 -122.240   \n",
       "371         1080.0     1954           0.0    98133  47.7711 -122.341   \n",
       "\n",
       "     sqft_living15  sqft_lot15  \n",
       "93            1570        4500  \n",
       "314           3860       11244  \n",
       "325           1820        7460  \n",
       "345           1020        7138  \n",
       "371           1810        6929  \n",
       "\n",
       "[5 rows x 21 columns]"
      ]
     },
     "execution_count": 16,
     "metadata": {},
     "output_type": "execute_result"
    }
   ],
   "source": [
    "df[df.sort_values([\"id\"]).duplicated([\"id\"])].head()"
   ]
  },
  {
   "cell_type": "code",
   "execution_count": 17,
   "metadata": {},
   "outputs": [
    {
     "data": {
      "text/plain": [
       "id               6021501535\n",
       "date              7/25/2014\n",
       "price                430000\n",
       "bedrooms                  3\n",
       "bathrooms               1.5\n",
       "sqft_living            1580\n",
       "sqft_lot               5000\n",
       "floors                    1\n",
       "waterfront                0\n",
       "view                      0\n",
       "condition                 3\n",
       "grade                     8\n",
       "sqft_above             1290\n",
       "sqft_basement         290.0\n",
       "yr_built               1939\n",
       "yr_renovated              0\n",
       "zipcode               98117\n",
       "lat                  47.687\n",
       "long               -122.386\n",
       "sqft_living15          1570\n",
       "sqft_lot15             4500\n",
       "Name: 93, dtype: object"
      ]
     },
     "execution_count": 17,
     "metadata": {},
     "output_type": "execute_result"
    }
   ],
   "source": [
    "df.iloc[93]"
   ]
  },
  {
   "cell_type": "code",
   "execution_count": 18,
   "metadata": {},
   "outputs": [
    {
     "data": {
      "text/plain": [
       "id               4168000060\n",
       "date              2/26/2015\n",
       "price                153000\n",
       "bedrooms                  3\n",
       "bathrooms                 1\n",
       "sqft_living            1200\n",
       "sqft_lot              10500\n",
       "floors                    1\n",
       "waterfront                0\n",
       "view                      0\n",
       "condition                 3\n",
       "grade                     7\n",
       "sqft_above             1200\n",
       "sqft_basement           0.0\n",
       "yr_built               1962\n",
       "yr_renovated              0\n",
       "zipcode               98023\n",
       "lat                  47.322\n",
       "long               -122.351\n",
       "sqft_living15          1350\n",
       "sqft_lot15            10500\n",
       "Name: 92, dtype: object"
      ]
     },
     "execution_count": 18,
     "metadata": {},
     "output_type": "execute_result"
    }
   ],
   "source": [
    "df.iloc[92]"
   ]
  },
  {
   "cell_type": "code",
   "execution_count": 19,
   "metadata": {},
   "outputs": [
    {
     "data": {
      "text/plain": [
       "id\n",
       "1000102      2\n",
       "7200179      2\n",
       "109200390    2\n",
       "123039336    2\n",
       "251300110    2\n",
       "dtype: int64"
      ]
     },
     "execution_count": 19,
     "metadata": {},
     "output_type": "execute_result"
    }
   ],
   "source": [
    "df.groupby([\"id\"]).size()[df.groupby([\"id\"]).size()>1].head()"
   ]
  },
  {
   "cell_type": "code",
   "execution_count": 20,
   "metadata": {},
   "outputs": [
    {
     "data": {
      "text/html": [
       "<div>\n",
       "<style scoped>\n",
       "    .dataframe tbody tr th:only-of-type {\n",
       "        vertical-align: middle;\n",
       "    }\n",
       "\n",
       "    .dataframe tbody tr th {\n",
       "        vertical-align: top;\n",
       "    }\n",
       "\n",
       "    .dataframe thead th {\n",
       "        text-align: right;\n",
       "    }\n",
       "</style>\n",
       "<table border=\"1\" class=\"dataframe\">\n",
       "  <thead>\n",
       "    <tr style=\"text-align: right;\">\n",
       "      <th></th>\n",
       "      <th>id</th>\n",
       "      <th>date</th>\n",
       "      <th>price</th>\n",
       "      <th>bedrooms</th>\n",
       "      <th>bathrooms</th>\n",
       "      <th>sqft_living</th>\n",
       "      <th>sqft_lot</th>\n",
       "      <th>floors</th>\n",
       "      <th>waterfront</th>\n",
       "      <th>view</th>\n",
       "      <th>...</th>\n",
       "      <th>grade</th>\n",
       "      <th>sqft_above</th>\n",
       "      <th>sqft_basement</th>\n",
       "      <th>yr_built</th>\n",
       "      <th>yr_renovated</th>\n",
       "      <th>zipcode</th>\n",
       "      <th>lat</th>\n",
       "      <th>long</th>\n",
       "      <th>sqft_living15</th>\n",
       "      <th>sqft_lot15</th>\n",
       "    </tr>\n",
       "  </thead>\n",
       "  <tbody>\n",
       "    <tr>\n",
       "      <th>2494</th>\n",
       "      <td>1000102</td>\n",
       "      <td>9/16/2014</td>\n",
       "      <td>280000.0</td>\n",
       "      <td>6</td>\n",
       "      <td>3.0</td>\n",
       "      <td>2400</td>\n",
       "      <td>9373</td>\n",
       "      <td>2.0</td>\n",
       "      <td>NaN</td>\n",
       "      <td>0.0</td>\n",
       "      <td>...</td>\n",
       "      <td>7</td>\n",
       "      <td>2400</td>\n",
       "      <td>0.0</td>\n",
       "      <td>1991</td>\n",
       "      <td>0.0</td>\n",
       "      <td>98002</td>\n",
       "      <td>47.3262</td>\n",
       "      <td>-122.214</td>\n",
       "      <td>2060</td>\n",
       "      <td>7316</td>\n",
       "    </tr>\n",
       "    <tr>\n",
       "      <th>2495</th>\n",
       "      <td>1000102</td>\n",
       "      <td>4/22/2015</td>\n",
       "      <td>300000.0</td>\n",
       "      <td>6</td>\n",
       "      <td>3.0</td>\n",
       "      <td>2400</td>\n",
       "      <td>9373</td>\n",
       "      <td>2.0</td>\n",
       "      <td>0.0</td>\n",
       "      <td>0.0</td>\n",
       "      <td>...</td>\n",
       "      <td>7</td>\n",
       "      <td>2400</td>\n",
       "      <td>0.0</td>\n",
       "      <td>1991</td>\n",
       "      <td>0.0</td>\n",
       "      <td>98002</td>\n",
       "      <td>47.3262</td>\n",
       "      <td>-122.214</td>\n",
       "      <td>2060</td>\n",
       "      <td>7316</td>\n",
       "    </tr>\n",
       "  </tbody>\n",
       "</table>\n",
       "<p>2 rows × 21 columns</p>\n",
       "</div>"
      ],
      "text/plain": [
       "           id       date     price  bedrooms  bathrooms  sqft_living  \\\n",
       "2494  1000102  9/16/2014  280000.0         6        3.0         2400   \n",
       "2495  1000102  4/22/2015  300000.0         6        3.0         2400   \n",
       "\n",
       "      sqft_lot  floors  waterfront  view     ...      grade  sqft_above  \\\n",
       "2494      9373     2.0         NaN   0.0     ...          7        2400   \n",
       "2495      9373     2.0         0.0   0.0     ...          7        2400   \n",
       "\n",
       "      sqft_basement yr_built  yr_renovated  zipcode      lat     long  \\\n",
       "2494            0.0     1991           0.0    98002  47.3262 -122.214   \n",
       "2495            0.0     1991           0.0    98002  47.3262 -122.214   \n",
       "\n",
       "      sqft_living15  sqft_lot15  \n",
       "2494           2060        7316  \n",
       "2495           2060        7316  \n",
       "\n",
       "[2 rows x 21 columns]"
      ]
     },
     "execution_count": 20,
     "metadata": {},
     "output_type": "execute_result"
    }
   ],
   "source": [
    "df[df[\"id\"] == 1000102]"
   ]
  },
  {
   "cell_type": "markdown",
   "metadata": {},
   "source": [
    "# It looks like a 177 houses were sold more than once, which presumably accounts with the duplicated id values"
   ]
  },
  {
   "cell_type": "code",
   "execution_count": 21,
   "metadata": {},
   "outputs": [
    {
     "name": "stdout",
     "output_type": "stream",
     "text": [
      "<class 'pandas.core.frame.DataFrame'>\n",
      "RangeIndex: 21597 entries, 0 to 21596\n",
      "Data columns (total 21 columns):\n",
      "id               21597 non-null int64\n",
      "date             21597 non-null object\n",
      "price            21597 non-null float64\n",
      "bedrooms         21597 non-null int64\n",
      "bathrooms        21597 non-null float64\n",
      "sqft_living      21597 non-null int64\n",
      "sqft_lot         21597 non-null int64\n",
      "floors           21597 non-null float64\n",
      "waterfront       19221 non-null float64\n",
      "view             21534 non-null float64\n",
      "condition        21597 non-null int64\n",
      "grade            21597 non-null int64\n",
      "sqft_above       21597 non-null int64\n",
      "sqft_basement    21597 non-null object\n",
      "yr_built         21597 non-null int64\n",
      "yr_renovated     17755 non-null float64\n",
      "zipcode          21597 non-null int64\n",
      "lat              21597 non-null float64\n",
      "long             21597 non-null float64\n",
      "sqft_living15    21597 non-null int64\n",
      "sqft_lot15       21597 non-null int64\n",
      "dtypes: float64(8), int64(11), object(2)\n",
      "memory usage: 3.5+ MB\n"
     ]
    }
   ],
   "source": [
    "df.info()"
   ]
  },
  {
   "cell_type": "code",
   "execution_count": 22,
   "metadata": {},
   "outputs": [
    {
     "data": {
      "text/plain": [
       "0    10/13/2014\n",
       "1     12/9/2014\n",
       "2     2/25/2015\n",
       "3     12/9/2014\n",
       "4     2/18/2015\n",
       "Name: date, dtype: object"
      ]
     },
     "execution_count": 22,
     "metadata": {},
     "output_type": "execute_result"
    }
   ],
   "source": [
    "df['date'].head()"
   ]
  },
  {
   "cell_type": "code",
   "execution_count": 23,
   "metadata": {},
   "outputs": [
    {
     "data": {
      "text/plain": [
       "0   2014-10-13\n",
       "1   2014-12-09\n",
       "2   2015-02-25\n",
       "3   2014-12-09\n",
       "4   2015-02-18\n",
       "Name: date, dtype: datetime64[ns]"
      ]
     },
     "execution_count": 23,
     "metadata": {},
     "output_type": "execute_result"
    }
   ],
   "source": [
    "pd.to_datetime(df['date']).head()"
   ]
  },
  {
   "cell_type": "markdown",
   "metadata": {},
   "source": [
    "# May be useful to convert date column to datetime object"
   ]
  },
  {
   "cell_type": "code",
   "execution_count": 24,
   "metadata": {
    "collapsed": true
   },
   "outputs": [],
   "source": [
    "df['date'] = pd.to_datetime(df['date'])"
   ]
  },
  {
   "cell_type": "code",
   "execution_count": 25,
   "metadata": {},
   "outputs": [
    {
     "name": "stdout",
     "output_type": "stream",
     "text": [
      "<class 'pandas.core.frame.DataFrame'>\n",
      "RangeIndex: 21597 entries, 0 to 21596\n",
      "Data columns (total 21 columns):\n",
      "id               21597 non-null int64\n",
      "date             21597 non-null datetime64[ns]\n",
      "price            21597 non-null float64\n",
      "bedrooms         21597 non-null int64\n",
      "bathrooms        21597 non-null float64\n",
      "sqft_living      21597 non-null int64\n",
      "sqft_lot         21597 non-null int64\n",
      "floors           21597 non-null float64\n",
      "waterfront       19221 non-null float64\n",
      "view             21534 non-null float64\n",
      "condition        21597 non-null int64\n",
      "grade            21597 non-null int64\n",
      "sqft_above       21597 non-null int64\n",
      "sqft_basement    21597 non-null object\n",
      "yr_built         21597 non-null int64\n",
      "yr_renovated     17755 non-null float64\n",
      "zipcode          21597 non-null int64\n",
      "lat              21597 non-null float64\n",
      "long             21597 non-null float64\n",
      "sqft_living15    21597 non-null int64\n",
      "sqft_lot15       21597 non-null int64\n",
      "dtypes: datetime64[ns](1), float64(8), int64(11), object(1)\n",
      "memory usage: 3.5+ MB\n"
     ]
    }
   ],
   "source": [
    "df.info()"
   ]
  },
  {
   "cell_type": "markdown",
   "metadata": {},
   "source": [
    "# Looking at price column"
   ]
  },
  {
   "cell_type": "code",
   "execution_count": 26,
   "metadata": {},
   "outputs": [
    {
     "data": {
      "text/plain": [
       "0    221900.0\n",
       "1    538000.0\n",
       "2    180000.0\n",
       "3    604000.0\n",
       "4    510000.0\n",
       "Name: price, dtype: float64"
      ]
     },
     "execution_count": 26,
     "metadata": {},
     "output_type": "execute_result"
    }
   ],
   "source": [
    "df['price'].head()"
   ]
  },
  {
   "cell_type": "code",
   "execution_count": 27,
   "metadata": {
    "collapsed": true
   },
   "outputs": [],
   "source": [
    "import numpy as np"
   ]
  },
  {
   "cell_type": "code",
   "execution_count": 28,
   "metadata": {},
   "outputs": [
    {
     "data": {
      "text/plain": [
       "<matplotlib.axes._subplots.AxesSubplot at 0x11d7a30f0>"
      ]
     },
     "execution_count": 28,
     "metadata": {},
     "output_type": "execute_result"
    }
   ],
   "source": [
    "np.log10(df['price']).plot.hist()"
   ]
  },
  {
   "cell_type": "code",
   "execution_count": 29,
   "metadata": {},
   "outputs": [
    {
     "data": {
      "text/plain": [
       "<matplotlib.axes._subplots.AxesSubplot at 0x11d8d2940>"
      ]
     },
     "execution_count": 29,
     "metadata": {},
     "output_type": "execute_result"
    },
    {
     "data": {
      "image/png": "[encoded data removed]",
      "text/plain": [
       "<Figure size 432x288 with 1 Axes>"
      ]
     },
     "metadata": {
      "needs_background": "light"
     },
     "output_type": "display_data"
    }
   ],
   "source": [
    "df['price'].plot.hist()"
   ]
  },
  {
   "cell_type": "markdown",
   "metadata": {},
   "source": [
    "# Looks reasonable"
   ]
  },
  {
   "cell_type": "code",
   "execution_count": 30,
   "metadata": {},
   "outputs": [
    {
     "name": "stdout",
     "output_type": "stream",
     "text": [
      "<class 'pandas.core.frame.DataFrame'>\n",
      "RangeIndex: 21597 entries, 0 to 21596\n",
      "Data columns (total 21 columns):\n",
      "id               21597 non-null int64\n",
      "date             21597 non-null datetime64[ns]\n",
      "price            21597 non-null float64\n",
      "bedrooms         21597 non-null int64\n",
      "bathrooms        21597 non-null float64\n",
      "sqft_living      21597 non-null int64\n",
      "sqft_lot         21597 non-null int64\n",
      "floors           21597 non-null float64\n",
      "waterfront       19221 non-null float64\n",
      "view             21534 non-null float64\n",
      "condition        21597 non-null int64\n",
      "grade            21597 non-null int64\n",
      "sqft_above       21597 non-null int64\n",
      "sqft_basement    21597 non-null object\n",
      "yr_built         21597 non-null int64\n",
      "yr_renovated     17755 non-null float64\n",
      "zipcode          21597 non-null int64\n",
      "lat              21597 non-null float64\n",
      "long             21597 non-null float64\n",
      "sqft_living15    21597 non-null int64\n",
      "sqft_lot15       21597 non-null int64\n",
      "dtypes: datetime64[ns](1), float64(8), int64(11), object(1)\n",
      "memory usage: 3.5+ MB\n"
     ]
    }
   ],
   "source": [
    "df.info()"
   ]
  },
  {
   "cell_type": "markdown",
   "metadata": {},
   "source": [
    "# Looking at bedrooms"
   ]
  },
  {
   "cell_type": "code",
   "execution_count": 31,
   "metadata": {},
   "outputs": [
    {
     "data": {
      "text/plain": [
       "0    3\n",
       "1    3\n",
       "2    2\n",
       "3    4\n",
       "4    3\n",
       "Name: bedrooms, dtype: int64"
      ]
     },
     "execution_count": 31,
     "metadata": {},
     "output_type": "execute_result"
    }
   ],
   "source": [
    "df['bedrooms'].head()"
   ]
  },
  {
   "cell_type": "code",
   "execution_count": 32,
   "metadata": {},
   "outputs": [
    {
     "data": {
      "text/plain": [
       "array([ 3,  2,  4,  5,  1,  6,  7,  8,  9, 11, 10, 33])"
      ]
     },
     "execution_count": 32,
     "metadata": {},
     "output_type": "execute_result"
    }
   ],
   "source": [
    "df['bedrooms'].unique()"
   ]
  },
  {
   "cell_type": "code",
   "execution_count": 33,
   "metadata": {},
   "outputs": [
    {
     "data": {
      "text/html": [
       "<div>\n",
       "<style scoped>\n",
       "    .dataframe tbody tr th:only-of-type {\n",
       "        vertical-align: middle;\n",
       "    }\n",
       "\n",
       "    .dataframe tbody tr th {\n",
       "        vertical-align: top;\n",
       "    }\n",
       "\n",
       "    .dataframe thead th {\n",
       "        text-align: right;\n",
       "    }\n",
       "</style>\n",
       "<table border=\"1\" class=\"dataframe\">\n",
       "  <thead>\n",
       "    <tr style=\"text-align: right;\">\n",
       "      <th></th>\n",
       "      <th>id</th>\n",
       "      <th>date</th>\n",
       "      <th>price</th>\n",
       "      <th>bedrooms</th>\n",
       "      <th>bathrooms</th>\n",
       "      <th>sqft_living</th>\n",
       "      <th>sqft_lot</th>\n",
       "      <th>floors</th>\n",
       "      <th>waterfront</th>\n",
       "      <th>view</th>\n",
       "      <th>...</th>\n",
       "      <th>grade</th>\n",
       "      <th>sqft_above</th>\n",
       "      <th>sqft_basement</th>\n",
       "      <th>yr_built</th>\n",
       "      <th>yr_renovated</th>\n",
       "      <th>zipcode</th>\n",
       "      <th>lat</th>\n",
       "      <th>long</th>\n",
       "      <th>sqft_living15</th>\n",
       "      <th>sqft_lot15</th>\n",
       "    </tr>\n",
       "  </thead>\n",
       "  <tbody>\n",
       "    <tr>\n",
       "      <th>15856</th>\n",
       "      <td>2402100895</td>\n",
       "      <td>2014-06-25</td>\n",
       "      <td>640000.0</td>\n",
       "      <td>33</td>\n",
       "      <td>1.75</td>\n",
       "      <td>1620</td>\n",
       "      <td>6000</td>\n",
       "      <td>1.0</td>\n",
       "      <td>0.0</td>\n",
       "      <td>0.0</td>\n",
       "      <td>...</td>\n",
       "      <td>7</td>\n",
       "      <td>1040</td>\n",
       "      <td>580.0</td>\n",
       "      <td>1947</td>\n",
       "      <td>0.0</td>\n",
       "      <td>98103</td>\n",
       "      <td>47.6878</td>\n",
       "      <td>-122.331</td>\n",
       "      <td>1330</td>\n",
       "      <td>4700</td>\n",
       "    </tr>\n",
       "  </tbody>\n",
       "</table>\n",
       "<p>1 rows × 21 columns</p>\n",
       "</div>"
      ],
      "text/plain": [
       "               id       date     price  bedrooms  bathrooms  sqft_living  \\\n",
       "15856  2402100895 2014-06-25  640000.0        33       1.75         1620   \n",
       "\n",
       "       sqft_lot  floors  waterfront  view     ...      grade  sqft_above  \\\n",
       "15856      6000     1.0         0.0   0.0     ...          7        1040   \n",
       "\n",
       "       sqft_basement yr_built  yr_renovated  zipcode      lat     long  \\\n",
       "15856          580.0     1947           0.0    98103  47.6878 -122.331   \n",
       "\n",
       "       sqft_living15  sqft_lot15  \n",
       "15856           1330        4700  \n",
       "\n",
       "[1 rows x 21 columns]"
      ]
     },
     "execution_count": 33,
     "metadata": {},
     "output_type": "execute_result"
    }
   ],
   "source": [
    "df[df['bedrooms']==33]"
   ]
  },
  {
   "cell_type": "code",
   "execution_count": 34,
   "metadata": {},
   "outputs": [
    {
     "data": {
      "text/plain": [
       "<matplotlib.axes._subplots.AxesSubplot at 0x11dab0b00>"
      ]
     },
     "execution_count": 34,
     "metadata": {},
     "output_type": "execute_result"
    },
    {
     "data": {
      "image/png": "[encoded data removed]",
      "text/plain": [
       "<Figure size 432x288 with 1 Axes>"
      ]
     },
     "metadata": {
      "needs_background": "light"
     },
     "output_type": "display_data"
    }
   ],
   "source": [
    "df['bedrooms'].plot.hist(bins=20)"
   ]
  },
  {
   "cell_type": "markdown",
   "metadata": {},
   "source": [
    "# 2402100895 has 33 bedrooms?"
   ]
  },
  {
   "cell_type": "code",
   "execution_count": 35,
   "metadata": {},
   "outputs": [
    {
     "name": "stdout",
     "output_type": "stream",
     "text": [
      "<class 'pandas.core.frame.DataFrame'>\n",
      "RangeIndex: 21597 entries, 0 to 21596\n",
      "Data columns (total 21 columns):\n",
      "id               21597 non-null int64\n",
      "date             21597 non-null datetime64[ns]\n",
      "price            21597 non-null float64\n",
      "bedrooms         21597 non-null int64\n",
      "bathrooms        21597 non-null float64\n",
      "sqft_living      21597 non-null int64\n",
      "sqft_lot         21597 non-null int64\n",
      "floors           21597 non-null float64\n",
      "waterfront       19221 non-null float64\n",
      "view             21534 non-null float64\n",
      "condition        21597 non-null int64\n",
      "grade            21597 non-null int64\n",
      "sqft_above       21597 non-null int64\n",
      "sqft_basement    21597 non-null object\n",
      "yr_built         21597 non-null int64\n",
      "yr_renovated     17755 non-null float64\n",
      "zipcode          21597 non-null int64\n",
      "lat              21597 non-null float64\n",
      "long             21597 non-null float64\n",
      "sqft_living15    21597 non-null int64\n",
      "sqft_lot15       21597 non-null int64\n",
      "dtypes: datetime64[ns](1), float64(8), int64(11), object(1)\n",
      "memory usage: 3.5+ MB\n"
     ]
    }
   ],
   "source": [
    "df.info()"
   ]
  },
  {
   "cell_type": "markdown",
   "metadata": {},
   "source": [
    "# Looking at bathrooms"
   ]
  },
  {
   "cell_type": "code",
   "execution_count": 36,
   "metadata": {},
   "outputs": [
    {
     "data": {
      "text/plain": [
       "array([1.  , 2.25, 3.  , 2.  , 4.5 , 1.5 , 2.5 , 1.75, 2.75, 3.25, 4.  ,\n",
       "       3.5 , 0.75, 4.75, 5.  , 4.25, 3.75, 1.25, 5.25, 6.  , 0.5 , 5.5 ,\n",
       "       6.75, 5.75, 8.  , 7.5 , 7.75, 6.25, 6.5 ])"
      ]
     },
     "execution_count": 36,
     "metadata": {},
     "output_type": "execute_result"
    }
   ],
   "source": [
    "df['bathrooms'].unique()"
   ]
  },
  {
   "cell_type": "code",
   "execution_count": 37,
   "metadata": {},
   "outputs": [
    {
     "data": {
      "text/plain": [
       "<matplotlib.axes._subplots.AxesSubplot at 0x11dc07978>"
      ]
     },
     "execution_count": 37,
     "metadata": {},
     "output_type": "execute_result"
    },
    {
     "data": {
      "image/png": "[encoded data removed]",
      "text/plain": [
       "<Figure size 432x288 with 1 Axes>"
      ]
     },
     "metadata": {
      "needs_background": "light"
     },
     "output_type": "display_data"
    }
   ],
   "source": [
    "df['bathrooms'].plot.hist()"
   ]
  },
  {
   "cell_type": "markdown",
   "metadata": {},
   "source": [
    "# Looks OK"
   ]
  },
  {
   "cell_type": "code",
   "execution_count": 38,
   "metadata": {},
   "outputs": [
    {
     "name": "stdout",
     "output_type": "stream",
     "text": [
      "<class 'pandas.core.frame.DataFrame'>\n",
      "RangeIndex: 21597 entries, 0 to 21596\n",
      "Data columns (total 21 columns):\n",
      "id               21597 non-null int64\n",
      "date             21597 non-null datetime64[ns]\n",
      "price            21597 non-null float64\n",
      "bedrooms         21597 non-null int64\n",
      "bathrooms        21597 non-null float64\n",
      "sqft_living      21597 non-null int64\n",
      "sqft_lot         21597 non-null int64\n",
      "floors           21597 non-null float64\n",
      "waterfront       19221 non-null float64\n",
      "view             21534 non-null float64\n",
      "condition        21597 non-null int64\n",
      "grade            21597 non-null int64\n",
      "sqft_above       21597 non-null int64\n",
      "sqft_basement    21597 non-null object\n",
      "yr_built         21597 non-null int64\n",
      "yr_renovated     17755 non-null float64\n",
      "zipcode          21597 non-null int64\n",
      "lat              21597 non-null float64\n",
      "long             21597 non-null float64\n",
      "sqft_living15    21597 non-null int64\n",
      "sqft_lot15       21597 non-null int64\n",
      "dtypes: datetime64[ns](1), float64(8), int64(11), object(1)\n",
      "memory usage: 3.5+ MB\n"
     ]
    }
   ],
   "source": [
    "df.info()"
   ]
  },
  {
   "cell_type": "markdown",
   "metadata": {},
   "source": [
    "# sqft_living"
   ]
  },
  {
   "cell_type": "code",
   "execution_count": 39,
   "metadata": {},
   "outputs": [
    {
     "data": {
      "text/plain": [
       "<matplotlib.axes._subplots.AxesSubplot at 0x11de30048>"
      ]
     },
     "execution_count": 39,
     "metadata": {},
     "output_type": "execute_result"
    },
    {
     "data": {
      "image/png": "[encoded data removed]",
      "text/plain": [
       "<Figure size 432x288 with 1 Axes>"
      ]
     },
     "metadata": {
      "needs_background": "light"
     },
     "output_type": "display_data"
    }
   ],
   "source": [
    "df['sqft_living'].plot.hist()"
   ]
  },
  {
   "cell_type": "markdown",
   "metadata": {},
   "source": [
    "looks ok"
   ]
  },
  {
   "cell_type": "code",
   "execution_count": 40,
   "metadata": {},
   "outputs": [
    {
     "name": "stdout",
     "output_type": "stream",
     "text": [
      "<class 'pandas.core.frame.DataFrame'>\n",
      "RangeIndex: 21597 entries, 0 to 21596\n",
      "Data columns (total 21 columns):\n",
      "id               21597 non-null int64\n",
      "date             21597 non-null datetime64[ns]\n",
      "price            21597 non-null float64\n",
      "bedrooms         21597 non-null int64\n",
      "bathrooms        21597 non-null float64\n",
      "sqft_living      21597 non-null int64\n",
      "sqft_lot         21597 non-null int64\n",
      "floors           21597 non-null float64\n",
      "waterfront       19221 non-null float64\n",
      "view             21534 non-null float64\n",
      "condition        21597 non-null int64\n",
      "grade            21597 non-null int64\n",
      "sqft_above       21597 non-null int64\n",
      "sqft_basement    21597 non-null object\n",
      "yr_built         21597 non-null int64\n",
      "yr_renovated     17755 non-null float64\n",
      "zipcode          21597 non-null int64\n",
      "lat              21597 non-null float64\n",
      "long             21597 non-null float64\n",
      "sqft_living15    21597 non-null int64\n",
      "sqft_lot15       21597 non-null int64\n",
      "dtypes: datetime64[ns](1), float64(8), int64(11), object(1)\n",
      "memory usage: 3.5+ MB\n"
     ]
    }
   ],
   "source": [
    "df.info()"
   ]
  },
  {
   "cell_type": "code",
   "execution_count": 41,
   "metadata": {},
   "outputs": [
    {
     "data": {
      "text/plain": [
       "<matplotlib.axes._subplots.AxesSubplot at 0x11df57588>"
      ]
     },
     "execution_count": 41,
     "metadata": {},
     "output_type": "execute_result"
    },
    {
     "data": {
      "image/png": "[encoded data removed]",
      "text/plain": [
       "<Figure size 432x288 with 1 Axes>"
      ]
     },
     "metadata": {
      "needs_background": "light"
     },
     "output_type": "display_data"
    }
   ],
   "source": [
    "np.log(df['sqft_lot']).plot.hist()"
   ]
  },
  {
   "cell_type": "code",
   "execution_count": 42,
   "metadata": {},
   "outputs": [
    {
     "data": {
      "text/plain": [
       "<matplotlib.axes._subplots.AxesSubplot at 0x11e0fd588>"
      ]
     },
     "execution_count": 42,
     "metadata": {},
     "output_type": "execute_result"
    },
    {
     "data": {
      "image/png": "[encoded data removed]",
      "text/plain": [
       "<Figure size 432x288 with 1 Axes>"
      ]
     },
     "metadata": {
      "needs_background": "light"
     },
     "output_type": "display_data"
    }
   ],
   "source": [
    "df['sqft_lot'].plot.hist()"
   ]
  },
  {
   "cell_type": "markdown",
   "metadata": {},
   "source": [
    "some very large properties"
   ]
  },
  {
   "cell_type": "code",
   "execution_count": 43,
   "metadata": {},
   "outputs": [
    {
     "name": "stdout",
     "output_type": "stream",
     "text": [
      "<class 'pandas.core.frame.DataFrame'>\n",
      "RangeIndex: 21597 entries, 0 to 21596\n",
      "Data columns (total 21 columns):\n",
      "id               21597 non-null int64\n",
      "date             21597 non-null datetime64[ns]\n",
      "price            21597 non-null float64\n",
      "bedrooms         21597 non-null int64\n",
      "bathrooms        21597 non-null float64\n",
      "sqft_living      21597 non-null int64\n",
      "sqft_lot         21597 non-null int64\n",
      "floors           21597 non-null float64\n",
      "waterfront       19221 non-null float64\n",
      "view             21534 non-null float64\n",
      "condition        21597 non-null int64\n",
      "grade            21597 non-null int64\n",
      "sqft_above       21597 non-null int64\n",
      "sqft_basement    21597 non-null object\n",
      "yr_built         21597 non-null int64\n",
      "yr_renovated     17755 non-null float64\n",
      "zipcode          21597 non-null int64\n",
      "lat              21597 non-null float64\n",
      "long             21597 non-null float64\n",
      "sqft_living15    21597 non-null int64\n",
      "sqft_lot15       21597 non-null int64\n",
      "dtypes: datetime64[ns](1), float64(8), int64(11), object(1)\n",
      "memory usage: 3.5+ MB\n"
     ]
    }
   ],
   "source": [
    "df.info()"
   ]
  },
  {
   "cell_type": "markdown",
   "metadata": {},
   "source": [
    "# floors"
   ]
  },
  {
   "cell_type": "code",
   "execution_count": 44,
   "metadata": {},
   "outputs": [
    {
     "data": {
      "text/plain": [
       "array([1. , 2. , 1.5, 3. , 2.5, 3.5])"
      ]
     },
     "execution_count": 44,
     "metadata": {},
     "output_type": "execute_result"
    }
   ],
   "source": [
    "df['floors'].unique()"
   ]
  },
  {
   "cell_type": "code",
   "execution_count": 45,
   "metadata": {},
   "outputs": [
    {
     "data": {
      "text/plain": [
       "<matplotlib.axes._subplots.AxesSubplot at 0x11daf5080>"
      ]
     },
     "execution_count": 45,
     "metadata": {},
     "output_type": "execute_result"
    },
    {
     "data": {
      "image/png": "[encoded data removed]",
      "text/plain": [
       "<Figure size 432x288 with 1 Axes>"
      ]
     },
     "metadata": {
      "needs_background": "light"
     },
     "output_type": "display_data"
    }
   ],
   "source": [
    "df['floors'].plot.hist()"
   ]
  },
  {
   "cell_type": "markdown",
   "metadata": {},
   "source": [
    "ok"
   ]
  },
  {
   "cell_type": "code",
   "execution_count": 46,
   "metadata": {},
   "outputs": [
    {
     "name": "stdout",
     "output_type": "stream",
     "text": [
      "<class 'pandas.core.frame.DataFrame'>\n",
      "RangeIndex: 21597 entries, 0 to 21596\n",
      "Data columns (total 21 columns):\n",
      "id               21597 non-null int64\n",
      "date             21597 non-null datetime64[ns]\n",
      "price            21597 non-null float64\n",
      "bedrooms         21597 non-null int64\n",
      "bathrooms        21597 non-null float64\n",
      "sqft_living      21597 non-null int64\n",
      "sqft_lot         21597 non-null int64\n",
      "floors           21597 non-null float64\n",
      "waterfront       19221 non-null float64\n",
      "view             21534 non-null float64\n",
      "condition        21597 non-null int64\n",
      "grade            21597 non-null int64\n",
      "sqft_above       21597 non-null int64\n",
      "sqft_basement    21597 non-null object\n",
      "yr_built         21597 non-null int64\n",
      "yr_renovated     17755 non-null float64\n",
      "zipcode          21597 non-null int64\n",
      "lat              21597 non-null float64\n",
      "long             21597 non-null float64\n",
      "sqft_living15    21597 non-null int64\n",
      "sqft_lot15       21597 non-null int64\n",
      "dtypes: datetime64[ns](1), float64(8), int64(11), object(1)\n",
      "memory usage: 3.5+ MB\n"
     ]
    }
   ],
   "source": [
    "df.info()"
   ]
  },
  {
   "cell_type": "markdown",
   "metadata": {},
   "source": [
    "# waterfront"
   ]
  },
  {
   "cell_type": "code",
   "execution_count": 47,
   "metadata": {},
   "outputs": [
    {
     "data": {
      "text/plain": [
       "array([nan,  0.,  1.])"
      ]
     },
     "execution_count": 47,
     "metadata": {},
     "output_type": "execute_result"
    }
   ],
   "source": [
    "df['waterfront'].unique()"
   ]
  },
  {
   "cell_type": "code",
   "execution_count": 48,
   "metadata": {},
   "outputs": [
    {
     "data": {
      "text/plain": [
       "0.0    19075\n",
       "1.0      146\n",
       "Name: waterfront, dtype: int64"
      ]
     },
     "execution_count": 48,
     "metadata": {},
     "output_type": "execute_result"
    }
   ],
   "source": [
    "df['waterfront'].value_counts()"
   ]
  },
  {
   "cell_type": "markdown",
   "metadata": {},
   "source": [
    "most properties are not on the water and there are"
   ]
  },
  {
   "cell_type": "code",
   "execution_count": 49,
   "metadata": {},
   "outputs": [
    {
     "data": {
      "text/plain": [
       "2376"
      ]
     },
     "execution_count": 49,
     "metadata": {},
     "output_type": "execute_result"
    }
   ],
   "source": [
    "21597-19221"
   ]
  },
  {
   "cell_type": "markdown",
   "metadata": {},
   "source": [
    "missing values. Because we are predicting price, knowing whether or not a property is on the waterfront could be quite important. It therefore might be a good idea to drop those rows."
   ]
  },
  {
   "cell_type": "code",
   "execution_count": 50,
   "metadata": {
    "collapsed": true
   },
   "outputs": [],
   "source": [
    "# df = df[df[\"waterfront\"].isna() == False] # uncomment and execute to drop rows with no \"waterfront\" information"
   ]
  },
  {
   "cell_type": "code",
   "execution_count": 51,
   "metadata": {},
   "outputs": [
    {
     "name": "stdout",
     "output_type": "stream",
     "text": [
      "<class 'pandas.core.frame.DataFrame'>\n",
      "RangeIndex: 21597 entries, 0 to 21596\n",
      "Data columns (total 21 columns):\n",
      "id               21597 non-null int64\n",
      "date             21597 non-null datetime64[ns]\n",
      "price            21597 non-null float64\n",
      "bedrooms         21597 non-null int64\n",
      "bathrooms        21597 non-null float64\n",
      "sqft_living      21597 non-null int64\n",
      "sqft_lot         21597 non-null int64\n",
      "floors           21597 non-null float64\n",
      "waterfront       19221 non-null float64\n",
      "view             21534 non-null float64\n",
      "condition        21597 non-null int64\n",
      "grade            21597 non-null int64\n",
      "sqft_above       21597 non-null int64\n",
      "sqft_basement    21597 non-null object\n",
      "yr_built         21597 non-null int64\n",
      "yr_renovated     17755 non-null float64\n",
      "zipcode          21597 non-null int64\n",
      "lat              21597 non-null float64\n",
      "long             21597 non-null float64\n",
      "sqft_living15    21597 non-null int64\n",
      "sqft_lot15       21597 non-null int64\n",
      "dtypes: datetime64[ns](1), float64(8), int64(11), object(1)\n",
      "memory usage: 3.5+ MB\n"
     ]
    }
   ],
   "source": [
    "df.info()"
   ]
  },
  {
   "cell_type": "markdown",
   "metadata": {},
   "source": [
    "# view"
   ]
  },
  {
   "cell_type": "code",
   "execution_count": 52,
   "metadata": {},
   "outputs": [
    {
     "data": {
      "text/plain": [
       "0    0.0\n",
       "1    0.0\n",
       "2    0.0\n",
       "3    0.0\n",
       "4    0.0\n",
       "Name: view, dtype: float64"
      ]
     },
     "execution_count": 52,
     "metadata": {},
     "output_type": "execute_result"
    }
   ],
   "source": [
    "df['view'].head()"
   ]
  },
  {
   "cell_type": "code",
   "execution_count": 53,
   "metadata": {},
   "outputs": [
    {
     "data": {
      "text/plain": [
       "array([ 0., nan,  3.,  4.,  2.,  1.])"
      ]
     },
     "execution_count": 53,
     "metadata": {},
     "output_type": "execute_result"
    }
   ],
   "source": [
    "df['view'].unique()"
   ]
  },
  {
   "cell_type": "code",
   "execution_count": 54,
   "metadata": {},
   "outputs": [
    {
     "data": {
      "text/plain": [
       "0.0    19422\n",
       "2.0      957\n",
       "3.0      508\n",
       "1.0      330\n",
       "4.0      317\n",
       "Name: view, dtype: int64"
      ]
     },
     "execution_count": 54,
     "metadata": {},
     "output_type": "execute_result"
    }
   ],
   "source": [
    "df['view'].value_counts()"
   ]
  },
  {
   "cell_type": "markdown",
   "metadata": {},
   "source": [
    "There are"
   ]
  },
  {
   "cell_type": "code",
   "execution_count": 55,
   "metadata": {},
   "outputs": [
    {
     "data": {
      "text/plain": [
       "63"
      ]
     },
     "execution_count": 55,
     "metadata": {},
     "output_type": "execute_result"
    }
   ],
   "source": [
    "sum(df['view'].isna())"
   ]
  },
  {
   "cell_type": "markdown",
   "metadata": {},
   "source": [
    "missing values, which is a small number and view could be important in predicting price, so we can drop the rows with the missing 'view' information."
   ]
  },
  {
   "cell_type": "code",
   "execution_count": 56,
   "metadata": {
    "collapsed": true
   },
   "outputs": [],
   "source": [
    "# df = df[df[\"view\"].isna() == False] # uncomment and execute to drop rows with no \"view\" information"
   ]
  },
  {
   "cell_type": "code",
   "execution_count": 57,
   "metadata": {},
   "outputs": [
    {
     "name": "stdout",
     "output_type": "stream",
     "text": [
      "<class 'pandas.core.frame.DataFrame'>\n",
      "RangeIndex: 21597 entries, 0 to 21596\n",
      "Data columns (total 21 columns):\n",
      "id               21597 non-null int64\n",
      "date             21597 non-null datetime64[ns]\n",
      "price            21597 non-null float64\n",
      "bedrooms         21597 non-null int64\n",
      "bathrooms        21597 non-null float64\n",
      "sqft_living      21597 non-null int64\n",
      "sqft_lot         21597 non-null int64\n",
      "floors           21597 non-null float64\n",
      "waterfront       19221 non-null float64\n",
      "view             21534 non-null float64\n",
      "condition        21597 non-null int64\n",
      "grade            21597 non-null int64\n",
      "sqft_above       21597 non-null int64\n",
      "sqft_basement    21597 non-null object\n",
      "yr_built         21597 non-null int64\n",
      "yr_renovated     17755 non-null float64\n",
      "zipcode          21597 non-null int64\n",
      "lat              21597 non-null float64\n",
      "long             21597 non-null float64\n",
      "sqft_living15    21597 non-null int64\n",
      "sqft_lot15       21597 non-null int64\n",
      "dtypes: datetime64[ns](1), float64(8), int64(11), object(1)\n",
      "memory usage: 3.5+ MB\n"
     ]
    }
   ],
   "source": [
    "df.info()"
   ]
  },
  {
   "cell_type": "code",
   "execution_count": 58,
   "metadata": {},
   "outputs": [
    {
     "data": {
      "text/plain": [
       "<matplotlib.axes._subplots.AxesSubplot at 0x11e3dffd0>"
      ]
     },
     "execution_count": 58,
     "metadata": {},
     "output_type": "execute_result"
    },
    {
     "data": {
      "image/png": "[encoded data removed]",
      "text/plain": [
       "<Figure size 432x288 with 1 Axes>"
      ]
     },
     "metadata": {
      "needs_background": "light"
     },
     "output_type": "display_data"
    }
   ],
   "source": [
    "df['view'].plot.hist()"
   ]
  },
  {
   "cell_type": "markdown",
   "metadata": {},
   "source": [
    "# condition"
   ]
  },
  {
   "cell_type": "code",
   "execution_count": 59,
   "metadata": {},
   "outputs": [
    {
     "data": {
      "text/plain": [
       "0    3\n",
       "1    3\n",
       "2    3\n",
       "3    5\n",
       "4    3\n",
       "Name: condition, dtype: int64"
      ]
     },
     "execution_count": 59,
     "metadata": {},
     "output_type": "execute_result"
    }
   ],
   "source": [
    "df['condition'].head()"
   ]
  },
  {
   "cell_type": "code",
   "execution_count": 60,
   "metadata": {},
   "outputs": [
    {
     "data": {
      "text/plain": [
       "array([3, 5, 4, 1, 2])"
      ]
     },
     "execution_count": 60,
     "metadata": {},
     "output_type": "execute_result"
    }
   ],
   "source": [
    "df['condition'].unique()"
   ]
  },
  {
   "cell_type": "code",
   "execution_count": 61,
   "metadata": {},
   "outputs": [
    {
     "data": {
      "text/plain": [
       "3    14020\n",
       "4     5677\n",
       "5     1701\n",
       "2      170\n",
       "1       29\n",
       "Name: condition, dtype: int64"
      ]
     },
     "execution_count": 61,
     "metadata": {},
     "output_type": "execute_result"
    }
   ],
   "source": [
    "df['condition'].value_counts()"
   ]
  },
  {
   "cell_type": "code",
   "execution_count": 62,
   "metadata": {},
   "outputs": [
    {
     "data": {
      "text/plain": [
       "<matplotlib.axes._subplots.AxesSubplot at 0x11e558b70>"
      ]
     },
     "execution_count": 62,
     "metadata": {},
     "output_type": "execute_result"
    },
    {
     "data": {
      "image/png": "[encoded data removed]",
      "text/plain": [
       "<Figure size 432x288 with 1 Axes>"
      ]
     },
     "metadata": {
      "needs_background": "light"
     },
     "output_type": "display_data"
    }
   ],
   "source": [
    "df['condition'].plot.hist()"
   ]
  },
  {
   "cell_type": "markdown",
   "metadata": {},
   "source": [
    "looks OK"
   ]
  },
  {
   "cell_type": "code",
   "execution_count": 63,
   "metadata": {},
   "outputs": [
    {
     "name": "stdout",
     "output_type": "stream",
     "text": [
      "<class 'pandas.core.frame.DataFrame'>\n",
      "RangeIndex: 21597 entries, 0 to 21596\n",
      "Data columns (total 21 columns):\n",
      "id               21597 non-null int64\n",
      "date             21597 non-null datetime64[ns]\n",
      "price            21597 non-null float64\n",
      "bedrooms         21597 non-null int64\n",
      "bathrooms        21597 non-null float64\n",
      "sqft_living      21597 non-null int64\n",
      "sqft_lot         21597 non-null int64\n",
      "floors           21597 non-null float64\n",
      "waterfront       19221 non-null float64\n",
      "view             21534 non-null float64\n",
      "condition        21597 non-null int64\n",
      "grade            21597 non-null int64\n",
      "sqft_above       21597 non-null int64\n",
      "sqft_basement    21597 non-null object\n",
      "yr_built         21597 non-null int64\n",
      "yr_renovated     17755 non-null float64\n",
      "zipcode          21597 non-null int64\n",
      "lat              21597 non-null float64\n",
      "long             21597 non-null float64\n",
      "sqft_living15    21597 non-null int64\n",
      "sqft_lot15       21597 non-null int64\n",
      "dtypes: datetime64[ns](1), float64(8), int64(11), object(1)\n",
      "memory usage: 3.5+ MB\n"
     ]
    }
   ],
   "source": [
    "df.info()"
   ]
  },
  {
   "cell_type": "markdown",
   "metadata": {},
   "source": [
    "# grade"
   ]
  },
  {
   "cell_type": "code",
   "execution_count": 64,
   "metadata": {},
   "outputs": [
    {
     "data": {
      "text/plain": [
       "0    7\n",
       "1    7\n",
       "2    6\n",
       "3    7\n",
       "4    8\n",
       "Name: grade, dtype: int64"
      ]
     },
     "execution_count": 64,
     "metadata": {},
     "output_type": "execute_result"
    }
   ],
   "source": [
    "df['grade'].head()"
   ]
  },
  {
   "cell_type": "code",
   "execution_count": 65,
   "metadata": {},
   "outputs": [
    {
     "data": {
      "text/plain": [
       "[3, 4, 5, 6, 7, 8, 9, 10, 11, 12, 13]"
      ]
     },
     "execution_count": 65,
     "metadata": {},
     "output_type": "execute_result"
    }
   ],
   "source": [
    "sorted(df['grade'].unique())"
   ]
  },
  {
   "cell_type": "code",
   "execution_count": 66,
   "metadata": {},
   "outputs": [
    {
     "data": {
      "text/plain": [
       "7     8974\n",
       "8     6065\n",
       "9     2615\n",
       "6     2038\n",
       "10    1134\n",
       "11     399\n",
       "5      242\n",
       "12      89\n",
       "4       27\n",
       "13      13\n",
       "3        1\n",
       "Name: grade, dtype: int64"
      ]
     },
     "execution_count": 66,
     "metadata": {},
     "output_type": "execute_result"
    }
   ],
   "source": [
    "df['grade'].value_counts()"
   ]
  },
  {
   "cell_type": "code",
   "execution_count": 67,
   "metadata": {},
   "outputs": [
    {
     "data": {
      "text/plain": [
       "<matplotlib.axes._subplots.AxesSubplot at 0x11e6da208>"
      ]
     },
     "execution_count": 67,
     "metadata": {},
     "output_type": "execute_result"
    },
    {
     "data": {
      "image/png": "[encoded data removed]",
      "text/plain": [
       "<Figure size 432x288 with 1 Axes>"
      ]
     },
     "metadata": {
      "needs_background": "light"
     },
     "output_type": "display_data"
    }
   ],
   "source": [
    "df['grade'].plot.hist()"
   ]
  },
  {
   "cell_type": "markdown",
   "metadata": {},
   "source": [
    "looks OK"
   ]
  },
  {
   "cell_type": "code",
   "execution_count": 68,
   "metadata": {},
   "outputs": [
    {
     "name": "stdout",
     "output_type": "stream",
     "text": [
      "<class 'pandas.core.frame.DataFrame'>\n",
      "RangeIndex: 21597 entries, 0 to 21596\n",
      "Data columns (total 21 columns):\n",
      "id               21597 non-null int64\n",
      "date             21597 non-null datetime64[ns]\n",
      "price            21597 non-null float64\n",
      "bedrooms         21597 non-null int64\n",
      "bathrooms        21597 non-null float64\n",
      "sqft_living      21597 non-null int64\n",
      "sqft_lot         21597 non-null int64\n",
      "floors           21597 non-null float64\n",
      "waterfront       19221 non-null float64\n",
      "view             21534 non-null float64\n",
      "condition        21597 non-null int64\n",
      "grade            21597 non-null int64\n",
      "sqft_above       21597 non-null int64\n",
      "sqft_basement    21597 non-null object\n",
      "yr_built         21597 non-null int64\n",
      "yr_renovated     17755 non-null float64\n",
      "zipcode          21597 non-null int64\n",
      "lat              21597 non-null float64\n",
      "long             21597 non-null float64\n",
      "sqft_living15    21597 non-null int64\n",
      "sqft_lot15       21597 non-null int64\n",
      "dtypes: datetime64[ns](1), float64(8), int64(11), object(1)\n",
      "memory usage: 3.5+ MB\n"
     ]
    }
   ],
   "source": [
    "df.info()"
   ]
  },
  {
   "cell_type": "code",
   "execution_count": 69,
   "metadata": {},
   "outputs": [
    {
     "data": {
      "text/plain": [
       "0    1180\n",
       "1    2170\n",
       "2     770\n",
       "3    1050\n",
       "4    1680\n",
       "Name: sqft_above, dtype: int64"
      ]
     },
     "execution_count": 69,
     "metadata": {},
     "output_type": "execute_result"
    }
   ],
   "source": [
    "df['sqft_above'].head()"
   ]
  },
  {
   "cell_type": "code",
   "execution_count": 70,
   "metadata": {},
   "outputs": [
    {
     "data": {
      "text/plain": [
       "<matplotlib.axes._subplots.AxesSubplot at 0x11dc07588>"
      ]
     },
     "execution_count": 70,
     "metadata": {},
     "output_type": "execute_result"
    },
    {
     "data": {
      "image/png": "[encoded data removed]",
      "text/plain": [
       "<Figure size 432x288 with 1 Axes>"
      ]
     },
     "metadata": {
      "needs_background": "light"
     },
     "output_type": "display_data"
    }
   ],
   "source": [
    "df['sqft_above'].plot.hist()"
   ]
  },
  {
   "cell_type": "code",
   "execution_count": 71,
   "metadata": {},
   "outputs": [
    {
     "data": {
      "text/plain": [
       "<matplotlib.axes._subplots.AxesSubplot at 0x11e9946a0>"
      ]
     },
     "execution_count": 71,
     "metadata": {},
     "output_type": "execute_result"
    },
    {
     "data": {
      "image/png": "[encoded data removed]",
      "text/plain": [
       "<Figure size 432x288 with 1 Axes>"
      ]
     },
     "metadata": {
      "needs_background": "light"
     },
     "output_type": "display_data"
    }
   ],
   "source": [
    "np.log(df['sqft_above']).plot.hist()"
   ]
  },
  {
   "cell_type": "markdown",
   "metadata": {},
   "source": [
    "looks OK"
   ]
  },
  {
   "cell_type": "markdown",
   "metadata": {},
   "source": [
    "# sqft_basement"
   ]
  },
  {
   "cell_type": "markdown",
   "metadata": {},
   "source": [
    "This should probably be changed to an int or other numeric type"
   ]
  },
  {
   "cell_type": "code",
   "execution_count": 72,
   "metadata": {},
   "outputs": [
    {
     "data": {
      "text/plain": [
       "0.0      12826\n",
       "?          454\n",
       "600.0      217\n",
       "500.0      209\n",
       "700.0      208\n",
       "Name: sqft_basement, dtype: int64"
      ]
     },
     "execution_count": 72,
     "metadata": {},
     "output_type": "execute_result"
    }
   ],
   "source": [
    "df['sqft_basement'].value_counts()[:5]"
   ]
  },
  {
   "cell_type": "code",
   "execution_count": 73,
   "metadata": {
    "collapsed": true
   },
   "outputs": [],
   "source": [
    "with_basement_df = df[(df['sqft_basement'] != '?') & (df['sqft_basement'] != '0.0')]"
   ]
  },
  {
   "cell_type": "code",
   "execution_count": 74,
   "metadata": {
    "collapsed": true
   },
   "outputs": [],
   "source": [
    "import matplotlib.pyplot as plt\n",
    "%matplotlib inline"
   ]
  },
  {
   "cell_type": "code",
   "execution_count": 75,
   "metadata": {},
   "outputs": [
    {
     "data": {
      "text/plain": [
       "<matplotlib.collections.PathCollection at 0x11eb6e2b0>"
      ]
     },
     "execution_count": 75,
     "metadata": {},
     "output_type": "execute_result"
    },
    {
     "data": {
      "image/png": "[encoded data removed]",
      "text/plain": [
       "<Figure size 432x288 with 1 Axes>"
      ]
     },
     "metadata": {
      "needs_background": "light"
     },
     "output_type": "display_data"
    }
   ],
   "source": [
    "plt.scatter(with_basement_df['sqft_above'], pd.to_numeric(with_basement_df['sqft_basement']))"
   ]
  },
  {
   "cell_type": "code",
   "execution_count": 76,
   "metadata": {},
   "outputs": [
    {
     "data": {
      "text/plain": [
       "array([[1.        , 0.38530609],\n",
       "       [0.38530609, 1.        ]])"
      ]
     },
     "execution_count": 76,
     "metadata": {},
     "output_type": "execute_result"
    }
   ],
   "source": [
    "np.corrcoef(with_basement_df['sqft_above'], pd.to_numeric(with_basement_df['sqft_basement']))"
   ]
  },
  {
   "cell_type": "code",
   "execution_count": 77,
   "metadata": {},
   "outputs": [
    {
     "data": {
      "text/plain": [
       "0.4061212205398898"
      ]
     },
     "execution_count": 77,
     "metadata": {},
     "output_type": "execute_result"
    }
   ],
   "source": [
    "sum(df['sqft_basement'] != '0.0')/float(len(df['sqft_basement']))"
   ]
  },
  {
   "cell_type": "markdown",
   "metadata": {},
   "source": [
    "about 40% of properties have no basement and there are 454 missing values out of ~21k total. What to do about this variable?"
   ]
  },
  {
   "cell_type": "code",
   "execution_count": 78,
   "metadata": {},
   "outputs": [
    {
     "name": "stdout",
     "output_type": "stream",
     "text": [
      "<class 'pandas.core.frame.DataFrame'>\n",
      "RangeIndex: 21597 entries, 0 to 21596\n",
      "Data columns (total 21 columns):\n",
      "id               21597 non-null int64\n",
      "date             21597 non-null datetime64[ns]\n",
      "price            21597 non-null float64\n",
      "bedrooms         21597 non-null int64\n",
      "bathrooms        21597 non-null float64\n",
      "sqft_living      21597 non-null int64\n",
      "sqft_lot         21597 non-null int64\n",
      "floors           21597 non-null float64\n",
      "waterfront       19221 non-null float64\n",
      "view             21534 non-null float64\n",
      "condition        21597 non-null int64\n",
      "grade            21597 non-null int64\n",
      "sqft_above       21597 non-null int64\n",
      "sqft_basement    21597 non-null object\n",
      "yr_built         21597 non-null int64\n",
      "yr_renovated     17755 non-null float64\n",
      "zipcode          21597 non-null int64\n",
      "lat              21597 non-null float64\n",
      "long             21597 non-null float64\n",
      "sqft_living15    21597 non-null int64\n",
      "sqft_lot15       21597 non-null int64\n",
      "dtypes: datetime64[ns](1), float64(8), int64(11), object(1)\n",
      "memory usage: 3.5+ MB\n"
     ]
    }
   ],
   "source": [
    "df.info()"
   ]
  },
  {
   "cell_type": "markdown",
   "metadata": {},
   "source": [
    "# yr_built"
   ]
  },
  {
   "cell_type": "code",
   "execution_count": 79,
   "metadata": {},
   "outputs": [
    {
     "data": {
      "text/plain": [
       "0    1955\n",
       "1    1951\n",
       "2    1933\n",
       "3    1965\n",
       "4    1987\n",
       "Name: yr_built, dtype: int64"
      ]
     },
     "execution_count": 79,
     "metadata": {},
     "output_type": "execute_result"
    }
   ],
   "source": [
    "df['yr_built'].head()"
   ]
  },
  {
   "cell_type": "code",
   "execution_count": 80,
   "metadata": {},
   "outputs": [
    {
     "data": {
      "text/plain": [
       "[1900,\n",
       " 1901,\n",
       " 1902,\n",
       " 1903,\n",
       " 1904,\n",
       " 1905,\n",
       " 1906,\n",
       " 1907,\n",
       " 1908,\n",
       " 1909,\n",
       " 1910,\n",
       " 1911,\n",
       " 1912,\n",
       " 1913,\n",
       " 1914,\n",
       " 1915,\n",
       " 1916,\n",
       " 1917,\n",
       " 1918,\n",
       " 1919,\n",
       " 1920,\n",
       " 1921,\n",
       " 1922,\n",
       " 1923,\n",
       " 1924,\n",
       " 1925,\n",
       " 1926,\n",
       " 1927,\n",
       " 1928,\n",
       " 1929,\n",
       " 1930,\n",
       " 1931,\n",
       " 1932,\n",
       " 1933,\n",
       " 1934,\n",
       " 1935,\n",
       " 1936,\n",
       " 1937,\n",
       " 1938,\n",
       " 1939,\n",
       " 1940,\n",
       " 1941,\n",
       " 1942,\n",
       " 1943,\n",
       " 1944,\n",
       " 1945,\n",
       " 1946,\n",
       " 1947,\n",
       " 1948,\n",
       " 1949,\n",
       " 1950,\n",
       " 1951,\n",
       " 1952,\n",
       " 1953,\n",
       " 1954,\n",
       " 1955,\n",
       " 1956,\n",
       " 1957,\n",
       " 1958,\n",
       " 1959,\n",
       " 1960,\n",
       " 1961,\n",
       " 1962,\n",
       " 1963,\n",
       " 1964,\n",
       " 1965,\n",
       " 1966,\n",
       " 1967,\n",
       " 1968,\n",
       " 1969,\n",
       " 1970,\n",
       " 1971,\n",
       " 1972,\n",
       " 1973,\n",
       " 1974,\n",
       " 1975,\n",
       " 1976,\n",
       " 1977,\n",
       " 1978,\n",
       " 1979,\n",
       " 1980,\n",
       " 1981,\n",
       " 1982,\n",
       " 1983,\n",
       " 1984,\n",
       " 1985,\n",
       " 1986,\n",
       " 1987,\n",
       " 1988,\n",
       " 1989,\n",
       " 1990,\n",
       " 1991,\n",
       " 1992,\n",
       " 1993,\n",
       " 1994,\n",
       " 1995,\n",
       " 1996,\n",
       " 1997,\n",
       " 1998,\n",
       " 1999,\n",
       " 2000,\n",
       " 2001,\n",
       " 2002,\n",
       " 2003,\n",
       " 2004,\n",
       " 2005,\n",
       " 2006,\n",
       " 2007,\n",
       " 2008,\n",
       " 2009,\n",
       " 2010,\n",
       " 2011,\n",
       " 2012,\n",
       " 2013,\n",
       " 2014,\n",
       " 2015]"
      ]
     },
     "execution_count": 80,
     "metadata": {},
     "output_type": "execute_result"
    }
   ],
   "source": [
    "sorted(df['yr_built'].unique())"
   ]
  },
  {
   "cell_type": "code",
   "execution_count": 81,
   "metadata": {},
   "outputs": [
    {
     "data": {
      "text/plain": [
       "<matplotlib.axes._subplots.AxesSubplot at 0x11ed772e8>"
      ]
     },
     "execution_count": 81,
     "metadata": {},
     "output_type": "execute_result"
    },
    {
     "data": {
      "image/png": "[encoded data removed]",
      "text/plain": [
       "<Figure size 432x288 with 1 Axes>"
      ]
     },
     "metadata": {
      "needs_background": "light"
     },
     "output_type": "display_data"
    }
   ],
   "source": [
    "df['yr_built'].plot.hist()"
   ]
  },
  {
   "cell_type": "markdown",
   "metadata": {},
   "source": [
    "Looks OK"
   ]
  },
  {
   "cell_type": "code",
   "execution_count": 82,
   "metadata": {},
   "outputs": [
    {
     "name": "stdout",
     "output_type": "stream",
     "text": [
      "<class 'pandas.core.frame.DataFrame'>\n",
      "RangeIndex: 21597 entries, 0 to 21596\n",
      "Data columns (total 21 columns):\n",
      "id               21597 non-null int64\n",
      "date             21597 non-null datetime64[ns]\n",
      "price            21597 non-null float64\n",
      "bedrooms         21597 non-null int64\n",
      "bathrooms        21597 non-null float64\n",
      "sqft_living      21597 non-null int64\n",
      "sqft_lot         21597 non-null int64\n",
      "floors           21597 non-null float64\n",
      "waterfront       19221 non-null float64\n",
      "view             21534 non-null float64\n",
      "condition        21597 non-null int64\n",
      "grade            21597 non-null int64\n",
      "sqft_above       21597 non-null int64\n",
      "sqft_basement    21597 non-null object\n",
      "yr_built         21597 non-null int64\n",
      "yr_renovated     17755 non-null float64\n",
      "zipcode          21597 non-null int64\n",
      "lat              21597 non-null float64\n",
      "long             21597 non-null float64\n",
      "sqft_living15    21597 non-null int64\n",
      "sqft_lot15       21597 non-null int64\n",
      "dtypes: datetime64[ns](1), float64(8), int64(11), object(1)\n",
      "memory usage: 3.5+ MB\n"
     ]
    }
   ],
   "source": [
    "df.info()"
   ]
  },
  {
   "cell_type": "markdown",
   "metadata": {},
   "source": [
    "# yr_renovated"
   ]
  },
  {
   "cell_type": "code",
   "execution_count": 83,
   "metadata": {},
   "outputs": [
    {
     "data": {
      "text/plain": [
       "0       0.0\n",
       "1    1991.0\n",
       "2       NaN\n",
       "3       0.0\n",
       "4       0.0\n",
       "Name: yr_renovated, dtype: float64"
      ]
     },
     "execution_count": 83,
     "metadata": {},
     "output_type": "execute_result"
    }
   ],
   "source": [
    "df['yr_renovated'].head()"
   ]
  },
  {
   "cell_type": "code",
   "execution_count": 84,
   "metadata": {},
   "outputs": [
    {
     "data": {
      "text/plain": [
       "array([   0., 1991.,   nan, 2002., 2010., 1992., 2013., 1994., 1978.,\n",
       "       2005., 2003., 1984., 1954., 2014., 2011., 1983., 1945., 1990.,\n",
       "       1988., 1977., 1981., 1995., 2000., 1999., 1998., 1970., 1989.,\n",
       "       2004., 1986., 2007., 1987., 2006., 1985., 2001., 1980., 1971.,\n",
       "       1979., 1997., 1950., 1969., 1948., 2009., 2015., 1974., 2008.,\n",
       "       1968., 2012., 1963., 1951., 1962., 1953., 1993., 1996., 1955.,\n",
       "       1982., 1956., 1940., 1976., 1946., 1975., 1964., 1973., 1957.,\n",
       "       1959., 1960., 1967., 1965., 1934., 1972., 1944., 1958.])"
      ]
     },
     "execution_count": 84,
     "metadata": {},
     "output_type": "execute_result"
    }
   ],
   "source": [
    "df['yr_renovated'].unique()"
   ]
  },
  {
   "cell_type": "code",
   "execution_count": 85,
   "metadata": {},
   "outputs": [
    {
     "data": {
      "text/plain": [
       "0.0       17011\n",
       "2014.0       73\n",
       "2003.0       31\n",
       "2013.0       31\n",
       "2007.0       30\n",
       "Name: yr_renovated, dtype: int64"
      ]
     },
     "execution_count": 85,
     "metadata": {},
     "output_type": "execute_result"
    }
   ],
   "source": [
    "df['yr_renovated'].value_counts().head()"
   ]
  },
  {
   "cell_type": "code",
   "execution_count": 86,
   "metadata": {},
   "outputs": [
    {
     "data": {
      "text/plain": [
       "3842"
      ]
     },
     "execution_count": 86,
     "metadata": {},
     "output_type": "execute_result"
    }
   ],
   "source": [
    "sum(df['yr_renovated'].isna())"
   ]
  },
  {
   "cell_type": "markdown",
   "metadata": {},
   "source": [
    "most homes have not been renovated (17k out of 21k). there are an additional ~4k 'NaN' entries, which can probably safely be set to '0.0'"
   ]
  },
  {
   "cell_type": "code",
   "execution_count": 87,
   "metadata": {
    "collapsed": true
   },
   "outputs": [],
   "source": [
    "df['yr_renovated'] = df['yr_renovated'].fillna(0.0)"
   ]
  },
  {
   "cell_type": "code",
   "execution_count": 88,
   "metadata": {},
   "outputs": [
    {
     "data": {
      "text/plain": [
       "0"
      ]
     },
     "execution_count": 88,
     "metadata": {},
     "output_type": "execute_result"
    }
   ],
   "source": [
    "sum(df['yr_renovated'].isna())"
   ]
  },
  {
   "cell_type": "markdown",
   "metadata": {},
   "source": [
    "It is unclear how best to use this variable, but it may be interesting to look at the number of years between the renovation and the sale."
   ]
  },
  {
   "cell_type": "code",
   "execution_count": 90,
   "metadata": {},
   "outputs": [
    {
     "ename": "TypeError",
     "evalue": "ufunc subtract cannot use operands with types dtype('<M8[ns]') and dtype('float64')",
     "output_type": "error",
     "traceback": [
      "\u001b[0;31m---------------------------------------------------------------------------\u001b[0m",
      "\u001b[0;31mTypeError\u001b[0m                                 Traceback (most recent call last)",
      "\u001b[0;32m~/anaconda/envs/learn-env/lib/python3.6/site-packages/pandas/core/ops.py\u001b[0m in \u001b[0;36mna_op\u001b[0;34m(x, y)\u001b[0m\n\u001b[1;32m   1011\u001b[0m         \u001b[0;32mtry\u001b[0m\u001b[0;34m:\u001b[0m\u001b[0;34m\u001b[0m\u001b[0m\n\u001b[0;32m-> 1012\u001b[0;31m             \u001b[0mresult\u001b[0m \u001b[0;34m=\u001b[0m \u001b[0mexpressions\u001b[0m\u001b[0;34m.\u001b[0m\u001b[0mevaluate\u001b[0m\u001b[0;34m(\u001b[0m\u001b[0mop\u001b[0m\u001b[0;34m,\u001b[0m \u001b[0mstr_rep\u001b[0m\u001b[0;34m,\u001b[0m \u001b[0mx\u001b[0m\u001b[0;34m,\u001b[0m \u001b[0my\u001b[0m\u001b[0;34m,\u001b[0m \u001b[0;34m**\u001b[0m\u001b[0meval_kwargs\u001b[0m\u001b[0;34m)\u001b[0m\u001b[0;34m\u001b[0m\u001b[0m\n\u001b[0m\u001b[1;32m   1013\u001b[0m         \u001b[0;32mexcept\u001b[0m \u001b[0mTypeError\u001b[0m\u001b[0;34m:\u001b[0m\u001b[0;34m\u001b[0m\u001b[0m\n",
      "\u001b[0;32m~/anaconda/envs/learn-env/lib/python3.6/site-packages/pandas/core/computation/expressions.py\u001b[0m in \u001b[0;36mevaluate\u001b[0;34m(op, op_str, a, b, use_numexpr, **eval_kwargs)\u001b[0m\n\u001b[1;32m    204\u001b[0m     \u001b[0;32mif\u001b[0m \u001b[0muse_numexpr\u001b[0m\u001b[0;34m:\u001b[0m\u001b[0;34m\u001b[0m\u001b[0m\n\u001b[0;32m--> 205\u001b[0;31m         \u001b[0;32mreturn\u001b[0m \u001b[0m_evaluate\u001b[0m\u001b[0;34m(\u001b[0m\u001b[0mop\u001b[0m\u001b[0;34m,\u001b[0m \u001b[0mop_str\u001b[0m\u001b[0;34m,\u001b[0m \u001b[0ma\u001b[0m\u001b[0;34m,\u001b[0m \u001b[0mb\u001b[0m\u001b[0;34m,\u001b[0m \u001b[0;34m**\u001b[0m\u001b[0meval_kwargs\u001b[0m\u001b[0;34m)\u001b[0m\u001b[0;34m\u001b[0m\u001b[0m\n\u001b[0m\u001b[1;32m    206\u001b[0m     \u001b[0;32mreturn\u001b[0m \u001b[0m_evaluate_standard\u001b[0m\u001b[0;34m(\u001b[0m\u001b[0mop\u001b[0m\u001b[0;34m,\u001b[0m \u001b[0mop_str\u001b[0m\u001b[0;34m,\u001b[0m \u001b[0ma\u001b[0m\u001b[0;34m,\u001b[0m \u001b[0mb\u001b[0m\u001b[0;34m)\u001b[0m\u001b[0;34m\u001b[0m\u001b[0m\n",
      "\u001b[0;32m~/anaconda/envs/learn-env/lib/python3.6/site-packages/pandas/core/computation/expressions.py\u001b[0m in \u001b[0;36m_evaluate_standard\u001b[0;34m(op, op_str, a, b, **eval_kwargs)\u001b[0m\n\u001b[1;32m     64\u001b[0m     \u001b[0;32mwith\u001b[0m \u001b[0mnp\u001b[0m\u001b[0;34m.\u001b[0m\u001b[0merrstate\u001b[0m\u001b[0;34m(\u001b[0m\u001b[0mall\u001b[0m\u001b[0;34m=\u001b[0m\u001b[0;34m'ignore'\u001b[0m\u001b[0;34m)\u001b[0m\u001b[0;34m:\u001b[0m\u001b[0;34m\u001b[0m\u001b[0m\n\u001b[0;32m---> 65\u001b[0;31m         \u001b[0;32mreturn\u001b[0m \u001b[0mop\u001b[0m\u001b[0;34m(\u001b[0m\u001b[0ma\u001b[0m\u001b[0;34m,\u001b[0m \u001b[0mb\u001b[0m\u001b[0;34m)\u001b[0m\u001b[0;34m\u001b[0m\u001b[0m\n\u001b[0m\u001b[1;32m     66\u001b[0m \u001b[0;34m\u001b[0m\u001b[0m\n",
      "\u001b[0;32m~/anaconda/envs/learn-env/lib/python3.6/site-packages/pandas/core/ops.py\u001b[0m in \u001b[0;36mrsub\u001b[0;34m(left, right)\u001b[0m\n\u001b[1;32m    116\u001b[0m \u001b[0;32mdef\u001b[0m \u001b[0mrsub\u001b[0m\u001b[0;34m(\u001b[0m\u001b[0mleft\u001b[0m\u001b[0;34m,\u001b[0m \u001b[0mright\u001b[0m\u001b[0;34m)\u001b[0m\u001b[0;34m:\u001b[0m\u001b[0;34m\u001b[0m\u001b[0m\n\u001b[0;32m--> 117\u001b[0;31m     \u001b[0;32mreturn\u001b[0m \u001b[0mright\u001b[0m \u001b[0;34m-\u001b[0m \u001b[0mleft\u001b[0m\u001b[0;34m\u001b[0m\u001b[0m\n\u001b[0m\u001b[1;32m    118\u001b[0m \u001b[0;34m\u001b[0m\u001b[0m\n",
      "\u001b[0;32m~/anaconda/envs/learn-env/lib/python3.6/site-packages/pandas/core/indexes/datetimelike.py\u001b[0m in \u001b[0;36m__sub__\u001b[0;34m(self, other)\u001b[0m\n\u001b[1;32m    929\u001b[0m                                 .format(dtype=other.dtype,\n\u001b[0;32m--> 930\u001b[0;31m                                         cls=type(self).__name__))\n\u001b[0m\u001b[1;32m    931\u001b[0m             \u001b[0;32melse\u001b[0m\u001b[0;34m:\u001b[0m  \u001b[0;31m# pragma: no cover\u001b[0m\u001b[0;34m\u001b[0m\u001b[0m\n",
      "\u001b[0;31mTypeError\u001b[0m: cannot subtract float64-dtype from DatetimeIndex",
      "\nDuring handling of the above exception, another exception occurred:\n",
      "\u001b[0;31mTypeError\u001b[0m                                 Traceback (most recent call last)",
      "\u001b[0;32m<ipython-input-90-6610de33981c>\u001b[0m in \u001b[0;36m<module>\u001b[0;34m()\u001b[0m\n\u001b[0;32m----> 1\u001b[0;31m \u001b[0mrenovation_difference_log\u001b[0m \u001b[0;34m=\u001b[0m \u001b[0mnp\u001b[0m\u001b[0;34m.\u001b[0m\u001b[0mlog\u001b[0m\u001b[0;34m(\u001b[0m\u001b[0;34m(\u001b[0m\u001b[0mdf\u001b[0m\u001b[0;34m[\u001b[0m\u001b[0;34m'date'\u001b[0m\u001b[0;34m]\u001b[0m \u001b[0;34m-\u001b[0m \u001b[0mdf\u001b[0m\u001b[0;34m[\u001b[0m\u001b[0;34m'yr_renovated'\u001b[0m\u001b[0;34m]\u001b[0m\u001b[0;34m)\u001b[0m\u001b[0;34m)\u001b[0m\u001b[0;34m\u001b[0m\u001b[0m\n\u001b[0m",
      "\u001b[0;32m~/anaconda/envs/learn-env/lib/python3.6/site-packages/pandas/core/ops.py\u001b[0m in \u001b[0;36mwrapper\u001b[0;34m(left, right)\u001b[0m\n\u001b[1;32m   1047\u001b[0m \u001b[0;34m\u001b[0m\u001b[0m\n\u001b[1;32m   1048\u001b[0m         \u001b[0;32mif\u001b[0m \u001b[0mis_datetime64_dtype\u001b[0m\u001b[0;34m(\u001b[0m\u001b[0mleft\u001b[0m\u001b[0;34m)\u001b[0m \u001b[0;32mor\u001b[0m \u001b[0mis_datetime64tz_dtype\u001b[0m\u001b[0;34m(\u001b[0m\u001b[0mleft\u001b[0m\u001b[0;34m)\u001b[0m\u001b[0;34m:\u001b[0m\u001b[0;34m\u001b[0m\u001b[0m\n\u001b[0;32m-> 1049\u001b[0;31m             \u001b[0mresult\u001b[0m \u001b[0;34m=\u001b[0m \u001b[0mdispatch_to_index_op\u001b[0m\u001b[0;34m(\u001b[0m\u001b[0mop\u001b[0m\u001b[0;34m,\u001b[0m \u001b[0mleft\u001b[0m\u001b[0;34m,\u001b[0m \u001b[0mright\u001b[0m\u001b[0;34m,\u001b[0m \u001b[0mpd\u001b[0m\u001b[0;34m.\u001b[0m\u001b[0mDatetimeIndex\u001b[0m\u001b[0;34m)\u001b[0m\u001b[0;34m\u001b[0m\u001b[0m\n\u001b[0m\u001b[1;32m   1050\u001b[0m             return construct_result(left, result,\n\u001b[1;32m   1051\u001b[0m                                     \u001b[0mindex\u001b[0m\u001b[0;34m=\u001b[0m\u001b[0mleft\u001b[0m\u001b[0;34m.\u001b[0m\u001b[0mindex\u001b[0m\u001b[0;34m,\u001b[0m \u001b[0mname\u001b[0m\u001b[0;34m=\u001b[0m\u001b[0mres_name\u001b[0m\u001b[0;34m,\u001b[0m\u001b[0;34m\u001b[0m\u001b[0m\n",
      "\u001b[0;32m~/anaconda/envs/learn-env/lib/python3.6/site-packages/pandas/core/ops.py\u001b[0m in \u001b[0;36mdispatch_to_index_op\u001b[0;34m(op, left, right, index_class)\u001b[0m\n\u001b[1;32m   1099\u001b[0m         \u001b[0mleft_idx\u001b[0m \u001b[0;34m=\u001b[0m \u001b[0mleft_idx\u001b[0m\u001b[0;34m.\u001b[0m\u001b[0m_shallow_copy\u001b[0m\u001b[0;34m(\u001b[0m\u001b[0mfreq\u001b[0m\u001b[0;34m=\u001b[0m\u001b[0;32mNone\u001b[0m\u001b[0;34m)\u001b[0m\u001b[0;34m\u001b[0m\u001b[0m\n\u001b[1;32m   1100\u001b[0m     \u001b[0;32mtry\u001b[0m\u001b[0;34m:\u001b[0m\u001b[0;34m\u001b[0m\u001b[0m\n\u001b[0;32m-> 1101\u001b[0;31m         \u001b[0mresult\u001b[0m \u001b[0;34m=\u001b[0m \u001b[0mop\u001b[0m\u001b[0;34m(\u001b[0m\u001b[0mleft_idx\u001b[0m\u001b[0;34m,\u001b[0m \u001b[0mright\u001b[0m\u001b[0;34m)\u001b[0m\u001b[0;34m\u001b[0m\u001b[0m\n\u001b[0m\u001b[1;32m   1102\u001b[0m     \u001b[0;32mexcept\u001b[0m \u001b[0mNullFrequencyError\u001b[0m\u001b[0;34m:\u001b[0m\u001b[0;34m\u001b[0m\u001b[0m\n\u001b[1;32m   1103\u001b[0m         \u001b[0;31m# DatetimeIndex and TimedeltaIndex with freq == None raise ValueError\u001b[0m\u001b[0;34m\u001b[0m\u001b[0;34m\u001b[0m\u001b[0m\n",
      "\u001b[0;32m~/anaconda/envs/learn-env/lib/python3.6/site-packages/pandas/core/ops.py\u001b[0m in \u001b[0;36mwrapper\u001b[0;34m(left, right)\u001b[0m\n\u001b[1;32m   1067\u001b[0m             \u001b[0mrvalues\u001b[0m \u001b[0;34m=\u001b[0m \u001b[0mrvalues\u001b[0m\u001b[0;34m.\u001b[0m\u001b[0mvalues\u001b[0m\u001b[0;34m\u001b[0m\u001b[0m\n\u001b[1;32m   1068\u001b[0m \u001b[0;34m\u001b[0m\u001b[0m\n\u001b[0;32m-> 1069\u001b[0;31m         \u001b[0mresult\u001b[0m \u001b[0;34m=\u001b[0m \u001b[0msafe_na_op\u001b[0m\u001b[0;34m(\u001b[0m\u001b[0mlvalues\u001b[0m\u001b[0;34m,\u001b[0m \u001b[0mrvalues\u001b[0m\u001b[0;34m)\u001b[0m\u001b[0;34m\u001b[0m\u001b[0m\n\u001b[0m\u001b[1;32m   1070\u001b[0m         return construct_result(left, result,\n\u001b[1;32m   1071\u001b[0m                                 index=left.index, name=res_name, dtype=None)\n",
      "\u001b[0;32m~/anaconda/envs/learn-env/lib/python3.6/site-packages/pandas/core/ops.py\u001b[0m in \u001b[0;36msafe_na_op\u001b[0;34m(lvalues, rvalues)\u001b[0m\n\u001b[1;32m   1031\u001b[0m         \u001b[0;32mtry\u001b[0m\u001b[0;34m:\u001b[0m\u001b[0;34m\u001b[0m\u001b[0m\n\u001b[1;32m   1032\u001b[0m             \u001b[0;32mwith\u001b[0m \u001b[0mnp\u001b[0m\u001b[0;34m.\u001b[0m\u001b[0merrstate\u001b[0m\u001b[0;34m(\u001b[0m\u001b[0mall\u001b[0m\u001b[0;34m=\u001b[0m\u001b[0;34m'ignore'\u001b[0m\u001b[0;34m)\u001b[0m\u001b[0;34m:\u001b[0m\u001b[0;34m\u001b[0m\u001b[0m\n\u001b[0;32m-> 1033\u001b[0;31m                 \u001b[0;32mreturn\u001b[0m \u001b[0mna_op\u001b[0m\u001b[0;34m(\u001b[0m\u001b[0mlvalues\u001b[0m\u001b[0;34m,\u001b[0m \u001b[0mrvalues\u001b[0m\u001b[0;34m)\u001b[0m\u001b[0;34m\u001b[0m\u001b[0m\n\u001b[0m\u001b[1;32m   1034\u001b[0m         \u001b[0;32mexcept\u001b[0m \u001b[0mException\u001b[0m\u001b[0;34m:\u001b[0m\u001b[0;34m\u001b[0m\u001b[0m\n\u001b[1;32m   1035\u001b[0m             \u001b[0;32mif\u001b[0m \u001b[0mis_object_dtype\u001b[0m\u001b[0;34m(\u001b[0m\u001b[0mlvalues\u001b[0m\u001b[0;34m)\u001b[0m\u001b[0;34m:\u001b[0m\u001b[0;34m\u001b[0m\u001b[0m\n",
      "\u001b[0;32m~/anaconda/envs/learn-env/lib/python3.6/site-packages/pandas/core/ops.py\u001b[0m in \u001b[0;36mna_op\u001b[0;34m(x, y)\u001b[0m\n\u001b[1;32m   1016\u001b[0m                 \u001b[0mresult\u001b[0m \u001b[0;34m=\u001b[0m \u001b[0mnp\u001b[0m\u001b[0;34m.\u001b[0m\u001b[0mempty\u001b[0m\u001b[0;34m(\u001b[0m\u001b[0mx\u001b[0m\u001b[0;34m.\u001b[0m\u001b[0msize\u001b[0m\u001b[0;34m,\u001b[0m \u001b[0mdtype\u001b[0m\u001b[0;34m=\u001b[0m\u001b[0mdtype\u001b[0m\u001b[0;34m)\u001b[0m\u001b[0;34m\u001b[0m\u001b[0m\n\u001b[1;32m   1017\u001b[0m                 \u001b[0mmask\u001b[0m \u001b[0;34m=\u001b[0m \u001b[0mnotna\u001b[0m\u001b[0;34m(\u001b[0m\u001b[0mx\u001b[0m\u001b[0;34m)\u001b[0m \u001b[0;34m&\u001b[0m \u001b[0mnotna\u001b[0m\u001b[0;34m(\u001b[0m\u001b[0my\u001b[0m\u001b[0;34m)\u001b[0m\u001b[0;34m\u001b[0m\u001b[0m\n\u001b[0;32m-> 1018\u001b[0;31m                 \u001b[0mresult\u001b[0m\u001b[0;34m[\u001b[0m\u001b[0mmask\u001b[0m\u001b[0;34m]\u001b[0m \u001b[0;34m=\u001b[0m \u001b[0mop\u001b[0m\u001b[0;34m(\u001b[0m\u001b[0mx\u001b[0m\u001b[0;34m[\u001b[0m\u001b[0mmask\u001b[0m\u001b[0;34m]\u001b[0m\u001b[0;34m,\u001b[0m \u001b[0mcom\u001b[0m\u001b[0;34m.\u001b[0m\u001b[0m_values_from_object\u001b[0m\u001b[0;34m(\u001b[0m\u001b[0my\u001b[0m\u001b[0;34m[\u001b[0m\u001b[0mmask\u001b[0m\u001b[0;34m]\u001b[0m\u001b[0;34m)\u001b[0m\u001b[0;34m)\u001b[0m\u001b[0;34m\u001b[0m\u001b[0m\n\u001b[0m\u001b[1;32m   1019\u001b[0m             \u001b[0;32melse\u001b[0m\u001b[0;34m:\u001b[0m\u001b[0;34m\u001b[0m\u001b[0m\n\u001b[1;32m   1020\u001b[0m                 \u001b[0;32massert\u001b[0m \u001b[0misinstance\u001b[0m\u001b[0;34m(\u001b[0m\u001b[0mx\u001b[0m\u001b[0;34m,\u001b[0m \u001b[0mnp\u001b[0m\u001b[0;34m.\u001b[0m\u001b[0mndarray\u001b[0m\u001b[0;34m)\u001b[0m\u001b[0;34m\u001b[0m\u001b[0m\n",
      "\u001b[0;32m~/anaconda/envs/learn-env/lib/python3.6/site-packages/pandas/core/ops.py\u001b[0m in \u001b[0;36mrsub\u001b[0;34m(left, right)\u001b[0m\n\u001b[1;32m    115\u001b[0m \u001b[0;34m\u001b[0m\u001b[0m\n\u001b[1;32m    116\u001b[0m \u001b[0;32mdef\u001b[0m \u001b[0mrsub\u001b[0m\u001b[0;34m(\u001b[0m\u001b[0mleft\u001b[0m\u001b[0;34m,\u001b[0m \u001b[0mright\u001b[0m\u001b[0;34m)\u001b[0m\u001b[0;34m:\u001b[0m\u001b[0;34m\u001b[0m\u001b[0m\n\u001b[0;32m--> 117\u001b[0;31m     \u001b[0;32mreturn\u001b[0m \u001b[0mright\u001b[0m \u001b[0;34m-\u001b[0m \u001b[0mleft\u001b[0m\u001b[0;34m\u001b[0m\u001b[0m\n\u001b[0m\u001b[1;32m    118\u001b[0m \u001b[0;34m\u001b[0m\u001b[0m\n\u001b[1;32m    119\u001b[0m \u001b[0;34m\u001b[0m\u001b[0m\n",
      "\u001b[0;31mTypeError\u001b[0m: ufunc subtract cannot use operands with types dtype('<M8[ns]') and dtype('float64')"
     ]
    }
   ],
   "source": [
    "renovation_difference_log = np.log((df['date'] - df['yr_renovated']))"
   ]
  },
  {
   "cell_type": "code",
   "execution_count": null,
   "metadata": {
    "collapsed": true
   },
   "outputs": [],
   "source": [
    "renovation_difference_log.plot.hist()"
   ]
  },
  {
   "cell_type": "code",
   "execution_count": null,
   "metadata": {
    "collapsed": true
   },
   "outputs": [],
   "source": [
    "(df['date'].map(lambda x: x.year).astype(float) - df['yr_renovated']).plot.hist(bins=range(0,200,10))"
   ]
  },
  {
   "cell_type": "code",
   "execution_count": null,
   "metadata": {
    "collapsed": true
   },
   "outputs": [],
   "source": [
    "(df['date'] - df['yr_renovated']).plot.hist()"
   ]
  },
  {
   "cell_type": "code",
   "execution_count": null,
   "metadata": {
    "collapsed": true
   },
   "outputs": [],
   "source": [
    "df.info()"
   ]
  },
  {
   "cell_type": "markdown",
   "metadata": {},
   "source": [
    "# zipcode"
   ]
  },
  {
   "cell_type": "markdown",
   "metadata": {},
   "source": [
    "add zipcode ranking column"
   ]
  },
  {
   "cell_type": "code",
   "execution_count": null,
   "metadata": {
    "collapsed": true
   },
   "outputs": [],
   "source": [
    "df['zipcode'].head()"
   ]
  },
  {
   "cell_type": "code",
   "execution_count": null,
   "metadata": {
    "collapsed": true
   },
   "outputs": [],
   "source": [
    "df['zipcode'].plot.hist()"
   ]
  },
  {
   "cell_type": "markdown",
   "metadata": {},
   "source": [
    "This is a categorical variable and therefore is probably not straightforwardly useful in regression. Otherwise, looks OK."
   ]
  },
  {
   "cell_type": "code",
   "execution_count": null,
   "metadata": {
    "collapsed": true
   },
   "outputs": [],
   "source": [
    "df.info()"
   ]
  },
  {
   "cell_type": "markdown",
   "metadata": {},
   "source": [
    "# lat"
   ]
  },
  {
   "cell_type": "markdown",
   "metadata": {},
   "source": [
    "Presumably it would be useful to know how much homes near to you have sold for, which could be discovered using the lat and long variables."
   ]
  },
  {
   "cell_type": "code",
   "execution_count": null,
   "metadata": {
    "collapsed": true
   },
   "outputs": [],
   "source": [
    "df['lat'].head()"
   ]
  },
  {
   "cell_type": "code",
   "execution_count": null,
   "metadata": {
    "collapsed": true
   },
   "outputs": [],
   "source": [
    "df['lat'].plot.hist()"
   ]
  },
  {
   "cell_type": "markdown",
   "metadata": {},
   "source": [
    "# long"
   ]
  },
  {
   "cell_type": "code",
   "execution_count": null,
   "metadata": {
    "collapsed": true
   },
   "outputs": [],
   "source": [
    "df['long'].head()"
   ]
  },
  {
   "cell_type": "code",
   "execution_count": null,
   "metadata": {
    "collapsed": true
   },
   "outputs": [],
   "source": [
    "df['long'].plot.hist()"
   ]
  },
  {
   "cell_type": "code",
   "execution_count": null,
   "metadata": {
    "collapsed": true
   },
   "outputs": [],
   "source": [
    "df.info()"
   ]
  },
  {
   "cell_type": "markdown",
   "metadata": {},
   "source": [
    "# sqft_living15"
   ]
  },
  {
   "cell_type": "markdown",
   "metadata": {},
   "source": [
    "* **sqft_living15** - The square footage of interior housing living space for the nearest 15 neighbors\n",
    "* **sqft_lot15** - The square footage of the land lots of the nearest 15 neighbors"
   ]
  },
  {
   "cell_type": "code",
   "execution_count": null,
   "metadata": {
    "collapsed": true
   },
   "outputs": [],
   "source": [
    "df['sqft_living15'].plot.hist()"
   ]
  },
  {
   "cell_type": "code",
   "execution_count": null,
   "metadata": {
    "collapsed": true
   },
   "outputs": [],
   "source": [
    "np.sqrt(df['sqft_living']).plot.hist()"
   ]
  },
  {
   "cell_type": "markdown",
   "metadata": {},
   "source": [
    "The square root of the square feet is more normally distributed than the raw square feet."
   ]
  },
  {
   "cell_type": "markdown",
   "metadata": {},
   "source": [
    "# sqft_lot15"
   ]
  },
  {
   "cell_type": "code",
   "execution_count": null,
   "metadata": {
    "collapsed": true
   },
   "outputs": [],
   "source": [
    "df['sqft_lot15'].plot.hist()"
   ]
  },
  {
   "cell_type": "code",
   "execution_count": null,
   "metadata": {
    "collapsed": true
   },
   "outputs": [],
   "source": [
    "df['sqft_lot15'].plot.hist(bins=range(0,100000,1000))"
   ]
  },
  {
   "cell_type": "code",
   "execution_count": null,
   "metadata": {
    "collapsed": true
   },
   "outputs": [],
   "source": [
    "np.sqrt(df['sqft_lot15']).plot.hist(bins=range(0,300,10))"
   ]
  },
  {
   "cell_type": "markdown",
   "metadata": {},
   "source": [
    "# Correlation heatmap"
   ]
  },
  {
   "cell_type": "code",
   "execution_count": null,
   "metadata": {
    "collapsed": true
   },
   "outputs": [],
   "source": [
    "import seaborn as sns"
   ]
  },
  {
   "cell_type": "code",
   "execution_count": null,
   "metadata": {
    "collapsed": true
   },
   "outputs": [],
   "source": [
    "# calculate the correlation matrix\n",
    "corr = df.corr()\n",
    "\n",
    "plt.figure(figsize=(16,12))\n",
    "\n",
    "# plot the heatmap\n",
    "sns.heatmap(corr, \n",
    "        xticklabels=corr.columns,\n",
    "        yticklabels=corr.columns,vmin=-1,vmax=1,cmap=sns.diverging_palette(240, 10, n=9))"
   ]
  },
  {
   "cell_type": "code",
   "execution_count": null,
   "metadata": {
    "collapsed": true
   },
   "outputs": [],
   "source": [
    "df.info()"
   ]
  },
  {
   "cell_type": "code",
   "execution_count": null,
   "metadata": {
    "collapsed": true
   },
   "outputs": [],
   "source": [
    "# calculate the correlation matrix\n",
    "corr = df[[\"price\", \"bedrooms\", \"bathrooms\", \"sqft_living\", \"grade\", \"sqft_above\", \"sqft_living15\"]].corr()\n",
    "\n",
    "plt.figure(figsize=(6,6))\n",
    "\n",
    "# plot the heatmap\n",
    "sns.heatmap(corr, \n",
    "        xticklabels=corr.columns,\n",
    "        yticklabels=corr.columns,vmin=-1,vmax=1,cmap=sns.diverging_palette(240, 10, n=9))"
   ]
  },
  {
   "cell_type": "code",
   "execution_count": null,
   "metadata": {
    "collapsed": true
   },
   "outputs": [],
   "source": [
    "# calculate the correlation matrix\n",
    "corr = df[[\"price\", \"bedrooms\", \"bathrooms\", \"sqft_living\", \"grade\", \"sqft_above\", \"sqft_living15\"]].astype(float).corr()\n",
    "\n",
    "plt.figure(figsize=(6,6))\n",
    "\n",
    "# plot the heatmap\n",
    "sns.heatmap(corr, \n",
    "        xticklabels=corr.columns,\n",
    "        yticklabels=corr.columns,vmin=-1,vmax=1,cmap=sns.diverging_palette(240, 10, n=9))"
   ]
  },
  {
   "cell_type": "code",
   "execution_count": null,
   "metadata": {
    "collapsed": true
   },
   "outputs": [],
   "source": [
    "df['log_price'] = np.log(df['price'])"
   ]
  },
  {
   "cell_type": "code",
   "execution_count": 91,
   "metadata": {},
   "outputs": [
    {
     "ename": "KeyError",
     "evalue": "\"['log_price'] not in index\"",
     "output_type": "error",
     "traceback": [
      "\u001b[0;31m---------------------------------------------------------------------------\u001b[0m",
      "\u001b[0;31mKeyError\u001b[0m                                  Traceback (most recent call last)",
      "\u001b[0;32m<ipython-input-91-abffae043c75>\u001b[0m in \u001b[0;36m<module>\u001b[0;34m()\u001b[0m\n\u001b[1;32m      1\u001b[0m \u001b[0;31m# calculate the correlation matrix\u001b[0m\u001b[0;34m\u001b[0m\u001b[0;34m\u001b[0m\u001b[0m\n\u001b[0;32m----> 2\u001b[0;31m \u001b[0mcorr\u001b[0m \u001b[0;34m=\u001b[0m \u001b[0mdf\u001b[0m\u001b[0;34m[\u001b[0m\u001b[0;34m[\u001b[0m\u001b[0;34m\"log_price\"\u001b[0m\u001b[0;34m,\u001b[0m \u001b[0;34m\"price\"\u001b[0m\u001b[0;34m,\u001b[0m \u001b[0;34m\"bedrooms\"\u001b[0m\u001b[0;34m,\u001b[0m \u001b[0;34m\"bathrooms\"\u001b[0m\u001b[0;34m,\u001b[0m \u001b[0;34m\"sqft_living\"\u001b[0m\u001b[0;34m,\u001b[0m \u001b[0;34m\"grade\"\u001b[0m\u001b[0;34m,\u001b[0m \u001b[0;34m\"sqft_above\"\u001b[0m\u001b[0;34m,\u001b[0m \u001b[0;34m\"sqft_living15\"\u001b[0m\u001b[0;34m]\u001b[0m\u001b[0;34m]\u001b[0m\u001b[0;34m.\u001b[0m\u001b[0mastype\u001b[0m\u001b[0;34m(\u001b[0m\u001b[0mfloat\u001b[0m\u001b[0;34m)\u001b[0m\u001b[0;34m.\u001b[0m\u001b[0mcorr\u001b[0m\u001b[0;34m(\u001b[0m\u001b[0;34m)\u001b[0m\u001b[0;34m\u001b[0m\u001b[0m\n\u001b[0m\u001b[1;32m      3\u001b[0m \u001b[0;34m\u001b[0m\u001b[0m\n\u001b[1;32m      4\u001b[0m \u001b[0mplt\u001b[0m\u001b[0;34m.\u001b[0m\u001b[0mfigure\u001b[0m\u001b[0;34m(\u001b[0m\u001b[0mfigsize\u001b[0m\u001b[0;34m=\u001b[0m\u001b[0;34m(\u001b[0m\u001b[0;36m6\u001b[0m\u001b[0;34m,\u001b[0m\u001b[0;36m6\u001b[0m\u001b[0;34m)\u001b[0m\u001b[0;34m)\u001b[0m\u001b[0;34m\u001b[0m\u001b[0m\n\u001b[1;32m      5\u001b[0m \u001b[0;34m\u001b[0m\u001b[0m\n",
      "\u001b[0;32m~/anaconda/envs/learn-env/lib/python3.6/site-packages/pandas/core/frame.py\u001b[0m in \u001b[0;36m__getitem__\u001b[0;34m(self, key)\u001b[0m\n\u001b[1;32m   2680\u001b[0m         \u001b[0;32mif\u001b[0m \u001b[0misinstance\u001b[0m\u001b[0;34m(\u001b[0m\u001b[0mkey\u001b[0m\u001b[0;34m,\u001b[0m \u001b[0;34m(\u001b[0m\u001b[0mSeries\u001b[0m\u001b[0;34m,\u001b[0m \u001b[0mnp\u001b[0m\u001b[0;34m.\u001b[0m\u001b[0mndarray\u001b[0m\u001b[0;34m,\u001b[0m \u001b[0mIndex\u001b[0m\u001b[0;34m,\u001b[0m \u001b[0mlist\u001b[0m\u001b[0;34m)\u001b[0m\u001b[0;34m)\u001b[0m\u001b[0;34m:\u001b[0m\u001b[0;34m\u001b[0m\u001b[0m\n\u001b[1;32m   2681\u001b[0m             \u001b[0;31m# either boolean or fancy integer index\u001b[0m\u001b[0;34m\u001b[0m\u001b[0;34m\u001b[0m\u001b[0m\n\u001b[0;32m-> 2682\u001b[0;31m             \u001b[0;32mreturn\u001b[0m \u001b[0mself\u001b[0m\u001b[0;34m.\u001b[0m\u001b[0m_getitem_array\u001b[0m\u001b[0;34m(\u001b[0m\u001b[0mkey\u001b[0m\u001b[0;34m)\u001b[0m\u001b[0;34m\u001b[0m\u001b[0m\n\u001b[0m\u001b[1;32m   2683\u001b[0m         \u001b[0;32melif\u001b[0m \u001b[0misinstance\u001b[0m\u001b[0;34m(\u001b[0m\u001b[0mkey\u001b[0m\u001b[0;34m,\u001b[0m \u001b[0mDataFrame\u001b[0m\u001b[0;34m)\u001b[0m\u001b[0;34m:\u001b[0m\u001b[0;34m\u001b[0m\u001b[0m\n\u001b[1;32m   2684\u001b[0m             \u001b[0;32mreturn\u001b[0m \u001b[0mself\u001b[0m\u001b[0;34m.\u001b[0m\u001b[0m_getitem_frame\u001b[0m\u001b[0;34m(\u001b[0m\u001b[0mkey\u001b[0m\u001b[0;34m)\u001b[0m\u001b[0;34m\u001b[0m\u001b[0m\n",
      "\u001b[0;32m~/anaconda/envs/learn-env/lib/python3.6/site-packages/pandas/core/frame.py\u001b[0m in \u001b[0;36m_getitem_array\u001b[0;34m(self, key)\u001b[0m\n\u001b[1;32m   2724\u001b[0m             \u001b[0;32mreturn\u001b[0m \u001b[0mself\u001b[0m\u001b[0;34m.\u001b[0m\u001b[0m_take\u001b[0m\u001b[0;34m(\u001b[0m\u001b[0mindexer\u001b[0m\u001b[0;34m,\u001b[0m \u001b[0maxis\u001b[0m\u001b[0;34m=\u001b[0m\u001b[0;36m0\u001b[0m\u001b[0;34m)\u001b[0m\u001b[0;34m\u001b[0m\u001b[0m\n\u001b[1;32m   2725\u001b[0m         \u001b[0;32melse\u001b[0m\u001b[0;34m:\u001b[0m\u001b[0;34m\u001b[0m\u001b[0m\n\u001b[0;32m-> 2726\u001b[0;31m             \u001b[0mindexer\u001b[0m \u001b[0;34m=\u001b[0m \u001b[0mself\u001b[0m\u001b[0;34m.\u001b[0m\u001b[0mloc\u001b[0m\u001b[0;34m.\u001b[0m\u001b[0m_convert_to_indexer\u001b[0m\u001b[0;34m(\u001b[0m\u001b[0mkey\u001b[0m\u001b[0;34m,\u001b[0m \u001b[0maxis\u001b[0m\u001b[0;34m=\u001b[0m\u001b[0;36m1\u001b[0m\u001b[0;34m)\u001b[0m\u001b[0;34m\u001b[0m\u001b[0m\n\u001b[0m\u001b[1;32m   2727\u001b[0m             \u001b[0;32mreturn\u001b[0m \u001b[0mself\u001b[0m\u001b[0;34m.\u001b[0m\u001b[0m_take\u001b[0m\u001b[0;34m(\u001b[0m\u001b[0mindexer\u001b[0m\u001b[0;34m,\u001b[0m \u001b[0maxis\u001b[0m\u001b[0;34m=\u001b[0m\u001b[0;36m1\u001b[0m\u001b[0;34m)\u001b[0m\u001b[0;34m\u001b[0m\u001b[0m\n\u001b[1;32m   2728\u001b[0m \u001b[0;34m\u001b[0m\u001b[0m\n",
      "\u001b[0;32m~/anaconda/envs/learn-env/lib/python3.6/site-packages/pandas/core/indexing.py\u001b[0m in \u001b[0;36m_convert_to_indexer\u001b[0;34m(self, obj, axis, is_setter)\u001b[0m\n\u001b[1;32m   1325\u001b[0m                 \u001b[0;32mif\u001b[0m \u001b[0mmask\u001b[0m\u001b[0;34m.\u001b[0m\u001b[0many\u001b[0m\u001b[0;34m(\u001b[0m\u001b[0;34m)\u001b[0m\u001b[0;34m:\u001b[0m\u001b[0;34m\u001b[0m\u001b[0m\n\u001b[1;32m   1326\u001b[0m                     raise KeyError('{mask} not in index'\n\u001b[0;32m-> 1327\u001b[0;31m                                    .format(mask=objarr[mask]))\n\u001b[0m\u001b[1;32m   1328\u001b[0m \u001b[0;34m\u001b[0m\u001b[0m\n\u001b[1;32m   1329\u001b[0m                 \u001b[0;32mreturn\u001b[0m \u001b[0mcom\u001b[0m\u001b[0;34m.\u001b[0m\u001b[0m_values_from_object\u001b[0m\u001b[0;34m(\u001b[0m\u001b[0mindexer\u001b[0m\u001b[0;34m)\u001b[0m\u001b[0;34m\u001b[0m\u001b[0m\n",
      "\u001b[0;31mKeyError\u001b[0m: \"['log_price'] not in index\""
     ]
    }
   ],
   "source": [
    "# calculate the correlation matrix\n",
    "corr = df[[\"log_price\", \"price\", \"bedrooms\", \"bathrooms\", \"sqft_living\", \"grade\", \"sqft_above\", \"sqft_living15\"]].astype(float).corr()\n",
    "\n",
    "plt.figure(figsize=(6,6))\n",
    "\n",
    "# plot the heatmap\n",
    "sns.heatmap(corr, \n",
    "        xticklabels=corr.columns,\n",
    "        yticklabels=corr.columns,vmin=-1,vmax=1,cmap=sns.diverging_palette(240, 10, n=18))"
   ]
  },
  {
   "cell_type": "code",
   "execution_count": null,
   "metadata": {
    "collapsed": true
   },
   "outputs": [],
   "source": [
    "plt.scatter(df['log_price'], df['price'])"
   ]
  },
  {
   "cell_type": "code",
   "execution_count": null,
   "metadata": {
    "collapsed": true
   },
   "outputs": [],
   "source": [
    "# calculate the correlation matrix\n",
    "corr = df.corr()\n",
    "\n",
    "plt.figure(figsize=(16,12))\n",
    "\n",
    "# plot the heatmap\n",
    "sns.heatmap(corr, \n",
    "        xticklabels=corr.columns,\n",
    "        yticklabels=corr.columns,vmin=-1,vmax=1,cmap=sns.diverging_palette(240, 10, n=9))"
   ]
  },
  {
   "cell_type": "code",
   "execution_count": null,
   "metadata": {
    "collapsed": true
   },
   "outputs": [],
   "source": [
    "plt.scatter(corr['price'], corr['log_price'])\n",
    "plt.plot(range(2), range(2))"
   ]
  },
  {
   "cell_type": "markdown",
   "metadata": {},
   "source": [
    "# First attempt at regression"
   ]
  },
  {
   "cell_type": "code",
   "execution_count": null,
   "metadata": {
    "collapsed": true
   },
   "outputs": [],
   "source": [
    "from sklearn.linear_model import LinearRegression"
   ]
  },
  {
   "cell_type": "code",
   "execution_count": null,
   "metadata": {
    "collapsed": true
   },
   "outputs": [],
   "source": [
    "df.info()"
   ]
  },
  {
   "cell_type": "code",
   "execution_count": null,
   "metadata": {
    "collapsed": true
   },
   "outputs": [],
   "source": [
    "df['date'] = pd.to_numeric(df['date'])"
   ]
  },
  {
   "cell_type": "code",
   "execution_count": null,
   "metadata": {
    "collapsed": true
   },
   "outputs": [],
   "source": [
    "df['sqft_basement'] = pd.to_numeric(df['sqft_basement'].replace('?', '0.0'))"
   ]
  },
  {
   "cell_type": "code",
   "execution_count": null,
   "metadata": {
    "collapsed": true
   },
   "outputs": [],
   "source": [
    "df.info()"
   ]
  },
  {
   "cell_type": "code",
   "execution_count": null,
   "metadata": {
    "collapsed": true
   },
   "outputs": [],
   "source": [
    "df = df[df[\"waterfront\"].isna() == False] # uncomment and execute to drop rows with no \"waterfront\" information"
   ]
  },
  {
   "cell_type": "code",
   "execution_count": null,
   "metadata": {
    "collapsed": true
   },
   "outputs": [],
   "source": [
    "df.info()"
   ]
  },
  {
   "cell_type": "code",
   "execution_count": null,
   "metadata": {
    "collapsed": true
   },
   "outputs": [],
   "source": [
    "df = df[df[\"view\"].isna() == False] # uncomment and execute to drop rows with no \"view\" information"
   ]
  },
  {
   "cell_type": "code",
   "execution_count": null,
   "metadata": {
    "collapsed": true
   },
   "outputs": [],
   "source": [
    "df.info()"
   ]
  },
  {
   "cell_type": "code",
   "execution_count": null,
   "metadata": {
    "collapsed": true
   },
   "outputs": [],
   "source": [
    "X = df[[x for x in df.columns if x != 'price']]"
   ]
  },
  {
   "cell_type": "code",
   "execution_count": null,
   "metadata": {
    "collapsed": true
   },
   "outputs": [],
   "source": [
    "y = df['price']"
   ]
  },
  {
   "cell_type": "code",
   "execution_count": null,
   "metadata": {
    "collapsed": true
   },
   "outputs": [],
   "source": [
    "reg = LinearRegression().fit(X, y)"
   ]
  },
  {
   "cell_type": "code",
   "execution_count": null,
   "metadata": {
    "collapsed": true
   },
   "outputs": [],
   "source": [
    "predictions = reg.predict(X)"
   ]
  },
  {
   "cell_type": "code",
   "execution_count": null,
   "metadata": {
    "collapsed": true
   },
   "outputs": [],
   "source": [
    "residuals = predictions - y\n",
    "mse = (residuals**2).mean()"
   ]
  },
  {
   "cell_type": "code",
   "execution_count": null,
   "metadata": {
    "collapsed": true
   },
   "outputs": [],
   "source": [
    "mse"
   ]
  },
  {
   "cell_type": "code",
   "execution_count": null,
   "metadata": {
    "collapsed": true
   },
   "outputs": [],
   "source": [
    "np.sqrt(mse)"
   ]
  },
  {
   "cell_type": "code",
   "execution_count": null,
   "metadata": {
    "collapsed": true
   },
   "outputs": [],
   "source": [
    "from sklearn.metrics import r2_score"
   ]
  },
  {
   "cell_type": "code",
   "execution_count": null,
   "metadata": {
    "collapsed": true
   },
   "outputs": [],
   "source": [
    "r2_score(y,predictions)"
   ]
  },
  {
   "cell_type": "code",
   "execution_count": null,
   "metadata": {
    "collapsed": true
   },
   "outputs": [],
   "source": [
    "plt.scatter(y,predictions)"
   ]
  },
  {
   "cell_type": "code",
   "execution_count": null,
   "metadata": {
    "collapsed": true
   },
   "outputs": [],
   "source": [
    "df['price'].plot.hist()"
   ]
  },
  {
   "cell_type": "markdown",
   "metadata": {
    "collapsed": true
   },
   "source": [
    "# Working on function library"
   ]
  },
  {
   "cell_type": "code",
   "execution_count": 92,
   "metadata": {},
   "outputs": [
    {
     "name": "stdout",
     "output_type": "stream",
     "text": [
      "hello joe\n"
     ]
    }
   ],
   "source": [
    "hello()"
   ]
  },
  {
   "cell_type": "code",
   "execution_count": 445,
   "metadata": {
    "collapsed": true
   },
   "outputs": [],
   "source": [
    "from function_library import *"
   ]
  },
  {
   "cell_type": "code",
   "execution_count": 677,
   "metadata": {},
   "outputs": [
    {
     "name": "stdout",
     "output_type": "stream",
     "text": [
      "waterfront has 2376 NA values, which corresponds to 11.00% of the data.\n",
      "view has 63 NA values, which corresponds to 0.29% of the data.\n",
      "yr_renovated has 3842 NA values, which corresponds to 17.79% of the data.\n",
      "Index(['date', 'price', 'bedrooms', 'bathrooms', 'sqft_living', 'sqft_lot',\n",
      "       'floors', 'waterfront', 'view', 'condition', 'grade', 'sqft_above',\n",
      "       'sqft_basement', 'yr_built', 'yr_renovated', 'zipcode', 'lat', 'long',\n",
      "       'sqft_living15', 'sqft_lot15'],\n",
      "      dtype='object')\n",
      "yr_renovated has 3402 NA values, which corresponds to 17.75% of the data.\n",
      "There are no NA values in the dataframe.\n",
      "sqft_basement is a nonnumeric column (object).\n",
      "\n",
      "sqft_basement information:\n",
      "298 unique values.\n",
      "Top 5 unique values\n",
      "1. 0.0 has 11379 entries, which is  59.38% of the data.\n",
      "2. ? has 415 entries, which is  2.17% of the data.\n",
      "3. 600.0 has 190 entries, which is  0.99% of the data.\n",
      "4. 700.0 has 187 entries, which is  0.98% of the data.\n",
      "5. 500.0 has 186 entries, which is  0.97% of the data.\n",
      "sqft_basement is a nonnumeric column (object).\n",
      "\n",
      "sqft_basement information:\n",
      "297 unique values.\n",
      "Top 5 unique values\n",
      "1. 0.0 has 11379 entries, which is  60.69% of the data.\n",
      "2. 600.0 has 190 entries, which is  1.01% of the data.\n",
      "3. 700.0 has 187 entries, which is  1.00% of the data.\n",
      "4. 500.0 has 186 entries, which is  0.99% of the data.\n",
      "5. 800.0 has 171 entries, which is  0.91% of the data.\n",
      "There are no nonnumeric columns.\n",
      "waterfront has 18608 zeros, which is  99.25% of the data.\n",
      "view has 16941 zeros, which is  90.36% of the data.\n",
      "sqft_basement has 11379 zeros, which is  60.69% of the data.\n",
      "Tranformed column: price\n",
      "Tranformed column: bedrooms\n",
      "Tranformed column: bathrooms\n",
      "Tranformed column: sqft_living\n",
      "Tranformed column: sqft_lot\n",
      "Tranformed column: floors\n",
      "Tranformed column: condition\n",
      "Tranformed column: grade\n",
      "Tranformed column: sqft_above\n",
      "Tranformed column: sqft_living15\n",
      "Tranformed column: sqft_lot15\n",
      "0.3411131890754828\n",
      "0.8836417922387538\n"
     ]
    }
   ],
   "source": [
    "df = load_kc_data(filename='kc_house_data.csv', verbose=False)\n",
    "\n",
    "df = replace_with_year(df, 'date')\n",
    "\n",
    "na_columns = check_for_na_values(df)\n",
    "\n",
    "df = drop_columns(df, [\"id\"])\n",
    "\n",
    "df = drop_na_rows(df, [\"waterfront\", \"view\"])\n",
    "\n",
    "na_columns = check_for_na_values(df)\n",
    "\n",
    "df = convert_columns_with_types(df, \"yr_renovated\", int, fill_na=True)\n",
    "\n",
    "df = replace_values_with_another_column(df, [0], \"yr_renovated\", \"yr_built\", replace_na=True)\n",
    "\n",
    "na_columns = check_for_na_values(df)\n",
    "\n",
    "nonnumeric_columns = check_for_nonnumeric_columns(df, print_num_unique_values=5)\n",
    "\n",
    "df = drop_rows_with_value(df, 'sqft_basement', '?')\n",
    "# df = replace_values_with_value(df, '?', 'sqft_basement', '0.0')\n",
    "\n",
    "nonnumeric_columns = check_for_nonnumeric_columns(df, print_num_unique_values=5)\n",
    "\n",
    "df = convert_columns_with_function(df, \"sqft_basement\", pd.to_numeric)\n",
    "\n",
    "nonnumeric_columns = check_for_nonnumeric_columns(df, print_num_unique_values=5)\n",
    "\n",
    "columns_with_zeros = check_for_zeros(df)\n",
    "\n",
    "df = binarize_column(df, \"view\", new_column_name=\"was_viewed\")\n",
    "\n",
    "df = binarize_column(df, \"sqft_basement\", new_column_name=\"has_basement\")\n",
    "\n",
    "df = add_dummy_zipcodes(df)\n",
    "\n",
    "df, log_transformed_columns = log_transform_columns(df, ['price', 'bedrooms', 'bathrooms', \n",
    "                                'sqft_living', 'sqft_lot', 'floors', \n",
    "                                'condition', 'grade', 'sqft_above',\n",
    "                                'sqft_living15', 'sqft_lot15'],\n",
    "                           replace_only_when_improved=True, verbose=False)\n",
    "\n",
    "columns_to_standardize = log_transformed_columns\n",
    "df = scale_and_normalize_columns(df, columns_to_standardize, [standardization]*len(columns_to_standardize))\n",
    "\n",
    "# check_for_linear_correlations(df, target='price')\n",
    "\n",
    "# check_for_normality(df)\n",
    "\n",
    "linreg = build_linear_model_sklearn(df, \"price\")\n",
    "\n",
    "predictions = get_predictions_from_linear_model(df, linreg, \"price\")\n",
    "\n",
    "print(get_RMSE_from_linear_model_sklearn(df, linreg, \"price\"))\n",
    "print(get_rsq_sklearn(df, linreg, \"price\"))"
   ]
  },
  {
   "cell_type": "code",
   "execution_count": 706,
   "metadata": {
    "collapsed": true
   },
   "outputs": [],
   "source": [
    "from function_library import *"
   ]
  },
  {
   "cell_type": "code",
   "execution_count": 735,
   "metadata": {},
   "outputs": [
    {
     "name": "stdout",
     "output_type": "stream",
     "text": [
      "waterfront has 2376 NA values, which corresponds to 11.00% of the data.\n",
      "view has 63 NA values, which corresponds to 0.29% of the data.\n",
      "yr_renovated has 3842 NA values, which corresponds to 17.79% of the data.\n",
      "Index(['date', 'price', 'bedrooms', 'bathrooms', 'sqft_living', 'sqft_lot',\n",
      "       'floors', 'waterfront', 'view', 'condition', 'grade', 'sqft_above',\n",
      "       'sqft_basement', 'yr_built', 'yr_renovated', 'zipcode', 'lat', 'long',\n",
      "       'sqft_living15', 'sqft_lot15'],\n",
      "      dtype='object')\n",
      "yr_renovated has 3402 NA values, which corresponds to 17.75% of the data.\n",
      "There are no NA values in the dataframe.\n",
      "sqft_basement is a nonnumeric column (object).\n",
      "\n",
      "sqft_basement information:\n",
      "298 unique values.\n",
      "Top 5 unique values\n",
      "1. 0.0 has 11379 entries, which is  59.38% of the data.\n",
      "2. ? has 415 entries, which is  2.17% of the data.\n",
      "3. 600.0 has 190 entries, which is  0.99% of the data.\n",
      "4. 700.0 has 187 entries, which is  0.98% of the data.\n",
      "5. 500.0 has 186 entries, which is  0.97% of the data.\n",
      "sqft_basement is a nonnumeric column (object).\n",
      "\n",
      "sqft_basement information:\n",
      "297 unique values.\n",
      "Top 5 unique values\n",
      "1. 0.0 has 11794 entries, which is  61.54% of the data.\n",
      "2. 600.0 has 190 entries, which is  0.99% of the data.\n",
      "3. 700.0 has 187 entries, which is  0.98% of the data.\n",
      "4. 500.0 has 186 entries, which is  0.97% of the data.\n",
      "5. 800.0 has 171 entries, which is  0.89% of the data.\n",
      "There are no nonnumeric columns.\n",
      "waterfront has 19019 zeros, which is  99.24% of the data.\n",
      "view has 17312 zeros, which is  90.34% of the data.\n",
      "sqft_basement has 11794 zeros, which is  61.54% of the data.\n",
      "Tranformed column: price\n",
      "Tranformed column: bedrooms\n",
      "Tranformed column: bathrooms\n",
      "Tranformed column: sqft_living\n",
      "Tranformed column: sqft_lot\n",
      "Tranformed column: floors\n",
      "Tranformed column: condition\n",
      "Tranformed column: grade\n",
      "Tranformed column: sqft_above\n",
      "Tranformed column: sqft_living15\n",
      "Tranformed column: sqft_lot15\n",
      "0.3412044604004272\n",
      "0.8835795162028534\n",
      "0.8830424256354013\n",
      "[0.8815192  0.87708325 0.88103715 0.88605646 0.8796311 ]\n",
      "[98004, 98005, 98006, 98007, 98008, 98011, 98014, 98019, 98024, 98027, 98028, 98029, 98033, 98034, 98039, 98040, 98045, 98052, 98053, 98059, 98065, 98070, 98072, 98074, 98075, 98077, 98102, 98103, 98105, 98107, 98109, 98112, 98115, 98116, 98117, 98119, 98122, 98125, 98126, 98136, 98144, 98166, 98177, 98199]\n",
      "0.7069037631008525\n",
      "0.5002870697138541\n",
      "0.4991370425716086\n",
      "[0.49897836 0.50885191 0.49882695 0.51593033 0.44062374]\n"
     ]
    },
    {
     "data": {
      "image/png": "[encoded data removed]",
      "text/plain": [
       "<Figure size 432x288 with 1 Axes>"
      ]
     },
     "metadata": {
      "needs_background": "light"
     },
     "output_type": "display_data"
    },
    {
     "data": {
      "image/png": "[encoded data removed]",
      "text/plain": [
       "<Figure size 432x288 with 1 Axes>"
      ]
     },
     "metadata": {
      "needs_background": "light"
     },
     "output_type": "display_data"
    }
   ],
   "source": [
    "df = load_kc_data(filename='kc_house_data.csv', verbose=False)\n",
    "\n",
    "df = replace_with_year(df, 'date')\n",
    "\n",
    "na_columns = check_for_na_values(df)\n",
    "\n",
    "df = drop_columns(df, [\"id\"])\n",
    "\n",
    "df = drop_na_rows(df, [\"waterfront\", \"view\"])\n",
    "\n",
    "na_columns = check_for_na_values(df)\n",
    "\n",
    "df = convert_columns_with_types(df, \"yr_renovated\", int, fill_na=True)\n",
    "\n",
    "df = replace_values_with_another_column(df, [0], \"yr_renovated\", \"yr_built\", replace_na=True)\n",
    "\n",
    "na_columns = check_for_na_values(df)\n",
    "\n",
    "nonnumeric_columns = check_for_nonnumeric_columns(df, print_num_unique_values=5)\n",
    "\n",
    "# df = drop_rows_with_value(df, 'sqft_basement', '?')\n",
    "df = replace_values_with_value(df, '?', 'sqft_basement', '0.0')\n",
    "\n",
    "nonnumeric_columns = check_for_nonnumeric_columns(df, print_num_unique_values=5)\n",
    "\n",
    "df = convert_columns_with_function(df, \"sqft_basement\", pd.to_numeric)\n",
    "\n",
    "nonnumeric_columns = check_for_nonnumeric_columns(df, print_num_unique_values=5)\n",
    "\n",
    "columns_with_zeros = check_for_zeros(df)\n",
    "\n",
    "df = binarize_column(df, \"view\", new_column_name=\"was_viewed\")\n",
    "\n",
    "df = binarize_column(df, \"sqft_basement\", new_column_name=\"has_basement\")\n",
    "\n",
    "df = add_dummy_zipcodes(df)\n",
    "\n",
    "df, log_transformed_columns = log_transform_columns(df, ['price', 'bedrooms', 'bathrooms', \n",
    "                                'sqft_living', 'sqft_lot', 'floors', \n",
    "                                'condition', 'grade', 'sqft_above',\n",
    "                                'sqft_living15', 'sqft_lot15'],\n",
    "                           replace_only_when_improved=True, verbose=False)\n",
    "\n",
    "columns_to_standardize = ['price', 'bedrooms', 'bathrooms', \n",
    "                                'sqft_living', 'sqft_lot', 'floors', \n",
    "                                'condition', 'grade', 'sqft_above',\n",
    "                                'sqft_living15', 'sqft_lot15']\n",
    "df = scale_and_normalize_columns(df, columns_to_standardize, [standardization]*len(columns_to_standardize))\n",
    "\n",
    "# check_for_linear_correlations(df, target='price')\n",
    "\n",
    "# check_for_normality(df)\n",
    "\n",
    "linreg = build_linear_model_sklearn(df, \"price\")\n",
    "predictions = get_predictions_from_linear_model_sklearn(df, linreg, \"price\")\n",
    "plot_predictions_vs_reality(df, \"price\", predictions)\n",
    "rmse = get_RMSE_from_linear_model_sklearn(df, linreg, \"price\")\n",
    "print(rmse)\n",
    "rsq = get_rsq_sklearn(df, linreg, \"price\")\n",
    "print(rsq)\n",
    "adjusted_rsq = get_adjusted_rsq_sklearn(df, linreg, \"price\")\n",
    "print(adjusted_rsq)\n",
    "scores = perform_cross_validation_sklearn(df, \"price\", cv=5)\n",
    "print(scores)\n",
    "\n",
    "#rfe_features = recursive_feature_elimination_get_features(df, \"price\", n_features_to_select=int(len(df.columns)*0.90))\n",
    "rfe_features = recursive_feature_elimination_get_features(df, \"price\")\n",
    "print(rfe_features)\n",
    "df = df.loc[:,rfe_features + [\"price\"]]\n",
    "linreg = build_linear_model_sklearn(df, \"price\")\n",
    "predictions = get_predictions_from_linear_model(df, linreg, \"price\")\n",
    "plot_predictions_vs_reality(df, \"price\", predictions)\n",
    "rmse = get_RMSE_from_linear_model_sklearn(df, linreg, \"price\")\n",
    "print(rmse)\n",
    "rsq = get_rsq_sklearn(df, linreg, \"price\")\n",
    "print(rsq)\n",
    "adjusted_rsq = get_adjusted_rsq_sklearn(df, linreg, \"price\")\n",
    "print(adjusted_rsq)\n",
    "scores = perform_cross_validation_sklearn(df, \"price\", cv=5)\n",
    "print(scores)"
   ]
  },
  {
   "cell_type": "code",
   "execution_count": 723,
   "metadata": {},
   "outputs": [
    {
     "name": "stdout",
     "output_type": "stream",
     "text": [
      "Add                           98053 with p-value 0.0\n"
     ]
    },
    {
     "ename": "ValueError",
     "evalue": "list.remove(x): x not in list",
     "output_type": "error",
     "traceback": [
      "\u001b[0;31m---------------------------------------------------------------------------\u001b[0m",
      "\u001b[0;31mValueError\u001b[0m                                Traceback (most recent call last)",
      "\u001b[0;32m<ipython-input-723-5590a91e72f7>\u001b[0m in \u001b[0;36m<module>\u001b[0;34m()\u001b[0m\n\u001b[0;32m----> 1\u001b[0;31m \u001b[0mstepwise_selection_sklearn\u001b[0m\u001b[0;34m(\u001b[0m\u001b[0mdf\u001b[0m\u001b[0;34m,\u001b[0m \u001b[0;34m\"price\"\u001b[0m\u001b[0;34m)\u001b[0m\u001b[0;34m\u001b[0m\u001b[0m\n\u001b[0m",
      "\u001b[0;32m~/Dropbox/flatiron/repositories/mod1-project/function_library.py\u001b[0m in \u001b[0;36mstepwise_selection_sklearn\u001b[0;34m(df, target, initial_list, threshold_in, threshold_out, verbose)\u001b[0m\n\u001b[1;32m    321\u001b[0m             \u001b[0mchanged\u001b[0m\u001b[0;34m=\u001b[0m\u001b[0;32mTrue\u001b[0m\u001b[0;34m\u001b[0m\u001b[0m\n\u001b[1;32m    322\u001b[0m             \u001b[0mworst_feature\u001b[0m \u001b[0;34m=\u001b[0m \u001b[0mpvalues\u001b[0m\u001b[0;34m.\u001b[0m\u001b[0margmax\u001b[0m\u001b[0;34m(\u001b[0m\u001b[0;34m)\u001b[0m\u001b[0;34m\u001b[0m\u001b[0m\n\u001b[0;32m--> 323\u001b[0;31m             \u001b[0mincluded\u001b[0m\u001b[0;34m.\u001b[0m\u001b[0mremove\u001b[0m\u001b[0;34m(\u001b[0m\u001b[0mworst_feature\u001b[0m\u001b[0;34m)\u001b[0m\u001b[0;34m\u001b[0m\u001b[0m\n\u001b[0m\u001b[1;32m    324\u001b[0m             \u001b[0;32mif\u001b[0m \u001b[0mverbose\u001b[0m\u001b[0;34m:\u001b[0m\u001b[0;34m\u001b[0m\u001b[0m\n\u001b[1;32m    325\u001b[0m                 \u001b[0mprint\u001b[0m\u001b[0;34m(\u001b[0m\u001b[0;34m'Drop {:30} with p-value {:.6}'\u001b[0m\u001b[0;34m.\u001b[0m\u001b[0mformat\u001b[0m\u001b[0;34m(\u001b[0m\u001b[0mworst_feature\u001b[0m\u001b[0;34m,\u001b[0m \u001b[0mworst_pval\u001b[0m\u001b[0;34m)\u001b[0m\u001b[0;34m)\u001b[0m\u001b[0;34m\u001b[0m\u001b[0m\n",
      "\u001b[0;31mValueError\u001b[0m: list.remove(x): x not in list"
     ]
    }
   ],
   "source": [
    "stepwise_selection_sklearn(df, \"price\")"
   ]
  },
  {
   "cell_type": "code",
   "execution_count": 724,
   "metadata": {},
   "outputs": [
    {
     "name": "stdout",
     "output_type": "stream",
     "text": [
      "> \u001b[0;32m/Users/npschafer/Dropbox/flatiron/repositories/mod1-project/function_library.py\u001b[0m(323)\u001b[0;36mstepwise_selection_sklearn\u001b[0;34m()\u001b[0m\n",
      "\u001b[0;32m    321 \u001b[0;31m            \u001b[0mchanged\u001b[0m\u001b[0;34m=\u001b[0m\u001b[0;32mTrue\u001b[0m\u001b[0;34m\u001b[0m\u001b[0m\n",
      "\u001b[0m\u001b[0;32m    322 \u001b[0;31m            \u001b[0mworst_feature\u001b[0m \u001b[0;34m=\u001b[0m \u001b[0mpvalues\u001b[0m\u001b[0;34m.\u001b[0m\u001b[0margmax\u001b[0m\u001b[0;34m(\u001b[0m\u001b[0;34m)\u001b[0m\u001b[0;34m\u001b[0m\u001b[0m\n",
      "\u001b[0m\u001b[0;32m--> 323 \u001b[0;31m            \u001b[0mincluded\u001b[0m\u001b[0;34m.\u001b[0m\u001b[0mremove\u001b[0m\u001b[0;34m(\u001b[0m\u001b[0mworst_feature\u001b[0m\u001b[0;34m)\u001b[0m\u001b[0;34m\u001b[0m\u001b[0m\n",
      "\u001b[0m\u001b[0;32m    324 \u001b[0;31m            \u001b[0;32mif\u001b[0m \u001b[0mverbose\u001b[0m\u001b[0;34m:\u001b[0m\u001b[0;34m\u001b[0m\u001b[0m\n",
      "\u001b[0m\u001b[0;32m    325 \u001b[0;31m                \u001b[0mprint\u001b[0m\u001b[0;34m(\u001b[0m\u001b[0;34m'Drop {:30} with p-value {:.6}'\u001b[0m\u001b[0;34m.\u001b[0m\u001b[0mformat\u001b[0m\u001b[0;34m(\u001b[0m\u001b[0mworst_feature\u001b[0m\u001b[0;34m,\u001b[0m \u001b[0mworst_pval\u001b[0m\u001b[0;34m)\u001b[0m\u001b[0;34m)\u001b[0m\u001b[0;34m\u001b[0m\u001b[0m\n",
      "\u001b[0m\n",
      "ipdb> included\n",
      "[98053]\n",
      "ipdb> type(included)\n",
      "<class 'list'>\n",
      "ipdb> worst_feature\n",
      "32\n",
      "ipdb> pvalues.max()\n",
      "0.8049282689203848\n",
      "ipdb> pvalues\n",
      "array([4.89888575e-001, 0.00000000e+000, 0.00000000e+000, 0.00000000e+000,\n",
      "       7.71755428e-034, 7.80078545e-291, 9.60265989e-320, 2.05068401e-007,\n",
      "       0.00000000e+000, 0.00000000e+000, 1.34353285e-013, 1.09300290e-039,\n",
      "       0.00000000e+000, 2.64609527e-003, 0.00000000e+000, 1.18282145e-029,\n",
      "       0.00000000e+000, 5.27993058e-132, 2.52049150e-038, 1.08381709e-028,\n",
      "       5.18313759e-028, 0.00000000e+000, 1.68703665e-020, 1.89540573e-081,\n",
      "       1.64639010e-002, 7.32729146e-007, 3.35172634e-003, 7.04745185e-002,\n",
      "       4.72705167e-002, 9.97883920e-005, 1.09580334e-018, 9.86100177e-049,\n",
      "       8.04928269e-001, 5.87870191e-004, 4.71851947e-004, 1.28660193e-003,\n",
      "       1.67332343e-024, 1.22311947e-024, 3.75777963e-017, 4.52081570e-044,\n",
      "       3.03805812e-001, 3.95795139e-028, 2.72061660e-195, 4.09291005e-166,\n",
      "       8.08618397e-044, 2.94795234e-004, 2.30066177e-010, 1.06708095e-011,\n",
      "       7.15372925e-023, 6.49218292e-010, 1.23412825e-023, 1.43814044e-002,\n",
      "       6.21116855e-001, 1.17799040e-001, 1.81699146e-001, 2.60130871e-015,\n",
      "       1.51666126e-033, 8.09016879e-007, 1.01127711e-022, 8.19232059e-022,\n",
      "       9.98959525e-003, 6.31437784e-036, 5.75313093e-026, 8.26346476e-002,\n",
      "       6.65495044e-011, 4.97511586e-018, 2.10139353e-134, 1.37195877e-006,\n",
      "       9.58645656e-004, 3.47768688e-002, 1.21150938e-011, 6.17316359e-029,\n",
      "       3.28167660e-005, 9.53875503e-005, 8.07542999e-009, 6.98246809e-018,\n",
      "       6.43863203e-001, 1.10589701e-002, 6.99650455e-016, 1.18576235e-006,\n",
      "       7.23270900e-011, 4.40725234e-003, 1.01519883e-034, 4.48862738e-009,\n",
      "       7.69379191e-021, 8.91857075e-014, 1.23686556e-023, 5.37318344e-030])\n",
      "ipdb> included\n",
      "[98053]\n",
      "ipdb> threshold_out\n",
      "0.05\n",
      "ipdb> exit\n"
     ]
    }
   ],
   "source": [
    "%debug"
   ]
  },
  {
   "cell_type": "code",
   "execution_count": 725,
   "metadata": {},
   "outputs": [
    {
     "name": "stdout",
     "output_type": "stream",
     "text": [
      "Correlations with target ({target}):\n",
      "date:  0.00\n",
      "bedrooms:  0.31\n",
      "bathrooms:  0.53\n",
      "sqft_living:  0.70\n",
      "sqft_lot:  0.09\n",
      "floors:  0.26\n",
      "waterfront:  0.27\n",
      "condition:  0.04\n",
      "grade:  0.67\n",
      "sqft_above:  0.61\n",
      "yr_built:  0.05\n",
      "yr_renovated:  0.10\n",
      "lat:  0.31\n",
      "long:  0.02\n",
      "sqft_living15:  0.58\n",
      "sqft_lot15:  0.08\n",
      "was_viewed:  0.36\n",
      "has_basement:  0.18\n",
      "98001: -0.09\n",
      "98002: -0.08\n",
      "98003: -0.08\n",
      "98004:  0.27\n",
      "98005:  0.07\n",
      "98006:  0.14\n",
      "98007:  0.02\n",
      "98008:  0.04\n",
      "98010: -0.02\n",
      "98011: -0.01\n",
      "98014: -0.01\n",
      "98019: -0.03\n",
      "98022: -0.06\n",
      "98023: -0.11\n",
      "98024:  0.00\n",
      "98027:  0.02\n",
      "98028: -0.03\n",
      "98029:  0.02\n",
      "98030: -0.07\n",
      "98031: -0.07\n",
      "98032: -0.06\n",
      "98033:  0.10\n",
      "98034: -0.01\n",
      "98038: -0.08\n",
      "98039:  0.21\n",
      "98040:  0.20\n",
      "98042: -0.10\n",
      "98045: -0.03\n",
      "98052:  0.05\n",
      "98053:  0.05\n",
      "98055: -0.07\n",
      "98056: -0.04\n",
      "98058: -0.07\n",
      "98059: -0.02\n",
      "98065: -0.00\n",
      "98070: -0.01\n",
      "98072:  0.01\n",
      "98074:  0.06\n",
      "98075:  0.09\n",
      "98077:  0.04\n",
      "98092: -0.07\n",
      "98102:  0.07\n",
      "98103:  0.02\n",
      "98105:  0.09\n",
      "98106: -0.08\n",
      "98107:  0.01\n",
      "98108: -0.05\n",
      "98109:  0.06\n",
      "98112:  0.18\n",
      "98115:  0.03\n",
      "98116:  0.02\n",
      "98117:  0.02\n",
      "98118: -0.05\n",
      "98119:  0.08\n",
      "98122:  0.03\n",
      "98125: -0.03\n",
      "98126: -0.04\n",
      "98133: -0.06\n",
      "98136:  0.00\n",
      "98144:  0.02\n",
      "98146: -0.06\n",
      "98148: -0.04\n",
      "98155: -0.05\n",
      "98166: -0.02\n",
      "98168: -0.09\n",
      "98177:  0.04\n",
      "98178: -0.07\n",
      "98188: -0.05\n",
      "98198: -0.07\n",
      "98199:  0.08\n",
      "sqft_living has a significant correlation ( 0.70) with price according to a threshold of 0.7.\n",
      "price is correlated with 1 according to a threshold of 0.7 (['sqft_living']).\n",
      "bathrooms is correlated with 1 according to a threshold of 0.7 (['sqft_living']).\n",
      "sqft_living is correlated with 5 according to a threshold of 0.7 (['price', 'bathrooms', 'grade', 'sqft_above', 'sqft_living15']).\n",
      "sqft_lot is correlated with 1 according to a threshold of 0.7 (['sqft_lot15']).\n",
      "grade is correlated with 3 according to a threshold of 0.7 (['sqft_living', 'sqft_above', 'sqft_living15']).\n",
      "sqft_above is correlated with 3 according to a threshold of 0.7 (['sqft_living', 'grade', 'sqft_living15']).\n",
      "yr_built is correlated with 1 according to a threshold of 0.7 (['yr_renovated']).\n",
      "yr_renovated is correlated with 1 according to a threshold of 0.7 (['yr_built']).\n",
      "sqft_living15 is correlated with 3 according to a threshold of 0.7 (['sqft_living', 'grade', 'sqft_above']).\n",
      "sqft_lot15 is correlated with 1 according to a threshold of 0.7 (['sqft_lot']).\n"
     ]
    }
   ],
   "source": [
    "check_for_linear_correlations(df, target='price')"
   ]
  },
  {
   "cell_type": "markdown",
   "metadata": {},
   "source": [
    "# Organizing steps for presentation"
   ]
  },
  {
   "cell_type": "code",
   "execution_count": null,
   "metadata": {
    "collapsed": true
   },
   "outputs": [],
   "source": [
    "### Loading data\n",
    "df = load_kc_data(filename='kc_house_data.csv', verbose=False)\n",
    "\n",
    "### Checking and cleaning data\n",
    "df = replace_with_year(df, 'date')\n",
    "na_columns = check_for_na_values(df)\n",
    "df = drop_columns(df, [\"id\"])\n",
    "df = drop_na_rows(df, [\"waterfront\", \"view\"])\n",
    "na_columns = check_for_na_values(df)\n",
    "df = convert_columns_with_types(df, \"yr_renovated\", int, fill_na=True)\n",
    "df = replace_values_with_another_column(df, [0], \"yr_renovated\", \"yr_built\", replace_na=True)\n",
    "na_columns = check_for_na_values(df)\n",
    "nonnumeric_columns = check_for_nonnumeric_columns(df, print_num_unique_values=5)\n",
    "# df = drop_rows_with_value(df, 'sqft_basement', '?')\n",
    "df = replace_values_with_value(df, '?', 'sqft_basement', '0.0')\n",
    "nonnumeric_columns = check_for_nonnumeric_columns(df, print_num_unique_values=5)\n",
    "df = convert_columns_with_function(df, \"sqft_basement\", pd.to_numeric)\n",
    "nonnumeric_columns = check_for_nonnumeric_columns(df, print_num_unique_values=5)\n",
    "columns_with_zeros = check_for_zeros(df)\n",
    "\n",
    "### Deriving new features\n",
    "df = binarize_column(df, \"view\", new_column_name=\"was_viewed\")\n",
    "df = binarize_column(df, \"sqft_basement\", new_column_name=\"has_basement\")\n",
    "df = add_dummy_zipcodes(df)\n",
    "\n",
    "### Transforming data\n",
    "df, log_transformed_columns = log_transform_columns(df, ['price', 'bedrooms', 'bathrooms', \n",
    "                                'sqft_living', 'sqft_lot', 'floors', \n",
    "                                'condition', 'grade', 'sqft_above',\n",
    "                                'sqft_living15', 'sqft_lot15'],\n",
    "                           replace_only_when_improved=True, verbose=False)\n",
    "### Normalizing data\n",
    "columns_to_standardize = ['price', 'bedrooms', 'bathrooms', \n",
    "                                'sqft_living', 'sqft_lot', 'floors', \n",
    "                                'condition', 'grade', 'sqft_above',\n",
    "                                'sqft_living15', 'sqft_lot15']\n",
    "\n",
    "df = scale_and_normalize_columns(df, columns_to_standardize, [standardization]*len(columns_to_standardize))\n",
    "\n",
    "### Checking for outliers\n",
    "\n",
    "### Checking\n",
    "# check_for_linear_correlations(df, target='price')\n",
    "# check_for_normality(df)\n",
    "# check_for_heteroscedasticity ## not yet implemented\n",
    "\n",
    "### Feature selection\n",
    "#rfe_features = recursive_feature_elimination_get_features(df, \"price\", n_features_to_select=int(len(df.columns)*0.90))\n",
    "rfe_features = recursive_feature_elimination_get_features(df, \"price\")\n",
    "print(rfe_features)\n",
    "df = df.loc[:,rfe_features + [\"price\"]]\n",
    "\n",
    "### Model building\n",
    "linreg = build_linear_model_sklearn(df, \"price\")\n",
    "\n",
    "### Model evaluation and validation\n",
    "predictions = get_predictions_from_linear_model(df, linreg, \"price\")\n",
    "plot_predictions_vs_reality(df, \"price\", predictions)\n",
    "rmse = get_RMSE_from_linear_model_sklearn(df, linreg, \"price\")\n",
    "print(rmse)\n",
    "rsq = get_rsq_sklearn(df, linreg, \"price\")\n",
    "print(rsq)\n",
    "adjusted_rsq = get_adjusted_rsq_sklearn(df, linreg, \"price\")\n",
    "print(adjusted_rsq)\n",
    "scores = perform_cross_validation_sklearn(df, \"price\", cv=5)\n",
    "print(scores)"
   ]
  },
  {
   "cell_type": "markdown",
   "metadata": {},
   "source": [
    "# Working on adding new features only after doing train-test split"
   ]
  },
  {
   "cell_type": "code",
   "execution_count": 3,
   "metadata": {},
   "outputs": [
    {
     "name": "stdout",
     "output_type": "stream",
     "text": [
      "the lattitude is length: 8\n",
      "the longitude is length: 8\n"
     ]
    }
   ],
   "source": [
    "from function_library import *"
   ]
  },
  {
   "cell_type": "code",
   "execution_count": 47,
   "metadata": {},
   "outputs": [
    {
     "name": "stdout",
     "output_type": "stream",
     "text": [
      "waterfront has 2376 NA values, which corresponds to 11.00% of the data.\n",
      "view has 63 NA values, which corresponds to 0.29% of the data.\n",
      "yr_renovated has 3842 NA values, which corresponds to 17.79% of the data.\n",
      "Index(['date', 'price', 'bedrooms', 'bathrooms', 'sqft_living', 'sqft_lot',\n",
      "       'floors', 'waterfront', 'view', 'condition', 'grade', 'sqft_above',\n",
      "       'sqft_basement', 'yr_built', 'yr_renovated', 'zipcode', 'lat', 'long',\n",
      "       'sqft_living15', 'sqft_lot15'],\n",
      "      dtype='object')\n",
      "yr_renovated has 3402 NA values, which corresponds to 17.75% of the data.\n",
      "There are no NA values in the dataframe.\n",
      "sqft_basement is a nonnumeric column (object).\n",
      "\n",
      "sqft_basement information:\n",
      "298 unique values.\n",
      "Top 5 unique values\n",
      "1. 0.0 has 11379 entries, which is  59.38% of the data.\n",
      "2. ? has 415 entries, which is  2.17% of the data.\n",
      "3. 600.0 has 190 entries, which is  0.99% of the data.\n",
      "4. 700.0 has 187 entries, which is  0.98% of the data.\n",
      "5. 500.0 has 186 entries, which is  0.97% of the data.\n",
      "sqft_basement is a nonnumeric column (object).\n",
      "\n",
      "sqft_basement information:\n",
      "297 unique values.\n",
      "Top 5 unique values\n",
      "1. 0.0 has 11794 entries, which is  61.54% of the data.\n",
      "2. 600.0 has 190 entries, which is  0.99% of the data.\n",
      "3. 700.0 has 187 entries, which is  0.98% of the data.\n",
      "4. 500.0 has 186 entries, which is  0.97% of the data.\n",
      "5. 800.0 has 171 entries, which is  0.89% of the data.\n",
      "There are no nonnumeric columns.\n",
      "waterfront has 19019 zeros, which is  99.24% of the data.\n",
      "view has 17312 zeros, which is  90.34% of the data.\n",
      "sqft_basement has 11794 zeros, which is  61.54% of the data.\n",
      "Mean training RMSE: 0.34038317265438994\n",
      "Mean testing RMSE: 0.3432797933476269\n"
     ]
    },
    {
     "data": {
      "image/png": "[encoded data removed]",
      "text/plain": [
       "<Figure size 432x288 with 1 Axes>"
      ]
     },
     "metadata": {
      "needs_background": "light"
     },
     "output_type": "display_data"
    },
    {
     "data": {
      "image/png": "[encoded data removed]",
      "text/plain": [
       "<Figure size 432x288 with 1 Axes>"
      ]
     },
     "metadata": {
      "needs_background": "light"
     },
     "output_type": "display_data"
    },
    {
     "data": {
      "image/png": "[encoded data removed]",
      "text/plain": [
       "<Figure size 432x288 with 1 Axes>"
      ]
     },
     "metadata": {
      "needs_background": "light"
     },
     "output_type": "display_data"
    }
   ],
   "source": [
    "from sklearn.model_selection import train_test_split\n",
    "from sklearn.metrics import mean_squared_error\n",
    "from sklearn.linear_model import LinearRegression\n",
    "linreg = LinearRegression()\n",
    "\n",
    "### Loading data\n",
    "df = load_kc_data(filename='kc_house_data.csv', verbose=False)\n",
    "\n",
    "### Checking and cleaning data\n",
    "df = replace_with_year(df, 'date')\n",
    "na_columns = check_for_na_values(df)\n",
    "df = drop_columns(df, [\"id\"])\n",
    "df = drop_na_rows(df, [\"waterfront\", \"view\"])\n",
    "na_columns = check_for_na_values(df)\n",
    "df = convert_columns_with_types(df, \"yr_renovated\", int, fill_na=True)\n",
    "df = replace_values_with_another_column(df, [0], \"yr_renovated\", \"yr_built\", replace_na=True)\n",
    "na_columns = check_for_na_values(df)\n",
    "nonnumeric_columns = check_for_nonnumeric_columns(df, print_num_unique_values=5)\n",
    "# df = drop_rows_with_value(df, 'sqft_basement', '?')\n",
    "df = replace_values_with_value(df, '?', 'sqft_basement', '0.0')\n",
    "nonnumeric_columns = check_for_nonnumeric_columns(df, print_num_unique_values=5)\n",
    "df = convert_columns_with_function(df, \"sqft_basement\", pd.to_numeric)\n",
    "nonnumeric_columns = check_for_nonnumeric_columns(df, print_num_unique_values=5)\n",
    "columns_with_zeros = check_for_zeros(df)\n",
    "\n",
    "num_splits = 10\n",
    "test_size = 0.33\n",
    "train_err = []\n",
    "test_err = []\n",
    "for i in range(num_splits):\n",
    "    ### Split predictors and target for full dataset\n",
    "    X = df.drop(labels=[\"price\"], axis=1)\n",
    "    y = df[\"price\"]\n",
    "    \n",
    "    ### Split the data\n",
    "    X_train, X_test, y_train, y_test = train_test_split(X, y, test_size=test_size)\n",
    "    ### Build training and test dataframes\n",
    "    train_df = pd.concat([X_train, y_train], axis=1)\n",
    "    test_df = pd.concat([X_test, y_test], axis=1)\n",
    "    \n",
    "    ### Add new features based on training data only\n",
    "    train_df = binarize_column(train_df, \"view\", new_column_name=\"was_viewed\")\n",
    "    train_df = binarize_column(train_df, \"sqft_basement\", new_column_name=\"has_basement\")\n",
    "    train_df = add_dummy_zipcodes(train_df)\n",
    "    \n",
    "    test_df = binarize_column(test_df, \"view\", new_column_name=\"was_viewed\")\n",
    "    test_df = binarize_column(test_df, \"sqft_basement\", new_column_name=\"has_basement\")\n",
    "    test_df = add_dummy_zipcodes(test_df)\n",
    "    \n",
    "    ### Transforming data\n",
    "    train_df, train_log_transformed_columns = log_transform_columns(train_df, ['price', 'bedrooms', 'bathrooms', \n",
    "                                                                        'sqft_living', 'sqft_lot', 'floors', \n",
    "                                                                        'condition', 'grade', 'sqft_above',\n",
    "                                                                        'sqft_living15', 'sqft_lot15'],\n",
    "                                                              replace_only_when_improved=True, verbose=False, mute=True)\n",
    "    test_df, test_log_transformed_columns = log_transform_columns(test_df, train_log_transformed_columns,\n",
    "                                                              replace_only_when_improved=False, verbose=False, mute=True)\n",
    "    \n",
    "    ### Normalizing data\n",
    "    columns_to_standardize = ['price', 'bedrooms', 'bathrooms', \n",
    "                                    'sqft_living', 'sqft_lot', 'floors', \n",
    "                                    'condition', 'grade', 'sqft_above',\n",
    "                                    'sqft_living15', 'sqft_lot15']\n",
    "    \n",
    "    normalization_df = train_df.copy()\n",
    "    \n",
    "    train_df = scale_and_normalize_columns(train_df, columns_to_standardize, \n",
    "                                           [standardization]*len(columns_to_standardize), fit_df=normalization_df)\n",
    "    test_df = scale_and_normalize_columns(test_df, columns_to_standardize, \n",
    "                                           [standardization]*len(columns_to_standardize), fit_df=normalization_df)\n",
    "    \n",
    "    ### Checking for outliers\n",
    "\n",
    "    ### Checking\n",
    "    # check_for_linear_correlations(df, target='price')\n",
    "    # check_for_normality(df)\n",
    "    # check_for_heteroscedasticity ## not yet implemented\n",
    "    \n",
    "    ### Feature selection\n",
    "    #rfe_features = recursive_feature_elimination_get_features(df, \"price\", n_features_to_select=int(len(df.columns)*0.90))\n",
    "    #rfe_features = recursive_feature_elimination_get_features(df, \"price\")\n",
    "    #print(rfe_features)\n",
    "    #df = df.loc[:,rfe_features + [\"price\"]]\n",
    "    \n",
    "    ### Build the model\n",
    "    #linreg.fit(X_train, y_train)\n",
    "    train_linreg = build_linear_model_sklearn(train_df, \"price\")\n",
    "    # test_linreg = build_linear_model_sklearn(test_df, \"price\")\n",
    "    \n",
    "    ### Compute errors and correlation coefficients\n",
    "#     y_hat_train = linreg.predict(X_train)\n",
    "#     y_hat_test = linreg.predict(X_test)\n",
    "#     train_err.append(np.sqrt(mean_squared_error(y_train, y_hat_train)))\n",
    "#     test_err.append(np.sqrt(mean_squared_error(y_test, y_hat_test)))\n",
    "    y_hat_train = get_predictions_from_linear_model_sklearn(train_df, train_linreg, \"price\")\n",
    "    y_hat_test = get_predictions_from_linear_model_sklearn(test_df, train_linreg, \"price\")\n",
    "    train_err.append(np.sqrt(mean_squared_error(train_df[\"price\"], y_hat_train)))\n",
    "    test_err.append(np.sqrt(mean_squared_error(test_df[\"price\"], y_hat_test)))\n",
    "    \n",
    "    train_rsq = get_rsq_sklearn(train_df, train_linreg, \"price\")\n",
    "    train_adjusted_rsq = get_adjusted_rsq_sklearn(train_df, train_linreg, \"price\")\n",
    "    \n",
    "    test_rsq = get_rsq_sklearn(test_df, train_linreg, \"price\")\n",
    "    test_adjusted_rsq = get_adjusted_rsq_sklearn(test_df, train_linreg, \"price\")\n",
    "\n",
    "### Plot errors\n",
    "plt.scatter(list(range(num_splits)), train_err, label='Training Error (RMSE))')\n",
    "plt.scatter(list(range(num_splits)), test_err, label='Testing Error (RMSE)')\n",
    "print(f\"Mean training RMSE: {np.mean(train_err)}\")\n",
    "print(f\"Mean testing RMSE: {np.mean(test_err)}\")\n",
    "plt.legend();\n",
    "\n",
    "plot_predictions_vs_reality(train_df, \"price\", y_hat_train)\n",
    "plot_predictions_vs_reality(test_df, \"price\", y_hat_test)"
   ]
  },
  {
   "cell_type": "code",
   "execution_count": 37,
   "metadata": {},
   "outputs": [
    {
     "data": {
      "text/plain": [
       "6325"
      ]
     },
     "execution_count": 37,
     "metadata": {},
     "output_type": "execute_result"
    }
   ],
   "source": [
    "len(test_df)"
   ]
  },
  {
   "cell_type": "code",
   "execution_count": 38,
   "metadata": {},
   "outputs": [
    {
     "data": {
      "text/plain": [
       "12839"
      ]
     },
     "execution_count": 38,
     "metadata": {},
     "output_type": "execute_result"
    }
   ],
   "source": [
    "len(train_df)"
   ]
  },
  {
   "cell_type": "code",
   "execution_count": 29,
   "metadata": {},
   "outputs": [
    {
     "name": "stdout",
     "output_type": "stream",
     "text": [
      "> \u001b[0;32m/Users/npschafer/anaconda/envs/learn-env/lib/python3.6/site-packages/sklearn/utils/extmath.py\u001b[0m(173)\u001b[0;36msafe_sparse_dot\u001b[0;34m()\u001b[0m\n",
      "\u001b[0;32m    171 \u001b[0;31m        \u001b[0;32mreturn\u001b[0m \u001b[0mret\u001b[0m\u001b[0;34m\u001b[0m\u001b[0m\n",
      "\u001b[0m\u001b[0;32m    172 \u001b[0;31m    \u001b[0;32melse\u001b[0m\u001b[0;34m:\u001b[0m\u001b[0;34m\u001b[0m\u001b[0m\n",
      "\u001b[0m\u001b[0;32m--> 173 \u001b[0;31m        \u001b[0;32mreturn\u001b[0m \u001b[0mnp\u001b[0m\u001b[0;34m.\u001b[0m\u001b[0mdot\u001b[0m\u001b[0;34m(\u001b[0m\u001b[0ma\u001b[0m\u001b[0;34m,\u001b[0m \u001b[0mb\u001b[0m\u001b[0;34m)\u001b[0m\u001b[0;34m\u001b[0m\u001b[0m\n",
      "\u001b[0m\u001b[0;32m    174 \u001b[0;31m\u001b[0;34m\u001b[0m\u001b[0m\n",
      "\u001b[0m\u001b[0;32m    175 \u001b[0;31m\u001b[0;34m\u001b[0m\u001b[0m\n",
      "\u001b[0m\n",
      "ipdb> up\n",
      "> \u001b[0;32m/Users/npschafer/anaconda/envs/learn-env/lib/python3.6/site-packages/sklearn/linear_model/base.py\u001b[0m(198)\u001b[0;36m_decision_function\u001b[0;34m()\u001b[0m\n",
      "\u001b[0;32m    196 \u001b[0;31m        \u001b[0mX\u001b[0m \u001b[0;34m=\u001b[0m \u001b[0mcheck_array\u001b[0m\u001b[0;34m(\u001b[0m\u001b[0mX\u001b[0m\u001b[0;34m,\u001b[0m \u001b[0maccept_sparse\u001b[0m\u001b[0;34m=\u001b[0m\u001b[0;34m[\u001b[0m\u001b[0;34m'csr'\u001b[0m\u001b[0;34m,\u001b[0m \u001b[0;34m'csc'\u001b[0m\u001b[0;34m,\u001b[0m \u001b[0;34m'coo'\u001b[0m\u001b[0;34m]\u001b[0m\u001b[0;34m)\u001b[0m\u001b[0;34m\u001b[0m\u001b[0m\n",
      "\u001b[0m\u001b[0;32m    197 \u001b[0;31m        return safe_sparse_dot(X, self.coef_.T,\n",
      "\u001b[0m\u001b[0;32m--> 198 \u001b[0;31m                               dense_output=True) + self.intercept_\n",
      "\u001b[0m\u001b[0;32m    199 \u001b[0;31m\u001b[0;34m\u001b[0m\u001b[0m\n",
      "\u001b[0m\u001b[0;32m    200 \u001b[0;31m    \u001b[0;32mdef\u001b[0m \u001b[0mpredict\u001b[0m\u001b[0;34m(\u001b[0m\u001b[0mself\u001b[0m\u001b[0;34m,\u001b[0m \u001b[0mX\u001b[0m\u001b[0;34m)\u001b[0m\u001b[0;34m:\u001b[0m\u001b[0;34m\u001b[0m\u001b[0m\n",
      "\u001b[0m\n",
      "ipdb> up\n",
      "> \u001b[0;32m/Users/npschafer/anaconda/envs/learn-env/lib/python3.6/site-packages/sklearn/linear_model/base.py\u001b[0m(213)\u001b[0;36mpredict\u001b[0;34m()\u001b[0m\n",
      "\u001b[0;32m    211 \u001b[0;31m            \u001b[0mReturns\u001b[0m \u001b[0mpredicted\u001b[0m \u001b[0mvalues\u001b[0m\u001b[0;34m.\u001b[0m\u001b[0;34m\u001b[0m\u001b[0m\n",
      "\u001b[0m\u001b[0;32m    212 \u001b[0;31m        \"\"\"\n",
      "\u001b[0m\u001b[0;32m--> 213 \u001b[0;31m        \u001b[0;32mreturn\u001b[0m \u001b[0mself\u001b[0m\u001b[0;34m.\u001b[0m\u001b[0m_decision_function\u001b[0m\u001b[0;34m(\u001b[0m\u001b[0mX\u001b[0m\u001b[0;34m)\u001b[0m\u001b[0;34m\u001b[0m\u001b[0m\n",
      "\u001b[0m\u001b[0;32m    214 \u001b[0;31m\u001b[0;34m\u001b[0m\u001b[0m\n",
      "\u001b[0m\u001b[0;32m    215 \u001b[0;31m    \u001b[0m_preprocess_data\u001b[0m \u001b[0;34m=\u001b[0m \u001b[0mstaticmethod\u001b[0m\u001b[0;34m(\u001b[0m\u001b[0m_preprocess_data\u001b[0m\u001b[0;34m)\u001b[0m\u001b[0;34m\u001b[0m\u001b[0m\n",
      "\u001b[0m\n",
      "ipdb> up\n",
      "> \u001b[0;32m/Users/npschafer/Dropbox/flatiron/repositories/mod1-project/function_library.py\u001b[0m(382)\u001b[0;36mget_predictions_from_linear_model_sklearn\u001b[0;34m()\u001b[0m\n",
      "\u001b[0;32m    380 \u001b[0;31m\u001b[0;32mdef\u001b[0m \u001b[0mget_predictions_from_linear_model_sklearn\u001b[0m\u001b[0;34m(\u001b[0m\u001b[0mdf\u001b[0m\u001b[0;34m,\u001b[0m \u001b[0mlinreg\u001b[0m\u001b[0;34m,\u001b[0m \u001b[0mtarget\u001b[0m\u001b[0;34m)\u001b[0m\u001b[0;34m:\u001b[0m\u001b[0;34m\u001b[0m\u001b[0m\n",
      "\u001b[0m\u001b[0;32m    381 \u001b[0;31m    \u001b[0mpredictors\u001b[0m \u001b[0;34m=\u001b[0m \u001b[0mdf\u001b[0m\u001b[0;34m.\u001b[0m\u001b[0mdrop\u001b[0m\u001b[0;34m(\u001b[0m\u001b[0mlabels\u001b[0m\u001b[0;34m=\u001b[0m\u001b[0;34m[\u001b[0m\u001b[0mtarget\u001b[0m\u001b[0;34m]\u001b[0m\u001b[0;34m,\u001b[0m \u001b[0maxis\u001b[0m\u001b[0;34m=\u001b[0m\u001b[0;36m1\u001b[0m\u001b[0;34m)\u001b[0m\u001b[0;34m\u001b[0m\u001b[0m\n",
      "\u001b[0m\u001b[0;32m--> 382 \u001b[0;31m    \u001b[0;32mreturn\u001b[0m \u001b[0mlinreg\u001b[0m\u001b[0;34m.\u001b[0m\u001b[0mpredict\u001b[0m\u001b[0;34m(\u001b[0m\u001b[0mpredictors\u001b[0m\u001b[0;34m)\u001b[0m\u001b[0;34m\u001b[0m\u001b[0m\n",
      "\u001b[0m\u001b[0;32m    383 \u001b[0;31m\u001b[0;34m\u001b[0m\u001b[0m\n",
      "\u001b[0m\u001b[0;32m    384 \u001b[0;31m\u001b[0;32mdef\u001b[0m \u001b[0mget_residuals_from_linear_model_sklearn\u001b[0m\u001b[0;34m(\u001b[0m\u001b[0mdf\u001b[0m\u001b[0;34m,\u001b[0m \u001b[0mlinreg\u001b[0m\u001b[0;34m,\u001b[0m \u001b[0mtarget\u001b[0m\u001b[0;34m)\u001b[0m\u001b[0;34m:\u001b[0m\u001b[0;34m\u001b[0m\u001b[0m\n",
      "\u001b[0m\n",
      "ipdb> exit\n"
     ]
    }
   ],
   "source": [
    "%debug"
   ]
  },
  {
   "cell_type": "code",
   "execution_count": 49,
   "metadata": {},
   "outputs": [
    {
     "name": "stdout",
     "output_type": "stream",
     "text": [
      "waterfront has 2376 NA values, which corresponds to 11.00% of the data.\n",
      "view has 63 NA values, which corresponds to 0.29% of the data.\n",
      "yr_renovated has 3842 NA values, which corresponds to 17.79% of the data.\n",
      "Index(['date', 'price', 'bedrooms', 'bathrooms', 'sqft_living', 'sqft_lot',\n",
      "       'floors', 'waterfront', 'view', 'condition', 'grade', 'sqft_above',\n",
      "       'sqft_basement', 'yr_built', 'yr_renovated', 'zipcode', 'lat', 'long',\n",
      "       'sqft_living15', 'sqft_lot15'],\n",
      "      dtype='object')\n",
      "yr_renovated has 3402 NA values, which corresponds to 17.75% of the data.\n",
      "There are no NA values in the dataframe.\n",
      "sqft_basement is a nonnumeric column (object).\n",
      "\n",
      "sqft_basement information:\n",
      "298 unique values.\n",
      "Top 5 unique values\n",
      "1. 0.0 has 11379 entries, which is  59.38% of the data.\n",
      "2. ? has 415 entries, which is  2.17% of the data.\n",
      "3. 600.0 has 190 entries, which is  0.99% of the data.\n",
      "4. 700.0 has 187 entries, which is  0.98% of the data.\n",
      "5. 500.0 has 186 entries, which is  0.97% of the data.\n",
      "sqft_basement is a nonnumeric column (object).\n",
      "\n",
      "sqft_basement information:\n",
      "297 unique values.\n",
      "Top 5 unique values\n",
      "1. 0.0 has 11794 entries, which is  61.54% of the data.\n",
      "2. 600.0 has 190 entries, which is  0.99% of the data.\n",
      "3. 700.0 has 187 entries, which is  0.98% of the data.\n",
      "4. 500.0 has 186 entries, which is  0.97% of the data.\n",
      "5. 800.0 has 171 entries, which is  0.89% of the data.\n",
      "There are no nonnumeric columns.\n",
      "waterfront has 19019 zeros, which is  99.24% of the data.\n",
      "view has 17312 zeros, which is  90.34% of the data.\n",
      "sqft_basement has 11794 zeros, which is  61.54% of the data.\n",
      "Mean training RMSE: 182695.48654216068\n",
      "Mean testing RMSE: 188130.0916517061\n"
     ]
    },
    {
     "data": {
      "image/png": "[encoded data removed]",
      "text/plain": [
       "<Figure size 432x288 with 1 Axes>"
      ]
     },
     "metadata": {
      "needs_background": "light"
     },
     "output_type": "display_data"
    },
    {
     "data": {
      "image/png": "[encoded data removed]",
      "text/plain": [
       "<Figure size 432x288 with 1 Axes>"
      ]
     },
     "metadata": {
      "needs_background": "light"
     },
     "output_type": "display_data"
    },
    {
     "data": {
      "image/png": "[encoded data removed]",
      "text/plain": [
       "<Figure size 432x288 with 1 Axes>"
      ]
     },
     "metadata": {
      "needs_background": "light"
     },
     "output_type": "display_data"
    }
   ],
   "source": [
    "from sklearn.model_selection import train_test_split\n",
    "from sklearn.metrics import mean_squared_error\n",
    "from sklearn.linear_model import LinearRegression\n",
    "linreg = LinearRegression()\n",
    "\n",
    "### Loading data\n",
    "df = load_kc_data(filename='kc_house_data.csv', verbose=False)\n",
    "\n",
    "### Checking and cleaning data\n",
    "df = replace_with_year(df, 'date')\n",
    "na_columns = check_for_na_values(df)\n",
    "df = drop_columns(df, [\"id\"])\n",
    "df = drop_na_rows(df, [\"waterfront\", \"view\"])\n",
    "na_columns = check_for_na_values(df)\n",
    "df = convert_columns_with_types(df, \"yr_renovated\", int, fill_na=True)\n",
    "df = replace_values_with_another_column(df, [0], \"yr_renovated\", \"yr_built\", replace_na=True)\n",
    "na_columns = check_for_na_values(df)\n",
    "nonnumeric_columns = check_for_nonnumeric_columns(df, print_num_unique_values=5)\n",
    "# df = drop_rows_with_value(df, 'sqft_basement', '?')\n",
    "df = replace_values_with_value(df, '?', 'sqft_basement', '0.0')\n",
    "nonnumeric_columns = check_for_nonnumeric_columns(df, print_num_unique_values=5)\n",
    "df = convert_columns_with_function(df, \"sqft_basement\", pd.to_numeric)\n",
    "nonnumeric_columns = check_for_nonnumeric_columns(df, print_num_unique_values=5)\n",
    "columns_with_zeros = check_for_zeros(df)\n",
    "\n",
    "num_splits = 10\n",
    "test_size = 0.33\n",
    "train_err = []\n",
    "test_err = []\n",
    "for i in range(num_splits):\n",
    "    ### Split predictors and target for full dataset\n",
    "    X = df.drop(labels=[\"price\"], axis=1)\n",
    "    y = df[\"price\"]\n",
    "    \n",
    "    ### Split the data\n",
    "    X_train, X_test, y_train, y_test = train_test_split(X, y, test_size=test_size)\n",
    "    ### Build training and test dataframes\n",
    "    train_df = pd.concat([X_train, y_train], axis=1)\n",
    "    test_df = pd.concat([X_test, y_test], axis=1)\n",
    "    \n",
    "    ### Add new features based on training data only\n",
    "    train_df = binarize_column(train_df, \"view\", new_column_name=\"was_viewed\")\n",
    "    train_df = binarize_column(train_df, \"sqft_basement\", new_column_name=\"has_basement\")\n",
    "    train_df = add_dummy_zipcodes(train_df)\n",
    "    \n",
    "    test_df = binarize_column(test_df, \"view\", new_column_name=\"was_viewed\")\n",
    "    test_df = binarize_column(test_df, \"sqft_basement\", new_column_name=\"has_basement\")\n",
    "    test_df = add_dummy_zipcodes(test_df)\n",
    "    \n",
    "    ### Transforming data\n",
    "    train_df, train_log_transformed_columns = log_transform_columns(train_df, ['bedrooms', 'bathrooms', \n",
    "                                                                        'sqft_living', 'sqft_lot', 'floors', \n",
    "                                                                        'condition', 'grade', 'sqft_above',\n",
    "                                                                        'sqft_living15', 'sqft_lot15'],\n",
    "                                                              replace_only_when_improved=True, verbose=False, mute=True)\n",
    "    test_df, test_log_transformed_columns = log_transform_columns(test_df, train_log_transformed_columns,\n",
    "                                                              replace_only_when_improved=False, verbose=False, mute=True)\n",
    "    \n",
    "    ### Normalizing data\n",
    "    columns_to_standardize = ['bedrooms', 'bathrooms', \n",
    "                                    'sqft_living', 'sqft_lot', 'floors', \n",
    "                                    'condition', 'grade', 'sqft_above',\n",
    "                                    'sqft_living15', 'sqft_lot15']\n",
    "    \n",
    "    normalization_df = train_df.copy()\n",
    "    \n",
    "    train_df = scale_and_normalize_columns(train_df, columns_to_standardize, \n",
    "                                           [standardization]*len(columns_to_standardize), fit_df=normalization_df)\n",
    "    test_df = scale_and_normalize_columns(test_df, columns_to_standardize, \n",
    "                                           [standardization]*len(columns_to_standardize), fit_df=normalization_df)\n",
    "    \n",
    "    ### Checking for outliers\n",
    "\n",
    "    ### Checking\n",
    "    # check_for_linear_correlations(df, target='price')\n",
    "    # check_for_normality(df)\n",
    "    # check_for_heteroscedasticity ## not yet implemented\n",
    "    \n",
    "    ### Feature selection\n",
    "    #rfe_features = recursive_feature_elimination_get_features(df, \"price\", n_features_to_select=int(len(df.columns)*0.90))\n",
    "    #rfe_features = recursive_feature_elimination_get_features(df, \"price\")\n",
    "    #print(rfe_features)\n",
    "    #df = df.loc[:,rfe_features + [\"price\"]]\n",
    "    \n",
    "    ### Build the model\n",
    "    #linreg.fit(X_train, y_train)\n",
    "    train_linreg = build_linear_model_sklearn(train_df, \"price\")\n",
    "    # test_linreg = build_linear_model_sklearn(test_df, \"price\")\n",
    "    \n",
    "    ### Compute errors and correlation coefficients\n",
    "#     y_hat_train = linreg.predict(X_train)\n",
    "#     y_hat_test = linreg.predict(X_test)\n",
    "#     train_err.append(np.sqrt(mean_squared_error(y_train, y_hat_train)))\n",
    "#     test_err.append(np.sqrt(mean_squared_error(y_test, y_hat_test)))\n",
    "    y_hat_train = get_predictions_from_linear_model_sklearn(train_df, train_linreg, \"price\")\n",
    "    y_hat_test = get_predictions_from_linear_model_sklearn(test_df, train_linreg, \"price\")\n",
    "    train_err.append(np.sqrt(mean_squared_error(train_df[\"price\"], y_hat_train)))\n",
    "    test_err.append(np.sqrt(mean_squared_error(test_df[\"price\"], y_hat_test)))\n",
    "    \n",
    "    train_rsq = get_rsq_sklearn(train_df, train_linreg, \"price\")\n",
    "    train_adjusted_rsq = get_adjusted_rsq_sklearn(train_df, train_linreg, \"price\")\n",
    "    \n",
    "    test_rsq = get_rsq_sklearn(test_df, train_linreg, \"price\")\n",
    "    test_adjusted_rsq = get_adjusted_rsq_sklearn(test_df, train_linreg, \"price\")\n",
    "\n",
    "### Plot errors\n",
    "plt.scatter(list(range(num_splits)), train_err, label='Training Error (RMSE))')\n",
    "plt.scatter(list(range(num_splits)), test_err, label='Testing Error (RMSE)')\n",
    "print(f\"Mean training RMSE: {np.mean(train_err)}\")\n",
    "print(f\"Mean testing RMSE: {np.mean(test_err)}\")\n",
    "plt.legend();\n",
    "\n",
    "plot_predictions_vs_reality(train_df, \"price\", y_hat_train)\n",
    "plot_predictions_vs_reality(test_df, \"price\", y_hat_test)"
   ]
  },
  {
   "cell_type": "code",
   "execution_count": 50,
   "metadata": {},
   "outputs": [
    {
     "data": {
      "text/plain": [
       "19164"
      ]
     },
     "execution_count": 50,
     "metadata": {},
     "output_type": "execute_result"
    }
   ],
   "source": [
    "len(df)"
   ]
  },
  {
   "cell_type": "code",
   "execution_count": 52,
   "metadata": {},
   "outputs": [
    {
     "data": {
      "text/plain": [
       "0.961020663744521"
      ]
     },
     "execution_count": 52,
     "metadata": {},
     "output_type": "execute_result"
    }
   ],
   "source": [
    "np.sum(df[\"price\"]>200000)/len(df)"
   ]
  },
  {
   "cell_type": "code",
   "execution_count": 53,
   "metadata": {},
   "outputs": [
    {
     "data": {
      "text/plain": [
       "541448.9606032143"
      ]
     },
     "execution_count": 53,
     "metadata": {},
     "output_type": "execute_result"
    }
   ],
   "source": [
    "np.mean(df[\"price\"])"
   ]
  },
  {
   "cell_type": "code",
   "execution_count": 56,
   "metadata": {},
   "outputs": [
    {
     "data": {
      "text/plain": [
       "<matplotlib.axes._subplots.AxesSubplot at 0x1a1832c9e8>"
      ]
     },
     "execution_count": 56,
     "metadata": {},
     "output_type": "execute_result"
    },
    {
     "data": {
      "image/png": "[encoded data removed]",
      "text/plain": [
       "<Figure size 1440x1440 with 1 Axes>"
      ]
     },
     "metadata": {
      "needs_background": "light"
     },
     "output_type": "display_data"
    }
   ],
   "source": [
    "df[\"price\"].plot.hist(bins=50, figsize=(20,20))"
   ]
  },
  {
   "cell_type": "markdown",
   "metadata": {},
   "source": [
    "# Trying to compute errors when log transforming prices"
   ]
  },
  {
   "cell_type": "code",
   "execution_count": 57,
   "metadata": {},
   "outputs": [
    {
     "name": "stdout",
     "output_type": "stream",
     "text": [
      "waterfront has 2376 NA values, which corresponds to 11.00% of the data.\n",
      "view has 63 NA values, which corresponds to 0.29% of the data.\n",
      "yr_renovated has 3842 NA values, which corresponds to 17.79% of the data.\n",
      "Index(['date', 'price', 'bedrooms', 'bathrooms', 'sqft_living', 'sqft_lot',\n",
      "       'floors', 'waterfront', 'view', 'condition', 'grade', 'sqft_above',\n",
      "       'sqft_basement', 'yr_built', 'yr_renovated', 'zipcode', 'lat', 'long',\n",
      "       'sqft_living15', 'sqft_lot15'],\n",
      "      dtype='object')\n",
      "yr_renovated has 3402 NA values, which corresponds to 17.75% of the data.\n",
      "There are no NA values in the dataframe.\n",
      "sqft_basement is a nonnumeric column (object).\n",
      "\n",
      "sqft_basement information:\n",
      "298 unique values.\n",
      "Top 5 unique values\n",
      "1. 0.0 has 11379 entries, which is  59.38% of the data.\n",
      "2. ? has 415 entries, which is  2.17% of the data.\n",
      "3. 600.0 has 190 entries, which is  0.99% of the data.\n",
      "4. 700.0 has 187 entries, which is  0.98% of the data.\n",
      "5. 500.0 has 186 entries, which is  0.97% of the data.\n",
      "sqft_basement is a nonnumeric column (object).\n",
      "\n",
      "sqft_basement information:\n",
      "297 unique values.\n",
      "Top 5 unique values\n",
      "1. 0.0 has 11794 entries, which is  61.54% of the data.\n",
      "2. 600.0 has 190 entries, which is  0.99% of the data.\n",
      "3. 700.0 has 187 entries, which is  0.98% of the data.\n",
      "4. 500.0 has 186 entries, which is  0.97% of the data.\n",
      "5. 800.0 has 171 entries, which is  0.89% of the data.\n",
      "There are no nonnumeric columns.\n",
      "waterfront has 19019 zeros, which is  99.24% of the data.\n",
      "view has 17312 zeros, which is  90.34% of the data.\n",
      "sqft_basement has 11794 zeros, which is  61.54% of the data.\n",
      "Mean training RMSE: 135687.4878944513\n",
      "Mean testing RMSE: 133773.87629042804\n"
     ]
    },
    {
     "data": {
      "image/png": "[encoded data removed]",
      "text/plain": [
       "<Figure size 432x288 with 1 Axes>"
      ]
     },
     "metadata": {
      "needs_background": "light"
     },
     "output_type": "display_data"
    }
   ],
   "source": [
    "from sklearn.model_selection import train_test_split\n",
    "from sklearn.metrics import mean_squared_error\n",
    "from sklearn.linear_model import LinearRegression\n",
    "linreg = LinearRegression()\n",
    "\n",
    "### Loading data\n",
    "df = load_kc_data(filename='kc_house_data.csv', verbose=False)\n",
    "\n",
    "### Checking and cleaning data\n",
    "df = replace_with_year(df, 'date')\n",
    "na_columns = check_for_na_values(df)\n",
    "df = drop_columns(df, [\"id\"])\n",
    "df = drop_na_rows(df, [\"waterfront\", \"view\"])\n",
    "na_columns = check_for_na_values(df)\n",
    "df = convert_columns_with_types(df, \"yr_renovated\", int, fill_na=True)\n",
    "df = replace_values_with_another_column(df, [0], \"yr_renovated\", \"yr_built\", replace_na=True)\n",
    "na_columns = check_for_na_values(df)\n",
    "nonnumeric_columns = check_for_nonnumeric_columns(df, print_num_unique_values=5)\n",
    "# df = drop_rows_with_value(df, 'sqft_basement', '?')\n",
    "df = replace_values_with_value(df, '?', 'sqft_basement', '0.0')\n",
    "nonnumeric_columns = check_for_nonnumeric_columns(df, print_num_unique_values=5)\n",
    "df = convert_columns_with_function(df, \"sqft_basement\", pd.to_numeric)\n",
    "nonnumeric_columns = check_for_nonnumeric_columns(df, print_num_unique_values=5)\n",
    "columns_with_zeros = check_for_zeros(df)\n",
    "\n",
    "num_splits = 10\n",
    "test_size = 0.33\n",
    "train_err = []\n",
    "test_err = []\n",
    "for i in range(num_splits):\n",
    "    ### Split predictors and target for full dataset\n",
    "    X = df.drop(labels=[\"price\"], axis=1)\n",
    "    y = df[\"price\"]\n",
    "    \n",
    "    ### Split the data\n",
    "    X_train, X_test, y_train, y_test = train_test_split(X, y, test_size=test_size)\n",
    "    ### Build training and test dataframes\n",
    "    train_df = pd.concat([X_train, y_train], axis=1)\n",
    "    test_df = pd.concat([X_test, y_test], axis=1)\n",
    "    \n",
    "    ### Add new features based on training data only\n",
    "    train_df = binarize_column(train_df, \"view\", new_column_name=\"was_viewed\")\n",
    "    train_df = binarize_column(train_df, \"sqft_basement\", new_column_name=\"has_basement\")\n",
    "    train_df = add_dummy_zipcodes(train_df)\n",
    "    \n",
    "    test_df = binarize_column(test_df, \"view\", new_column_name=\"was_viewed\")\n",
    "    test_df = binarize_column(test_df, \"sqft_basement\", new_column_name=\"has_basement\")\n",
    "    test_df = add_dummy_zipcodes(test_df)\n",
    "    \n",
    "    ### Transforming data\n",
    "    train_df, train_log_transformed_columns = log_transform_columns(train_df, ['price', 'bedrooms', 'bathrooms', \n",
    "                                                                        'sqft_living', 'sqft_lot', 'floors', \n",
    "                                                                        'condition', 'grade', 'sqft_above',\n",
    "                                                                        'sqft_living15', 'sqft_lot15'],\n",
    "                                                              replace_only_when_improved=True, verbose=False, mute=True)\n",
    "    test_df, test_log_transformed_columns = log_transform_columns(test_df, train_log_transformed_columns,\n",
    "                                                              replace_only_when_improved=False, verbose=False, mute=True)\n",
    "    \n",
    "    ### Normalizing data\n",
    "    columns_to_standardize = ['bedrooms', 'bathrooms', \n",
    "                                    'sqft_living', 'sqft_lot', 'floors', \n",
    "                                    'condition', 'grade', 'sqft_above',\n",
    "                                    'sqft_living15', 'sqft_lot15']\n",
    "    \n",
    "    normalization_df = train_df.copy()\n",
    "    \n",
    "    train_df = scale_and_normalize_columns(train_df, columns_to_standardize, \n",
    "                                           [standardization]*len(columns_to_standardize), fit_df=normalization_df)\n",
    "    test_df = scale_and_normalize_columns(test_df, columns_to_standardize, \n",
    "                                           [standardization]*len(columns_to_standardize), fit_df=normalization_df)\n",
    "    \n",
    "    ### Checking for outliers\n",
    "\n",
    "    ### Checking\n",
    "    # check_for_linear_correlations(df, target='price')\n",
    "    # check_for_normality(df)\n",
    "    # check_for_heteroscedasticity ## not yet implemented\n",
    "    \n",
    "    ### Feature selection\n",
    "    #rfe_features = recursive_feature_elimination_get_features(df, \"price\", n_features_to_select=int(len(df.columns)*0.90))\n",
    "    #rfe_features = recursive_feature_elimination_get_features(df, \"price\")\n",
    "    #print(rfe_features)\n",
    "    #df = df.loc[:,rfe_features + [\"price\"]]\n",
    "    \n",
    "    ### Build the model\n",
    "    #linreg.fit(X_train, y_train)\n",
    "    train_linreg = build_linear_model_sklearn(train_df, \"price\")\n",
    "    # test_linreg = build_linear_model_sklearn(test_df, \"price\")\n",
    "    \n",
    "    ### Compute errors and correlation coefficients\n",
    "    y_hat_train = np.exp(get_predictions_from_linear_model_sklearn(train_df, train_linreg, \"price\"))\n",
    "    y_hat_test = np.exp(get_predictions_from_linear_model_sklearn(test_df, train_linreg, \"price\"))\n",
    "    train_err.append(np.sqrt(mean_squared_error(np.exp(train_df[\"price\"]), y_hat_train)))\n",
    "    test_err.append(np.sqrt(mean_squared_error(np.exp(test_df[\"price\"]), y_hat_test)))\n",
    "    \n",
    "#     train_rsq = get_rsq_sklearn(train_df, train_linreg, \"price\")\n",
    "#     train_adjusted_rsq = get_adjusted_rsq_sklearn(train_df, train_linreg, \"price\")\n",
    "    \n",
    "#     test_rsq = get_rsq_sklearn(test_df, train_linreg, \"price\")\n",
    "#     test_adjusted_rsq = get_adjusted_rsq_sklearn(test_df, train_linreg, \"price\")\n",
    "\n",
    "### Plot errors\n",
    "plt.scatter(list(range(num_splits)), train_err, label='Training Error (RMSE))')\n",
    "plt.scatter(list(range(num_splits)), test_err, label='Testing Error (RMSE)')\n",
    "print(f\"Mean training RMSE: {np.mean(train_err)}\")\n",
    "print(f\"Mean testing RMSE: {np.mean(test_err)}\")\n",
    "plt.legend();\n",
    "\n",
    "# plot_predictions_vs_reality(train_df, \"price\", y_hat_train)\n",
    "# plot_predictions_vs_reality(test_df, \"price\", y_hat_test)"
   ]
  },
  {
   "cell_type": "code",
   "execution_count": null,
   "metadata": {
    "collapsed": true
   },
   "outputs": [],
   "source": []
  }
 ],
 "metadata": {
  "kernelspec": {
   "display_name": "learn-env",
   "language": "python",
   "name": "learn-env"
  },
  "language_info": {
   "codemirror_mode": {
    "name": "ipython",
    "version": 3
   },
   "file_extension": ".py",
   "mimetype": "text/x-python",
   "name": "python",
   "nbconvert_exporter": "python",
   "pygments_lexer": "ipython3",
   "version": "3.6.6"
  }
 },
 "nbformat": 4,
 "nbformat_minor": 2
}
